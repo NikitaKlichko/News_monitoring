{
  "nbformat": 4,
  "nbformat_minor": 0,
  "metadata": {
    "colab": {
      "provenance": [],
      "collapsed_sections": [
        "tfnp-RAx2qE_",
        "WlaCm4nTYi1Y",
        "3rgPH8i-Pizu",
        "EhYH99iwPIWE",
        "T_0VNY3yPL46"
      ],
      "gpuType": "T4"
    },
    "kernelspec": {
      "name": "python3",
      "display_name": "Python 3"
    },
    "language_info": {
      "name": "python"
    },
    "widgets": {
      "application/vnd.jupyter.widget-state+json": {
        "4af5d6e8d3484a428ba51df35032a54e": {
          "model_module": "@jupyter-widgets/controls",
          "model_name": "HBoxModel",
          "model_module_version": "1.5.0",
          "state": {
            "_dom_classes": [],
            "_model_module": "@jupyter-widgets/controls",
            "_model_module_version": "1.5.0",
            "_model_name": "HBoxModel",
            "_view_count": null,
            "_view_module": "@jupyter-widgets/controls",
            "_view_module_version": "1.5.0",
            "_view_name": "HBoxView",
            "box_style": "",
            "children": [
              "IPY_MODEL_674f5ac9612d4b2a9dcaca2cd06f937b",
              "IPY_MODEL_4f582644bc1949b79a326a0436197c38",
              "IPY_MODEL_fce7c864cf404c1bbce380f8563b15fa"
            ],
            "layout": "IPY_MODEL_c52e291be4ef4989aec4bb7cfd280c10"
          }
        },
        "674f5ac9612d4b2a9dcaca2cd06f937b": {
          "model_module": "@jupyter-widgets/controls",
          "model_name": "HTMLModel",
          "model_module_version": "1.5.0",
          "state": {
            "_dom_classes": [],
            "_model_module": "@jupyter-widgets/controls",
            "_model_module_version": "1.5.0",
            "_model_name": "HTMLModel",
            "_view_count": null,
            "_view_module": "@jupyter-widgets/controls",
            "_view_module_version": "1.5.0",
            "_view_name": "HTMLView",
            "description": "",
            "description_tooltip": null,
            "layout": "IPY_MODEL_eeef88d507d1473286a87126696cb0b4",
            "placeholder": "​",
            "style": "IPY_MODEL_b12c96c19fc5481ba93795408e0ad03c",
            "value": "100%"
          }
        },
        "4f582644bc1949b79a326a0436197c38": {
          "model_module": "@jupyter-widgets/controls",
          "model_name": "FloatProgressModel",
          "model_module_version": "1.5.0",
          "state": {
            "_dom_classes": [],
            "_model_module": "@jupyter-widgets/controls",
            "_model_module_version": "1.5.0",
            "_model_name": "FloatProgressModel",
            "_view_count": null,
            "_view_module": "@jupyter-widgets/controls",
            "_view_module_version": "1.5.0",
            "_view_name": "ProgressView",
            "bar_style": "success",
            "description": "",
            "description_tooltip": null,
            "layout": "IPY_MODEL_66c0e3cd9e4e47b4a78ae127ebae4d6a",
            "max": 1669,
            "min": 0,
            "orientation": "horizontal",
            "style": "IPY_MODEL_c9493462ae05433589ca5614d8f37650",
            "value": 1669
          }
        },
        "fce7c864cf404c1bbce380f8563b15fa": {
          "model_module": "@jupyter-widgets/controls",
          "model_name": "HTMLModel",
          "model_module_version": "1.5.0",
          "state": {
            "_dom_classes": [],
            "_model_module": "@jupyter-widgets/controls",
            "_model_module_version": "1.5.0",
            "_model_name": "HTMLModel",
            "_view_count": null,
            "_view_module": "@jupyter-widgets/controls",
            "_view_module_version": "1.5.0",
            "_view_name": "HTMLView",
            "description": "",
            "description_tooltip": null,
            "layout": "IPY_MODEL_b0fa5a24b84444d3bc1da48cd757c03b",
            "placeholder": "​",
            "style": "IPY_MODEL_73da1947633741d4bece754f7c3914cc",
            "value": " 1669/1669 [00:11&lt;00:00, 170.51it/s]"
          }
        },
        "c52e291be4ef4989aec4bb7cfd280c10": {
          "model_module": "@jupyter-widgets/base",
          "model_name": "LayoutModel",
          "model_module_version": "1.2.0",
          "state": {
            "_model_module": "@jupyter-widgets/base",
            "_model_module_version": "1.2.0",
            "_model_name": "LayoutModel",
            "_view_count": null,
            "_view_module": "@jupyter-widgets/base",
            "_view_module_version": "1.2.0",
            "_view_name": "LayoutView",
            "align_content": null,
            "align_items": null,
            "align_self": null,
            "border": null,
            "bottom": null,
            "display": null,
            "flex": null,
            "flex_flow": null,
            "grid_area": null,
            "grid_auto_columns": null,
            "grid_auto_flow": null,
            "grid_auto_rows": null,
            "grid_column": null,
            "grid_gap": null,
            "grid_row": null,
            "grid_template_areas": null,
            "grid_template_columns": null,
            "grid_template_rows": null,
            "height": null,
            "justify_content": null,
            "justify_items": null,
            "left": null,
            "margin": null,
            "max_height": null,
            "max_width": null,
            "min_height": null,
            "min_width": null,
            "object_fit": null,
            "object_position": null,
            "order": null,
            "overflow": null,
            "overflow_x": null,
            "overflow_y": null,
            "padding": null,
            "right": null,
            "top": null,
            "visibility": null,
            "width": null
          }
        },
        "eeef88d507d1473286a87126696cb0b4": {
          "model_module": "@jupyter-widgets/base",
          "model_name": "LayoutModel",
          "model_module_version": "1.2.0",
          "state": {
            "_model_module": "@jupyter-widgets/base",
            "_model_module_version": "1.2.0",
            "_model_name": "LayoutModel",
            "_view_count": null,
            "_view_module": "@jupyter-widgets/base",
            "_view_module_version": "1.2.0",
            "_view_name": "LayoutView",
            "align_content": null,
            "align_items": null,
            "align_self": null,
            "border": null,
            "bottom": null,
            "display": null,
            "flex": null,
            "flex_flow": null,
            "grid_area": null,
            "grid_auto_columns": null,
            "grid_auto_flow": null,
            "grid_auto_rows": null,
            "grid_column": null,
            "grid_gap": null,
            "grid_row": null,
            "grid_template_areas": null,
            "grid_template_columns": null,
            "grid_template_rows": null,
            "height": null,
            "justify_content": null,
            "justify_items": null,
            "left": null,
            "margin": null,
            "max_height": null,
            "max_width": null,
            "min_height": null,
            "min_width": null,
            "object_fit": null,
            "object_position": null,
            "order": null,
            "overflow": null,
            "overflow_x": null,
            "overflow_y": null,
            "padding": null,
            "right": null,
            "top": null,
            "visibility": null,
            "width": null
          }
        },
        "b12c96c19fc5481ba93795408e0ad03c": {
          "model_module": "@jupyter-widgets/controls",
          "model_name": "DescriptionStyleModel",
          "model_module_version": "1.5.0",
          "state": {
            "_model_module": "@jupyter-widgets/controls",
            "_model_module_version": "1.5.0",
            "_model_name": "DescriptionStyleModel",
            "_view_count": null,
            "_view_module": "@jupyter-widgets/base",
            "_view_module_version": "1.2.0",
            "_view_name": "StyleView",
            "description_width": ""
          }
        },
        "66c0e3cd9e4e47b4a78ae127ebae4d6a": {
          "model_module": "@jupyter-widgets/base",
          "model_name": "LayoutModel",
          "model_module_version": "1.2.0",
          "state": {
            "_model_module": "@jupyter-widgets/base",
            "_model_module_version": "1.2.0",
            "_model_name": "LayoutModel",
            "_view_count": null,
            "_view_module": "@jupyter-widgets/base",
            "_view_module_version": "1.2.0",
            "_view_name": "LayoutView",
            "align_content": null,
            "align_items": null,
            "align_self": null,
            "border": null,
            "bottom": null,
            "display": null,
            "flex": null,
            "flex_flow": null,
            "grid_area": null,
            "grid_auto_columns": null,
            "grid_auto_flow": null,
            "grid_auto_rows": null,
            "grid_column": null,
            "grid_gap": null,
            "grid_row": null,
            "grid_template_areas": null,
            "grid_template_columns": null,
            "grid_template_rows": null,
            "height": null,
            "justify_content": null,
            "justify_items": null,
            "left": null,
            "margin": null,
            "max_height": null,
            "max_width": null,
            "min_height": null,
            "min_width": null,
            "object_fit": null,
            "object_position": null,
            "order": null,
            "overflow": null,
            "overflow_x": null,
            "overflow_y": null,
            "padding": null,
            "right": null,
            "top": null,
            "visibility": null,
            "width": null
          }
        },
        "c9493462ae05433589ca5614d8f37650": {
          "model_module": "@jupyter-widgets/controls",
          "model_name": "ProgressStyleModel",
          "model_module_version": "1.5.0",
          "state": {
            "_model_module": "@jupyter-widgets/controls",
            "_model_module_version": "1.5.0",
            "_model_name": "ProgressStyleModel",
            "_view_count": null,
            "_view_module": "@jupyter-widgets/base",
            "_view_module_version": "1.2.0",
            "_view_name": "StyleView",
            "bar_color": null,
            "description_width": ""
          }
        },
        "b0fa5a24b84444d3bc1da48cd757c03b": {
          "model_module": "@jupyter-widgets/base",
          "model_name": "LayoutModel",
          "model_module_version": "1.2.0",
          "state": {
            "_model_module": "@jupyter-widgets/base",
            "_model_module_version": "1.2.0",
            "_model_name": "LayoutModel",
            "_view_count": null,
            "_view_module": "@jupyter-widgets/base",
            "_view_module_version": "1.2.0",
            "_view_name": "LayoutView",
            "align_content": null,
            "align_items": null,
            "align_self": null,
            "border": null,
            "bottom": null,
            "display": null,
            "flex": null,
            "flex_flow": null,
            "grid_area": null,
            "grid_auto_columns": null,
            "grid_auto_flow": null,
            "grid_auto_rows": null,
            "grid_column": null,
            "grid_gap": null,
            "grid_row": null,
            "grid_template_areas": null,
            "grid_template_columns": null,
            "grid_template_rows": null,
            "height": null,
            "justify_content": null,
            "justify_items": null,
            "left": null,
            "margin": null,
            "max_height": null,
            "max_width": null,
            "min_height": null,
            "min_width": null,
            "object_fit": null,
            "object_position": null,
            "order": null,
            "overflow": null,
            "overflow_x": null,
            "overflow_y": null,
            "padding": null,
            "right": null,
            "top": null,
            "visibility": null,
            "width": null
          }
        },
        "73da1947633741d4bece754f7c3914cc": {
          "model_module": "@jupyter-widgets/controls",
          "model_name": "DescriptionStyleModel",
          "model_module_version": "1.5.0",
          "state": {
            "_model_module": "@jupyter-widgets/controls",
            "_model_module_version": "1.5.0",
            "_model_name": "DescriptionStyleModel",
            "_view_count": null,
            "_view_module": "@jupyter-widgets/base",
            "_view_module_version": "1.2.0",
            "_view_name": "StyleView",
            "description_width": ""
          }
        },
        "d79f579e662a4427867fb734b4bb7626": {
          "model_module": "@jupyter-widgets/controls",
          "model_name": "HBoxModel",
          "model_module_version": "1.5.0",
          "state": {
            "_dom_classes": [],
            "_model_module": "@jupyter-widgets/controls",
            "_model_module_version": "1.5.0",
            "_model_name": "HBoxModel",
            "_view_count": null,
            "_view_module": "@jupyter-widgets/controls",
            "_view_module_version": "1.5.0",
            "_view_name": "HBoxView",
            "box_style": "",
            "children": [
              "IPY_MODEL_2f2bb78a1d1b4fe6b70cbe5111137023",
              "IPY_MODEL_aecde9242f4e481ab7ae3c45c45eec6f",
              "IPY_MODEL_16819ea7fb0a4b64b18fe6a58440aa69"
            ],
            "layout": "IPY_MODEL_4330afe5916942c69f5844b2d9b885c8"
          }
        },
        "2f2bb78a1d1b4fe6b70cbe5111137023": {
          "model_module": "@jupyter-widgets/controls",
          "model_name": "HTMLModel",
          "model_module_version": "1.5.0",
          "state": {
            "_dom_classes": [],
            "_model_module": "@jupyter-widgets/controls",
            "_model_module_version": "1.5.0",
            "_model_name": "HTMLModel",
            "_view_count": null,
            "_view_module": "@jupyter-widgets/controls",
            "_view_module_version": "1.5.0",
            "_view_name": "HTMLView",
            "description": "",
            "description_tooltip": null,
            "layout": "IPY_MODEL_272173ba196d4bed95b1c20b5acafc09",
            "placeholder": "​",
            "style": "IPY_MODEL_d98b32c40b91414ebbcac92d86de0d01",
            "value": "100%"
          }
        },
        "aecde9242f4e481ab7ae3c45c45eec6f": {
          "model_module": "@jupyter-widgets/controls",
          "model_name": "FloatProgressModel",
          "model_module_version": "1.5.0",
          "state": {
            "_dom_classes": [],
            "_model_module": "@jupyter-widgets/controls",
            "_model_module_version": "1.5.0",
            "_model_name": "FloatProgressModel",
            "_view_count": null,
            "_view_module": "@jupyter-widgets/controls",
            "_view_module_version": "1.5.0",
            "_view_name": "ProgressView",
            "bar_style": "success",
            "description": "",
            "description_tooltip": null,
            "layout": "IPY_MODEL_f3626c3c07444df2a97b1263a7067432",
            "max": 10571,
            "min": 0,
            "orientation": "horizontal",
            "style": "IPY_MODEL_adf0ae5511ba4bed9e503c61cf61e25e",
            "value": 10571
          }
        },
        "16819ea7fb0a4b64b18fe6a58440aa69": {
          "model_module": "@jupyter-widgets/controls",
          "model_name": "HTMLModel",
          "model_module_version": "1.5.0",
          "state": {
            "_dom_classes": [],
            "_model_module": "@jupyter-widgets/controls",
            "_model_module_version": "1.5.0",
            "_model_name": "HTMLModel",
            "_view_count": null,
            "_view_module": "@jupyter-widgets/controls",
            "_view_module_version": "1.5.0",
            "_view_name": "HTMLView",
            "description": "",
            "description_tooltip": null,
            "layout": "IPY_MODEL_ee294c10356d44929d1a4e8450f7c8af",
            "placeholder": "​",
            "style": "IPY_MODEL_6199117a9e7f49f99de1759cfe096221",
            "value": " 10571/10571 [08:00&lt;00:00, 24.97it/s]"
          }
        },
        "4330afe5916942c69f5844b2d9b885c8": {
          "model_module": "@jupyter-widgets/base",
          "model_name": "LayoutModel",
          "model_module_version": "1.2.0",
          "state": {
            "_model_module": "@jupyter-widgets/base",
            "_model_module_version": "1.2.0",
            "_model_name": "LayoutModel",
            "_view_count": null,
            "_view_module": "@jupyter-widgets/base",
            "_view_module_version": "1.2.0",
            "_view_name": "LayoutView",
            "align_content": null,
            "align_items": null,
            "align_self": null,
            "border": null,
            "bottom": null,
            "display": null,
            "flex": null,
            "flex_flow": null,
            "grid_area": null,
            "grid_auto_columns": null,
            "grid_auto_flow": null,
            "grid_auto_rows": null,
            "grid_column": null,
            "grid_gap": null,
            "grid_row": null,
            "grid_template_areas": null,
            "grid_template_columns": null,
            "grid_template_rows": null,
            "height": null,
            "justify_content": null,
            "justify_items": null,
            "left": null,
            "margin": null,
            "max_height": null,
            "max_width": null,
            "min_height": null,
            "min_width": null,
            "object_fit": null,
            "object_position": null,
            "order": null,
            "overflow": null,
            "overflow_x": null,
            "overflow_y": null,
            "padding": null,
            "right": null,
            "top": null,
            "visibility": null,
            "width": null
          }
        },
        "272173ba196d4bed95b1c20b5acafc09": {
          "model_module": "@jupyter-widgets/base",
          "model_name": "LayoutModel",
          "model_module_version": "1.2.0",
          "state": {
            "_model_module": "@jupyter-widgets/base",
            "_model_module_version": "1.2.0",
            "_model_name": "LayoutModel",
            "_view_count": null,
            "_view_module": "@jupyter-widgets/base",
            "_view_module_version": "1.2.0",
            "_view_name": "LayoutView",
            "align_content": null,
            "align_items": null,
            "align_self": null,
            "border": null,
            "bottom": null,
            "display": null,
            "flex": null,
            "flex_flow": null,
            "grid_area": null,
            "grid_auto_columns": null,
            "grid_auto_flow": null,
            "grid_auto_rows": null,
            "grid_column": null,
            "grid_gap": null,
            "grid_row": null,
            "grid_template_areas": null,
            "grid_template_columns": null,
            "grid_template_rows": null,
            "height": null,
            "justify_content": null,
            "justify_items": null,
            "left": null,
            "margin": null,
            "max_height": null,
            "max_width": null,
            "min_height": null,
            "min_width": null,
            "object_fit": null,
            "object_position": null,
            "order": null,
            "overflow": null,
            "overflow_x": null,
            "overflow_y": null,
            "padding": null,
            "right": null,
            "top": null,
            "visibility": null,
            "width": null
          }
        },
        "d98b32c40b91414ebbcac92d86de0d01": {
          "model_module": "@jupyter-widgets/controls",
          "model_name": "DescriptionStyleModel",
          "model_module_version": "1.5.0",
          "state": {
            "_model_module": "@jupyter-widgets/controls",
            "_model_module_version": "1.5.0",
            "_model_name": "DescriptionStyleModel",
            "_view_count": null,
            "_view_module": "@jupyter-widgets/base",
            "_view_module_version": "1.2.0",
            "_view_name": "StyleView",
            "description_width": ""
          }
        },
        "f3626c3c07444df2a97b1263a7067432": {
          "model_module": "@jupyter-widgets/base",
          "model_name": "LayoutModel",
          "model_module_version": "1.2.0",
          "state": {
            "_model_module": "@jupyter-widgets/base",
            "_model_module_version": "1.2.0",
            "_model_name": "LayoutModel",
            "_view_count": null,
            "_view_module": "@jupyter-widgets/base",
            "_view_module_version": "1.2.0",
            "_view_name": "LayoutView",
            "align_content": null,
            "align_items": null,
            "align_self": null,
            "border": null,
            "bottom": null,
            "display": null,
            "flex": null,
            "flex_flow": null,
            "grid_area": null,
            "grid_auto_columns": null,
            "grid_auto_flow": null,
            "grid_auto_rows": null,
            "grid_column": null,
            "grid_gap": null,
            "grid_row": null,
            "grid_template_areas": null,
            "grid_template_columns": null,
            "grid_template_rows": null,
            "height": null,
            "justify_content": null,
            "justify_items": null,
            "left": null,
            "margin": null,
            "max_height": null,
            "max_width": null,
            "min_height": null,
            "min_width": null,
            "object_fit": null,
            "object_position": null,
            "order": null,
            "overflow": null,
            "overflow_x": null,
            "overflow_y": null,
            "padding": null,
            "right": null,
            "top": null,
            "visibility": null,
            "width": null
          }
        },
        "adf0ae5511ba4bed9e503c61cf61e25e": {
          "model_module": "@jupyter-widgets/controls",
          "model_name": "ProgressStyleModel",
          "model_module_version": "1.5.0",
          "state": {
            "_model_module": "@jupyter-widgets/controls",
            "_model_module_version": "1.5.0",
            "_model_name": "ProgressStyleModel",
            "_view_count": null,
            "_view_module": "@jupyter-widgets/base",
            "_view_module_version": "1.2.0",
            "_view_name": "StyleView",
            "bar_color": null,
            "description_width": ""
          }
        },
        "ee294c10356d44929d1a4e8450f7c8af": {
          "model_module": "@jupyter-widgets/base",
          "model_name": "LayoutModel",
          "model_module_version": "1.2.0",
          "state": {
            "_model_module": "@jupyter-widgets/base",
            "_model_module_version": "1.2.0",
            "_model_name": "LayoutModel",
            "_view_count": null,
            "_view_module": "@jupyter-widgets/base",
            "_view_module_version": "1.2.0",
            "_view_name": "LayoutView",
            "align_content": null,
            "align_items": null,
            "align_self": null,
            "border": null,
            "bottom": null,
            "display": null,
            "flex": null,
            "flex_flow": null,
            "grid_area": null,
            "grid_auto_columns": null,
            "grid_auto_flow": null,
            "grid_auto_rows": null,
            "grid_column": null,
            "grid_gap": null,
            "grid_row": null,
            "grid_template_areas": null,
            "grid_template_columns": null,
            "grid_template_rows": null,
            "height": null,
            "justify_content": null,
            "justify_items": null,
            "left": null,
            "margin": null,
            "max_height": null,
            "max_width": null,
            "min_height": null,
            "min_width": null,
            "object_fit": null,
            "object_position": null,
            "order": null,
            "overflow": null,
            "overflow_x": null,
            "overflow_y": null,
            "padding": null,
            "right": null,
            "top": null,
            "visibility": null,
            "width": null
          }
        },
        "6199117a9e7f49f99de1759cfe096221": {
          "model_module": "@jupyter-widgets/controls",
          "model_name": "DescriptionStyleModel",
          "model_module_version": "1.5.0",
          "state": {
            "_model_module": "@jupyter-widgets/controls",
            "_model_module_version": "1.5.0",
            "_model_name": "DescriptionStyleModel",
            "_view_count": null,
            "_view_module": "@jupyter-widgets/base",
            "_view_module_version": "1.2.0",
            "_view_name": "StyleView",
            "description_width": ""
          }
        },
        "0a08775b64774b4e8c2fbf6b665a06f6": {
          "model_module": "@jupyter-widgets/controls",
          "model_name": "HBoxModel",
          "model_module_version": "1.5.0",
          "state": {
            "_dom_classes": [],
            "_model_module": "@jupyter-widgets/controls",
            "_model_module_version": "1.5.0",
            "_model_name": "HBoxModel",
            "_view_count": null,
            "_view_module": "@jupyter-widgets/controls",
            "_view_module_version": "1.5.0",
            "_view_name": "HBoxView",
            "box_style": "",
            "children": [
              "IPY_MODEL_126e29eefca94a40bddbedec79dfc37e",
              "IPY_MODEL_07ebee5c201f48229779615e2055fbe1",
              "IPY_MODEL_b0ac5c40985144f5a05edf0203fd6e7a"
            ],
            "layout": "IPY_MODEL_a2af20f55dee4dc1a670fa7c342caab3"
          }
        },
        "126e29eefca94a40bddbedec79dfc37e": {
          "model_module": "@jupyter-widgets/controls",
          "model_name": "HTMLModel",
          "model_module_version": "1.5.0",
          "state": {
            "_dom_classes": [],
            "_model_module": "@jupyter-widgets/controls",
            "_model_module_version": "1.5.0",
            "_model_name": "HTMLModel",
            "_view_count": null,
            "_view_module": "@jupyter-widgets/controls",
            "_view_module_version": "1.5.0",
            "_view_name": "HTMLView",
            "description": "",
            "description_tooltip": null,
            "layout": "IPY_MODEL_97e61e2ab2f840eaa473b3132cff7851",
            "placeholder": "​",
            "style": "IPY_MODEL_c33cac57854448b2b5adc9adf0d1407f",
            "value": "Map: 100%"
          }
        },
        "07ebee5c201f48229779615e2055fbe1": {
          "model_module": "@jupyter-widgets/controls",
          "model_name": "FloatProgressModel",
          "model_module_version": "1.5.0",
          "state": {
            "_dom_classes": [],
            "_model_module": "@jupyter-widgets/controls",
            "_model_module_version": "1.5.0",
            "_model_name": "FloatProgressModel",
            "_view_count": null,
            "_view_module": "@jupyter-widgets/controls",
            "_view_module_version": "1.5.0",
            "_view_name": "ProgressView",
            "bar_style": "success",
            "description": "",
            "description_tooltip": null,
            "layout": "IPY_MODEL_d6341fa18e2b486fbfbdb1680562a4b6",
            "max": 1335,
            "min": 0,
            "orientation": "horizontal",
            "style": "IPY_MODEL_b58b2512d0e0491aa29425fe95602a3c",
            "value": 1335
          }
        },
        "b0ac5c40985144f5a05edf0203fd6e7a": {
          "model_module": "@jupyter-widgets/controls",
          "model_name": "HTMLModel",
          "model_module_version": "1.5.0",
          "state": {
            "_dom_classes": [],
            "_model_module": "@jupyter-widgets/controls",
            "_model_module_version": "1.5.0",
            "_model_name": "HTMLModel",
            "_view_count": null,
            "_view_module": "@jupyter-widgets/controls",
            "_view_module_version": "1.5.0",
            "_view_name": "HTMLView",
            "description": "",
            "description_tooltip": null,
            "layout": "IPY_MODEL_9a296571c2604638adfe02bdbbfd68bd",
            "placeholder": "​",
            "style": "IPY_MODEL_80961751e2cb480e81fc4ce4cf14dede",
            "value": " 1335/1335 [00:00&lt;00:00, 1727.92 examples/s]"
          }
        },
        "a2af20f55dee4dc1a670fa7c342caab3": {
          "model_module": "@jupyter-widgets/base",
          "model_name": "LayoutModel",
          "model_module_version": "1.2.0",
          "state": {
            "_model_module": "@jupyter-widgets/base",
            "_model_module_version": "1.2.0",
            "_model_name": "LayoutModel",
            "_view_count": null,
            "_view_module": "@jupyter-widgets/base",
            "_view_module_version": "1.2.0",
            "_view_name": "LayoutView",
            "align_content": null,
            "align_items": null,
            "align_self": null,
            "border": null,
            "bottom": null,
            "display": null,
            "flex": null,
            "flex_flow": null,
            "grid_area": null,
            "grid_auto_columns": null,
            "grid_auto_flow": null,
            "grid_auto_rows": null,
            "grid_column": null,
            "grid_gap": null,
            "grid_row": null,
            "grid_template_areas": null,
            "grid_template_columns": null,
            "grid_template_rows": null,
            "height": null,
            "justify_content": null,
            "justify_items": null,
            "left": null,
            "margin": null,
            "max_height": null,
            "max_width": null,
            "min_height": null,
            "min_width": null,
            "object_fit": null,
            "object_position": null,
            "order": null,
            "overflow": null,
            "overflow_x": null,
            "overflow_y": null,
            "padding": null,
            "right": null,
            "top": null,
            "visibility": null,
            "width": null
          }
        },
        "97e61e2ab2f840eaa473b3132cff7851": {
          "model_module": "@jupyter-widgets/base",
          "model_name": "LayoutModel",
          "model_module_version": "1.2.0",
          "state": {
            "_model_module": "@jupyter-widgets/base",
            "_model_module_version": "1.2.0",
            "_model_name": "LayoutModel",
            "_view_count": null,
            "_view_module": "@jupyter-widgets/base",
            "_view_module_version": "1.2.0",
            "_view_name": "LayoutView",
            "align_content": null,
            "align_items": null,
            "align_self": null,
            "border": null,
            "bottom": null,
            "display": null,
            "flex": null,
            "flex_flow": null,
            "grid_area": null,
            "grid_auto_columns": null,
            "grid_auto_flow": null,
            "grid_auto_rows": null,
            "grid_column": null,
            "grid_gap": null,
            "grid_row": null,
            "grid_template_areas": null,
            "grid_template_columns": null,
            "grid_template_rows": null,
            "height": null,
            "justify_content": null,
            "justify_items": null,
            "left": null,
            "margin": null,
            "max_height": null,
            "max_width": null,
            "min_height": null,
            "min_width": null,
            "object_fit": null,
            "object_position": null,
            "order": null,
            "overflow": null,
            "overflow_x": null,
            "overflow_y": null,
            "padding": null,
            "right": null,
            "top": null,
            "visibility": null,
            "width": null
          }
        },
        "c33cac57854448b2b5adc9adf0d1407f": {
          "model_module": "@jupyter-widgets/controls",
          "model_name": "DescriptionStyleModel",
          "model_module_version": "1.5.0",
          "state": {
            "_model_module": "@jupyter-widgets/controls",
            "_model_module_version": "1.5.0",
            "_model_name": "DescriptionStyleModel",
            "_view_count": null,
            "_view_module": "@jupyter-widgets/base",
            "_view_module_version": "1.2.0",
            "_view_name": "StyleView",
            "description_width": ""
          }
        },
        "d6341fa18e2b486fbfbdb1680562a4b6": {
          "model_module": "@jupyter-widgets/base",
          "model_name": "LayoutModel",
          "model_module_version": "1.2.0",
          "state": {
            "_model_module": "@jupyter-widgets/base",
            "_model_module_version": "1.2.0",
            "_model_name": "LayoutModel",
            "_view_count": null,
            "_view_module": "@jupyter-widgets/base",
            "_view_module_version": "1.2.0",
            "_view_name": "LayoutView",
            "align_content": null,
            "align_items": null,
            "align_self": null,
            "border": null,
            "bottom": null,
            "display": null,
            "flex": null,
            "flex_flow": null,
            "grid_area": null,
            "grid_auto_columns": null,
            "grid_auto_flow": null,
            "grid_auto_rows": null,
            "grid_column": null,
            "grid_gap": null,
            "grid_row": null,
            "grid_template_areas": null,
            "grid_template_columns": null,
            "grid_template_rows": null,
            "height": null,
            "justify_content": null,
            "justify_items": null,
            "left": null,
            "margin": null,
            "max_height": null,
            "max_width": null,
            "min_height": null,
            "min_width": null,
            "object_fit": null,
            "object_position": null,
            "order": null,
            "overflow": null,
            "overflow_x": null,
            "overflow_y": null,
            "padding": null,
            "right": null,
            "top": null,
            "visibility": null,
            "width": null
          }
        },
        "b58b2512d0e0491aa29425fe95602a3c": {
          "model_module": "@jupyter-widgets/controls",
          "model_name": "ProgressStyleModel",
          "model_module_version": "1.5.0",
          "state": {
            "_model_module": "@jupyter-widgets/controls",
            "_model_module_version": "1.5.0",
            "_model_name": "ProgressStyleModel",
            "_view_count": null,
            "_view_module": "@jupyter-widgets/base",
            "_view_module_version": "1.2.0",
            "_view_name": "StyleView",
            "bar_color": null,
            "description_width": ""
          }
        },
        "9a296571c2604638adfe02bdbbfd68bd": {
          "model_module": "@jupyter-widgets/base",
          "model_name": "LayoutModel",
          "model_module_version": "1.2.0",
          "state": {
            "_model_module": "@jupyter-widgets/base",
            "_model_module_version": "1.2.0",
            "_model_name": "LayoutModel",
            "_view_count": null,
            "_view_module": "@jupyter-widgets/base",
            "_view_module_version": "1.2.0",
            "_view_name": "LayoutView",
            "align_content": null,
            "align_items": null,
            "align_self": null,
            "border": null,
            "bottom": null,
            "display": null,
            "flex": null,
            "flex_flow": null,
            "grid_area": null,
            "grid_auto_columns": null,
            "grid_auto_flow": null,
            "grid_auto_rows": null,
            "grid_column": null,
            "grid_gap": null,
            "grid_row": null,
            "grid_template_areas": null,
            "grid_template_columns": null,
            "grid_template_rows": null,
            "height": null,
            "justify_content": null,
            "justify_items": null,
            "left": null,
            "margin": null,
            "max_height": null,
            "max_width": null,
            "min_height": null,
            "min_width": null,
            "object_fit": null,
            "object_position": null,
            "order": null,
            "overflow": null,
            "overflow_x": null,
            "overflow_y": null,
            "padding": null,
            "right": null,
            "top": null,
            "visibility": null,
            "width": null
          }
        },
        "80961751e2cb480e81fc4ce4cf14dede": {
          "model_module": "@jupyter-widgets/controls",
          "model_name": "DescriptionStyleModel",
          "model_module_version": "1.5.0",
          "state": {
            "_model_module": "@jupyter-widgets/controls",
            "_model_module_version": "1.5.0",
            "_model_name": "DescriptionStyleModel",
            "_view_count": null,
            "_view_module": "@jupyter-widgets/base",
            "_view_module_version": "1.2.0",
            "_view_name": "StyleView",
            "description_width": ""
          }
        },
        "deb3bec4620e4712853b92c10d225c83": {
          "model_module": "@jupyter-widgets/controls",
          "model_name": "HBoxModel",
          "model_module_version": "1.5.0",
          "state": {
            "_dom_classes": [],
            "_model_module": "@jupyter-widgets/controls",
            "_model_module_version": "1.5.0",
            "_model_name": "HBoxModel",
            "_view_count": null,
            "_view_module": "@jupyter-widgets/controls",
            "_view_module_version": "1.5.0",
            "_view_name": "HBoxView",
            "box_style": "",
            "children": [
              "IPY_MODEL_fb7be160b8bd43e8a1723049c762cdfa",
              "IPY_MODEL_c4ab7ea423f84b6f9ca7674592aee83c",
              "IPY_MODEL_73b178048def46e99d6fa21e1e8c201a"
            ],
            "layout": "IPY_MODEL_eee285d20aab4e138c7a9e682968e4c3"
          }
        },
        "fb7be160b8bd43e8a1723049c762cdfa": {
          "model_module": "@jupyter-widgets/controls",
          "model_name": "HTMLModel",
          "model_module_version": "1.5.0",
          "state": {
            "_dom_classes": [],
            "_model_module": "@jupyter-widgets/controls",
            "_model_module_version": "1.5.0",
            "_model_name": "HTMLModel",
            "_view_count": null,
            "_view_module": "@jupyter-widgets/controls",
            "_view_module_version": "1.5.0",
            "_view_name": "HTMLView",
            "description": "",
            "description_tooltip": null,
            "layout": "IPY_MODEL_cd010ece3dd545b4b38afed327d14bfd",
            "placeholder": "​",
            "style": "IPY_MODEL_df8cce35e91844b399d6c0df959dc8d4",
            "value": "Map: 100%"
          }
        },
        "c4ab7ea423f84b6f9ca7674592aee83c": {
          "model_module": "@jupyter-widgets/controls",
          "model_name": "FloatProgressModel",
          "model_module_version": "1.5.0",
          "state": {
            "_dom_classes": [],
            "_model_module": "@jupyter-widgets/controls",
            "_model_module_version": "1.5.0",
            "_model_name": "FloatProgressModel",
            "_view_count": null,
            "_view_module": "@jupyter-widgets/controls",
            "_view_module_version": "1.5.0",
            "_view_name": "ProgressView",
            "bar_style": "success",
            "description": "",
            "description_tooltip": null,
            "layout": "IPY_MODEL_5c053f5689aa4d3ea951e3486c063a6c",
            "max": 334,
            "min": 0,
            "orientation": "horizontal",
            "style": "IPY_MODEL_586ab9fbe6194a7c9ffc1c35362909b4",
            "value": 334
          }
        },
        "73b178048def46e99d6fa21e1e8c201a": {
          "model_module": "@jupyter-widgets/controls",
          "model_name": "HTMLModel",
          "model_module_version": "1.5.0",
          "state": {
            "_dom_classes": [],
            "_model_module": "@jupyter-widgets/controls",
            "_model_module_version": "1.5.0",
            "_model_name": "HTMLModel",
            "_view_count": null,
            "_view_module": "@jupyter-widgets/controls",
            "_view_module_version": "1.5.0",
            "_view_name": "HTMLView",
            "description": "",
            "description_tooltip": null,
            "layout": "IPY_MODEL_0280c84517cd44d1b682b9ad2abf131e",
            "placeholder": "​",
            "style": "IPY_MODEL_ed015c299f7a46cea8b072df349136e0",
            "value": " 334/334 [00:00&lt;00:00, 2585.00 examples/s]"
          }
        },
        "eee285d20aab4e138c7a9e682968e4c3": {
          "model_module": "@jupyter-widgets/base",
          "model_name": "LayoutModel",
          "model_module_version": "1.2.0",
          "state": {
            "_model_module": "@jupyter-widgets/base",
            "_model_module_version": "1.2.0",
            "_model_name": "LayoutModel",
            "_view_count": null,
            "_view_module": "@jupyter-widgets/base",
            "_view_module_version": "1.2.0",
            "_view_name": "LayoutView",
            "align_content": null,
            "align_items": null,
            "align_self": null,
            "border": null,
            "bottom": null,
            "display": null,
            "flex": null,
            "flex_flow": null,
            "grid_area": null,
            "grid_auto_columns": null,
            "grid_auto_flow": null,
            "grid_auto_rows": null,
            "grid_column": null,
            "grid_gap": null,
            "grid_row": null,
            "grid_template_areas": null,
            "grid_template_columns": null,
            "grid_template_rows": null,
            "height": null,
            "justify_content": null,
            "justify_items": null,
            "left": null,
            "margin": null,
            "max_height": null,
            "max_width": null,
            "min_height": null,
            "min_width": null,
            "object_fit": null,
            "object_position": null,
            "order": null,
            "overflow": null,
            "overflow_x": null,
            "overflow_y": null,
            "padding": null,
            "right": null,
            "top": null,
            "visibility": null,
            "width": null
          }
        },
        "cd010ece3dd545b4b38afed327d14bfd": {
          "model_module": "@jupyter-widgets/base",
          "model_name": "LayoutModel",
          "model_module_version": "1.2.0",
          "state": {
            "_model_module": "@jupyter-widgets/base",
            "_model_module_version": "1.2.0",
            "_model_name": "LayoutModel",
            "_view_count": null,
            "_view_module": "@jupyter-widgets/base",
            "_view_module_version": "1.2.0",
            "_view_name": "LayoutView",
            "align_content": null,
            "align_items": null,
            "align_self": null,
            "border": null,
            "bottom": null,
            "display": null,
            "flex": null,
            "flex_flow": null,
            "grid_area": null,
            "grid_auto_columns": null,
            "grid_auto_flow": null,
            "grid_auto_rows": null,
            "grid_column": null,
            "grid_gap": null,
            "grid_row": null,
            "grid_template_areas": null,
            "grid_template_columns": null,
            "grid_template_rows": null,
            "height": null,
            "justify_content": null,
            "justify_items": null,
            "left": null,
            "margin": null,
            "max_height": null,
            "max_width": null,
            "min_height": null,
            "min_width": null,
            "object_fit": null,
            "object_position": null,
            "order": null,
            "overflow": null,
            "overflow_x": null,
            "overflow_y": null,
            "padding": null,
            "right": null,
            "top": null,
            "visibility": null,
            "width": null
          }
        },
        "df8cce35e91844b399d6c0df959dc8d4": {
          "model_module": "@jupyter-widgets/controls",
          "model_name": "DescriptionStyleModel",
          "model_module_version": "1.5.0",
          "state": {
            "_model_module": "@jupyter-widgets/controls",
            "_model_module_version": "1.5.0",
            "_model_name": "DescriptionStyleModel",
            "_view_count": null,
            "_view_module": "@jupyter-widgets/base",
            "_view_module_version": "1.2.0",
            "_view_name": "StyleView",
            "description_width": ""
          }
        },
        "5c053f5689aa4d3ea951e3486c063a6c": {
          "model_module": "@jupyter-widgets/base",
          "model_name": "LayoutModel",
          "model_module_version": "1.2.0",
          "state": {
            "_model_module": "@jupyter-widgets/base",
            "_model_module_version": "1.2.0",
            "_model_name": "LayoutModel",
            "_view_count": null,
            "_view_module": "@jupyter-widgets/base",
            "_view_module_version": "1.2.0",
            "_view_name": "LayoutView",
            "align_content": null,
            "align_items": null,
            "align_self": null,
            "border": null,
            "bottom": null,
            "display": null,
            "flex": null,
            "flex_flow": null,
            "grid_area": null,
            "grid_auto_columns": null,
            "grid_auto_flow": null,
            "grid_auto_rows": null,
            "grid_column": null,
            "grid_gap": null,
            "grid_row": null,
            "grid_template_areas": null,
            "grid_template_columns": null,
            "grid_template_rows": null,
            "height": null,
            "justify_content": null,
            "justify_items": null,
            "left": null,
            "margin": null,
            "max_height": null,
            "max_width": null,
            "min_height": null,
            "min_width": null,
            "object_fit": null,
            "object_position": null,
            "order": null,
            "overflow": null,
            "overflow_x": null,
            "overflow_y": null,
            "padding": null,
            "right": null,
            "top": null,
            "visibility": null,
            "width": null
          }
        },
        "586ab9fbe6194a7c9ffc1c35362909b4": {
          "model_module": "@jupyter-widgets/controls",
          "model_name": "ProgressStyleModel",
          "model_module_version": "1.5.0",
          "state": {
            "_model_module": "@jupyter-widgets/controls",
            "_model_module_version": "1.5.0",
            "_model_name": "ProgressStyleModel",
            "_view_count": null,
            "_view_module": "@jupyter-widgets/base",
            "_view_module_version": "1.2.0",
            "_view_name": "StyleView",
            "bar_color": null,
            "description_width": ""
          }
        },
        "0280c84517cd44d1b682b9ad2abf131e": {
          "model_module": "@jupyter-widgets/base",
          "model_name": "LayoutModel",
          "model_module_version": "1.2.0",
          "state": {
            "_model_module": "@jupyter-widgets/base",
            "_model_module_version": "1.2.0",
            "_model_name": "LayoutModel",
            "_view_count": null,
            "_view_module": "@jupyter-widgets/base",
            "_view_module_version": "1.2.0",
            "_view_name": "LayoutView",
            "align_content": null,
            "align_items": null,
            "align_self": null,
            "border": null,
            "bottom": null,
            "display": null,
            "flex": null,
            "flex_flow": null,
            "grid_area": null,
            "grid_auto_columns": null,
            "grid_auto_flow": null,
            "grid_auto_rows": null,
            "grid_column": null,
            "grid_gap": null,
            "grid_row": null,
            "grid_template_areas": null,
            "grid_template_columns": null,
            "grid_template_rows": null,
            "height": null,
            "justify_content": null,
            "justify_items": null,
            "left": null,
            "margin": null,
            "max_height": null,
            "max_width": null,
            "min_height": null,
            "min_width": null,
            "object_fit": null,
            "object_position": null,
            "order": null,
            "overflow": null,
            "overflow_x": null,
            "overflow_y": null,
            "padding": null,
            "right": null,
            "top": null,
            "visibility": null,
            "width": null
          }
        },
        "ed015c299f7a46cea8b072df349136e0": {
          "model_module": "@jupyter-widgets/controls",
          "model_name": "DescriptionStyleModel",
          "model_module_version": "1.5.0",
          "state": {
            "_model_module": "@jupyter-widgets/controls",
            "_model_module_version": "1.5.0",
            "_model_name": "DescriptionStyleModel",
            "_view_count": null,
            "_view_module": "@jupyter-widgets/base",
            "_view_module_version": "1.2.0",
            "_view_name": "StyleView",
            "description_width": ""
          }
        },
        "8535560f60904247b2e0ea80fabd6afd": {
          "model_module": "@jupyter-widgets/controls",
          "model_name": "HBoxModel",
          "model_module_version": "1.5.0",
          "state": {
            "_dom_classes": [],
            "_model_module": "@jupyter-widgets/controls",
            "_model_module_version": "1.5.0",
            "_model_name": "HBoxModel",
            "_view_count": null,
            "_view_module": "@jupyter-widgets/controls",
            "_view_module_version": "1.5.0",
            "_view_name": "HBoxView",
            "box_style": "",
            "children": [
              "IPY_MODEL_a1c6e6d0fdf84a3bbb3234a32f0a6e60",
              "IPY_MODEL_026121b1507945e19f6f526227c23df7",
              "IPY_MODEL_29be59612e1a4f31935235e857dad369"
            ],
            "layout": "IPY_MODEL_f349ab32b53442a5b8177217939b2054"
          }
        },
        "a1c6e6d0fdf84a3bbb3234a32f0a6e60": {
          "model_module": "@jupyter-widgets/controls",
          "model_name": "HTMLModel",
          "model_module_version": "1.5.0",
          "state": {
            "_dom_classes": [],
            "_model_module": "@jupyter-widgets/controls",
            "_model_module_version": "1.5.0",
            "_model_name": "HTMLModel",
            "_view_count": null,
            "_view_module": "@jupyter-widgets/controls",
            "_view_module_version": "1.5.0",
            "_view_name": "HTMLView",
            "description": "",
            "description_tooltip": null,
            "layout": "IPY_MODEL_6c03b159d5504dc683101d215f08634a",
            "placeholder": "​",
            "style": "IPY_MODEL_4242d04bf8f64805b639a3d37af59041",
            "value": "100%"
          }
        },
        "026121b1507945e19f6f526227c23df7": {
          "model_module": "@jupyter-widgets/controls",
          "model_name": "FloatProgressModel",
          "model_module_version": "1.5.0",
          "state": {
            "_dom_classes": [],
            "_model_module": "@jupyter-widgets/controls",
            "_model_module_version": "1.5.0",
            "_model_name": "FloatProgressModel",
            "_view_count": null,
            "_view_module": "@jupyter-widgets/controls",
            "_view_module_version": "1.5.0",
            "_view_name": "ProgressView",
            "bar_style": "success",
            "description": "",
            "description_tooltip": null,
            "layout": "IPY_MODEL_b1bbb7c9e58b4c8bb01985cb6204f76a",
            "max": 661,
            "min": 0,
            "orientation": "horizontal",
            "style": "IPY_MODEL_c3a9f4e9844c4fa3be914fcdf6506b72",
            "value": 661
          }
        },
        "29be59612e1a4f31935235e857dad369": {
          "model_module": "@jupyter-widgets/controls",
          "model_name": "HTMLModel",
          "model_module_version": "1.5.0",
          "state": {
            "_dom_classes": [],
            "_model_module": "@jupyter-widgets/controls",
            "_model_module_version": "1.5.0",
            "_model_name": "HTMLModel",
            "_view_count": null,
            "_view_module": "@jupyter-widgets/controls",
            "_view_module_version": "1.5.0",
            "_view_name": "HTMLView",
            "description": "",
            "description_tooltip": null,
            "layout": "IPY_MODEL_e885e304487543a18651fd04b961ca3f",
            "placeholder": "​",
            "style": "IPY_MODEL_443321ca486a4c6d85c85eb3746a3e9d",
            "value": " 661/661 [04:54&lt;00:00,  2.46it/s]"
          }
        },
        "f349ab32b53442a5b8177217939b2054": {
          "model_module": "@jupyter-widgets/base",
          "model_name": "LayoutModel",
          "model_module_version": "1.2.0",
          "state": {
            "_model_module": "@jupyter-widgets/base",
            "_model_module_version": "1.2.0",
            "_model_name": "LayoutModel",
            "_view_count": null,
            "_view_module": "@jupyter-widgets/base",
            "_view_module_version": "1.2.0",
            "_view_name": "LayoutView",
            "align_content": null,
            "align_items": null,
            "align_self": null,
            "border": null,
            "bottom": null,
            "display": null,
            "flex": null,
            "flex_flow": null,
            "grid_area": null,
            "grid_auto_columns": null,
            "grid_auto_flow": null,
            "grid_auto_rows": null,
            "grid_column": null,
            "grid_gap": null,
            "grid_row": null,
            "grid_template_areas": null,
            "grid_template_columns": null,
            "grid_template_rows": null,
            "height": null,
            "justify_content": null,
            "justify_items": null,
            "left": null,
            "margin": null,
            "max_height": null,
            "max_width": null,
            "min_height": null,
            "min_width": null,
            "object_fit": null,
            "object_position": null,
            "order": null,
            "overflow": null,
            "overflow_x": null,
            "overflow_y": null,
            "padding": null,
            "right": null,
            "top": null,
            "visibility": null,
            "width": null
          }
        },
        "6c03b159d5504dc683101d215f08634a": {
          "model_module": "@jupyter-widgets/base",
          "model_name": "LayoutModel",
          "model_module_version": "1.2.0",
          "state": {
            "_model_module": "@jupyter-widgets/base",
            "_model_module_version": "1.2.0",
            "_model_name": "LayoutModel",
            "_view_count": null,
            "_view_module": "@jupyter-widgets/base",
            "_view_module_version": "1.2.0",
            "_view_name": "LayoutView",
            "align_content": null,
            "align_items": null,
            "align_self": null,
            "border": null,
            "bottom": null,
            "display": null,
            "flex": null,
            "flex_flow": null,
            "grid_area": null,
            "grid_auto_columns": null,
            "grid_auto_flow": null,
            "grid_auto_rows": null,
            "grid_column": null,
            "grid_gap": null,
            "grid_row": null,
            "grid_template_areas": null,
            "grid_template_columns": null,
            "grid_template_rows": null,
            "height": null,
            "justify_content": null,
            "justify_items": null,
            "left": null,
            "margin": null,
            "max_height": null,
            "max_width": null,
            "min_height": null,
            "min_width": null,
            "object_fit": null,
            "object_position": null,
            "order": null,
            "overflow": null,
            "overflow_x": null,
            "overflow_y": null,
            "padding": null,
            "right": null,
            "top": null,
            "visibility": null,
            "width": null
          }
        },
        "4242d04bf8f64805b639a3d37af59041": {
          "model_module": "@jupyter-widgets/controls",
          "model_name": "DescriptionStyleModel",
          "model_module_version": "1.5.0",
          "state": {
            "_model_module": "@jupyter-widgets/controls",
            "_model_module_version": "1.5.0",
            "_model_name": "DescriptionStyleModel",
            "_view_count": null,
            "_view_module": "@jupyter-widgets/base",
            "_view_module_version": "1.2.0",
            "_view_name": "StyleView",
            "description_width": ""
          }
        },
        "b1bbb7c9e58b4c8bb01985cb6204f76a": {
          "model_module": "@jupyter-widgets/base",
          "model_name": "LayoutModel",
          "model_module_version": "1.2.0",
          "state": {
            "_model_module": "@jupyter-widgets/base",
            "_model_module_version": "1.2.0",
            "_model_name": "LayoutModel",
            "_view_count": null,
            "_view_module": "@jupyter-widgets/base",
            "_view_module_version": "1.2.0",
            "_view_name": "LayoutView",
            "align_content": null,
            "align_items": null,
            "align_self": null,
            "border": null,
            "bottom": null,
            "display": null,
            "flex": null,
            "flex_flow": null,
            "grid_area": null,
            "grid_auto_columns": null,
            "grid_auto_flow": null,
            "grid_auto_rows": null,
            "grid_column": null,
            "grid_gap": null,
            "grid_row": null,
            "grid_template_areas": null,
            "grid_template_columns": null,
            "grid_template_rows": null,
            "height": null,
            "justify_content": null,
            "justify_items": null,
            "left": null,
            "margin": null,
            "max_height": null,
            "max_width": null,
            "min_height": null,
            "min_width": null,
            "object_fit": null,
            "object_position": null,
            "order": null,
            "overflow": null,
            "overflow_x": null,
            "overflow_y": null,
            "padding": null,
            "right": null,
            "top": null,
            "visibility": null,
            "width": null
          }
        },
        "c3a9f4e9844c4fa3be914fcdf6506b72": {
          "model_module": "@jupyter-widgets/controls",
          "model_name": "ProgressStyleModel",
          "model_module_version": "1.5.0",
          "state": {
            "_model_module": "@jupyter-widgets/controls",
            "_model_module_version": "1.5.0",
            "_model_name": "ProgressStyleModel",
            "_view_count": null,
            "_view_module": "@jupyter-widgets/base",
            "_view_module_version": "1.2.0",
            "_view_name": "StyleView",
            "bar_color": null,
            "description_width": ""
          }
        },
        "e885e304487543a18651fd04b961ca3f": {
          "model_module": "@jupyter-widgets/base",
          "model_name": "LayoutModel",
          "model_module_version": "1.2.0",
          "state": {
            "_model_module": "@jupyter-widgets/base",
            "_model_module_version": "1.2.0",
            "_model_name": "LayoutModel",
            "_view_count": null,
            "_view_module": "@jupyter-widgets/base",
            "_view_module_version": "1.2.0",
            "_view_name": "LayoutView",
            "align_content": null,
            "align_items": null,
            "align_self": null,
            "border": null,
            "bottom": null,
            "display": null,
            "flex": null,
            "flex_flow": null,
            "grid_area": null,
            "grid_auto_columns": null,
            "grid_auto_flow": null,
            "grid_auto_rows": null,
            "grid_column": null,
            "grid_gap": null,
            "grid_row": null,
            "grid_template_areas": null,
            "grid_template_columns": null,
            "grid_template_rows": null,
            "height": null,
            "justify_content": null,
            "justify_items": null,
            "left": null,
            "margin": null,
            "max_height": null,
            "max_width": null,
            "min_height": null,
            "min_width": null,
            "object_fit": null,
            "object_position": null,
            "order": null,
            "overflow": null,
            "overflow_x": null,
            "overflow_y": null,
            "padding": null,
            "right": null,
            "top": null,
            "visibility": null,
            "width": null
          }
        },
        "443321ca486a4c6d85c85eb3746a3e9d": {
          "model_module": "@jupyter-widgets/controls",
          "model_name": "DescriptionStyleModel",
          "model_module_version": "1.5.0",
          "state": {
            "_model_module": "@jupyter-widgets/controls",
            "_model_module_version": "1.5.0",
            "_model_name": "DescriptionStyleModel",
            "_view_count": null,
            "_view_module": "@jupyter-widgets/base",
            "_view_module_version": "1.2.0",
            "_view_name": "StyleView",
            "description_width": ""
          }
        }
      }
    },
    "accelerator": "GPU"
  },
  "cells": [
    {
      "cell_type": "code",
      "source": [
        "!pip install pymorphy2\n",
        "!pip install nltk\n",
        "!pip install catboost"
      ],
      "metadata": {
        "colab": {
          "base_uri": "https://localhost:8080/"
        },
        "id": "uve9v2v0lwpQ",
        "outputId": "6662edd5-5387-4dae-e0fb-598706a57502"
      },
      "execution_count": 1,
      "outputs": [
        {
          "output_type": "stream",
          "name": "stdout",
          "text": [
            "Collecting pymorphy2\n",
            "  Downloading pymorphy2-0.9.1-py3-none-any.whl (55 kB)\n",
            "\u001b[?25l     \u001b[90m━━━━━━━━━━━━━━━━━━━━━━━━━━━━━━━━━━━━━━━━\u001b[0m \u001b[32m0.0/55.5 kB\u001b[0m \u001b[31m?\u001b[0m eta \u001b[36m-:--:--\u001b[0m\r\u001b[2K     \u001b[90m━━━━━━━━━━━━━━━━━━━━━━━━━━━━━━━━━━━━━━━━\u001b[0m \u001b[32m55.5/55.5 kB\u001b[0m \u001b[31m1.9 MB/s\u001b[0m eta \u001b[36m0:00:00\u001b[0m\n",
            "\u001b[?25hCollecting dawg-python>=0.7.1 (from pymorphy2)\n",
            "  Downloading DAWG_Python-0.7.2-py2.py3-none-any.whl (11 kB)\n",
            "Collecting pymorphy2-dicts-ru<3.0,>=2.4 (from pymorphy2)\n",
            "  Downloading pymorphy2_dicts_ru-2.4.417127.4579844-py2.py3-none-any.whl (8.2 MB)\n",
            "\u001b[2K     \u001b[90m━━━━━━━━━━━━━━━━━━━━━━━━━━━━━━━━━━━━━━━━\u001b[0m \u001b[32m8.2/8.2 MB\u001b[0m \u001b[31m91.1 MB/s\u001b[0m eta \u001b[36m0:00:00\u001b[0m\n",
            "\u001b[?25hCollecting docopt>=0.6 (from pymorphy2)\n",
            "  Downloading docopt-0.6.2.tar.gz (25 kB)\n",
            "  Preparing metadata (setup.py) ... \u001b[?25l\u001b[?25hdone\n",
            "Building wheels for collected packages: docopt\n",
            "  Building wheel for docopt (setup.py) ... \u001b[?25l\u001b[?25hdone\n",
            "  Created wheel for docopt: filename=docopt-0.6.2-py2.py3-none-any.whl size=13705 sha256=05ed46b850d3986c0e4d03b6ef2e24bbdad0dc9c0bfcfec04240a469ae61a358\n",
            "  Stored in directory: /root/.cache/pip/wheels/fc/ab/d4/5da2067ac95b36618c629a5f93f809425700506f72c9732fac\n",
            "Successfully built docopt\n",
            "Installing collected packages: pymorphy2-dicts-ru, docopt, dawg-python, pymorphy2\n",
            "Successfully installed dawg-python-0.7.2 docopt-0.6.2 pymorphy2-0.9.1 pymorphy2-dicts-ru-2.4.417127.4579844\n",
            "Requirement already satisfied: nltk in /usr/local/lib/python3.10/dist-packages (3.8.1)\n",
            "Requirement already satisfied: click in /usr/local/lib/python3.10/dist-packages (from nltk) (8.1.7)\n",
            "Requirement already satisfied: joblib in /usr/local/lib/python3.10/dist-packages (from nltk) (1.3.2)\n",
            "Requirement already satisfied: regex>=2021.8.3 in /usr/local/lib/python3.10/dist-packages (from nltk) (2023.6.3)\n",
            "Requirement already satisfied: tqdm in /usr/local/lib/python3.10/dist-packages (from nltk) (4.66.1)\n",
            "Collecting catboost\n",
            "  Downloading catboost-1.2.1-cp310-cp310-manylinux2014_x86_64.whl (98.7 MB)\n",
            "\u001b[2K     \u001b[90m━━━━━━━━━━━━━━━━━━━━━━━━━━━━━━━━━━━━━━━━\u001b[0m \u001b[32m98.7/98.7 MB\u001b[0m \u001b[31m9.3 MB/s\u001b[0m eta \u001b[36m0:00:00\u001b[0m\n",
            "\u001b[?25hRequirement already satisfied: graphviz in /usr/local/lib/python3.10/dist-packages (from catboost) (0.20.1)\n",
            "Requirement already satisfied: matplotlib in /usr/local/lib/python3.10/dist-packages (from catboost) (3.7.1)\n",
            "Requirement already satisfied: numpy>=1.16.0 in /usr/local/lib/python3.10/dist-packages (from catboost) (1.23.5)\n",
            "Requirement already satisfied: pandas>=0.24 in /usr/local/lib/python3.10/dist-packages (from catboost) (1.5.3)\n",
            "Requirement already satisfied: scipy in /usr/local/lib/python3.10/dist-packages (from catboost) (1.10.1)\n",
            "Requirement already satisfied: plotly in /usr/local/lib/python3.10/dist-packages (from catboost) (5.15.0)\n",
            "Requirement already satisfied: six in /usr/local/lib/python3.10/dist-packages (from catboost) (1.16.0)\n",
            "Requirement already satisfied: python-dateutil>=2.8.1 in /usr/local/lib/python3.10/dist-packages (from pandas>=0.24->catboost) (2.8.2)\n",
            "Requirement already satisfied: pytz>=2020.1 in /usr/local/lib/python3.10/dist-packages (from pandas>=0.24->catboost) (2023.3)\n",
            "Requirement already satisfied: contourpy>=1.0.1 in /usr/local/lib/python3.10/dist-packages (from matplotlib->catboost) (1.1.0)\n",
            "Requirement already satisfied: cycler>=0.10 in /usr/local/lib/python3.10/dist-packages (from matplotlib->catboost) (0.11.0)\n",
            "Requirement already satisfied: fonttools>=4.22.0 in /usr/local/lib/python3.10/dist-packages (from matplotlib->catboost) (4.42.1)\n",
            "Requirement already satisfied: kiwisolver>=1.0.1 in /usr/local/lib/python3.10/dist-packages (from matplotlib->catboost) (1.4.4)\n",
            "Requirement already satisfied: packaging>=20.0 in /usr/local/lib/python3.10/dist-packages (from matplotlib->catboost) (23.1)\n",
            "Requirement already satisfied: pillow>=6.2.0 in /usr/local/lib/python3.10/dist-packages (from matplotlib->catboost) (9.4.0)\n",
            "Requirement already satisfied: pyparsing>=2.3.1 in /usr/local/lib/python3.10/dist-packages (from matplotlib->catboost) (3.1.1)\n",
            "Requirement already satisfied: tenacity>=6.2.0 in /usr/local/lib/python3.10/dist-packages (from plotly->catboost) (8.2.3)\n",
            "Installing collected packages: catboost\n",
            "Successfully installed catboost-1.2.1\n"
          ]
        }
      ]
    },
    {
      "cell_type": "code",
      "execution_count": 1,
      "metadata": {
        "id": "IHS-YbdxH8qF"
      },
      "outputs": [],
      "source": [
        "import pandas as pd\n",
        "import numpy as np\n",
        "import matplotlib.pyplot as plt\n",
        "import seaborn as sns\n",
        "from sklearn.feature_extraction.text import CountVectorizer\n",
        "from sklearn.feature_extraction.text import TfidfVectorizer\n",
        "from sklearn.model_selection import train_test_split\n",
        "from sklearn.linear_model import LogisticRegression\n",
        "from sklearn.metrics import precision_recall_fscore_support\n",
        "from sklearn.metrics import classification_report\n",
        "from sklearn.metrics import roc_auc_score\n",
        "from sklearn.metrics import roc_curve\n",
        "from sklearn.metrics import auc\n",
        "from catboost import CatBoostClassifier\n",
        "from lightgbm import LGBMClassifier"
      ]
    },
    {
      "cell_type": "code",
      "source": [
        "train = pd.read_csv('/content/train_data.csv')\n",
        "test = pd.read_csv('/content/test_data.csv')"
      ],
      "metadata": {
        "id": "IscOug2PIdA7"
      },
      "execution_count": 2,
      "outputs": []
    },
    {
      "cell_type": "code",
      "source": [
        "train.shape, test.shape"
      ],
      "metadata": {
        "colab": {
          "base_uri": "https://localhost:8080/"
        },
        "id": "Hls-HSjCLYm3",
        "outputId": "72de28c9-b3f4-4fbd-8536-56cf09bd0bfd"
      },
      "execution_count": null,
      "outputs": [
        {
          "output_type": "execute_result",
          "data": {
            "text/plain": [
              "((1669, 3), (10571, 4))"
            ]
          },
          "metadata": {},
          "execution_count": 3
        }
      ]
    },
    {
      "cell_type": "code",
      "source": [
        "train"
      ],
      "metadata": {
        "colab": {
          "base_uri": "https://localhost:8080/",
          "height": 423
        },
        "id": "8VthHHINLixK",
        "outputId": "d9e2a001-c837-48dc-db1d-60737744bc5f"
      },
      "execution_count": null,
      "outputs": [
        {
          "output_type": "execute_result",
          "data": {
            "text/plain": [
              "      Unnamed: 0                                           sentence  label\n",
              "0              0  Срыв сроков строительства зоопарка оценили в 1...      1\n",
              "1              1  По данным Генпрокуратуры РФ, в 2014-2018 годах...      1\n",
              "2              2  Обвиняли в этом столичный акимат, который сорв...      1\n",
              "3              3  Запуск циклотронного центра ядерной медицины н...      1\n",
              "4              4    Сроки сдачи объекта несколько раз переносились.      1\n",
              "...          ...                                                ...    ...\n",
              "1664        1664  Подрядчик ООО «АльянсДорСтрой» должен сдать об...      0\n",
              "1665        1665  Он заявил, что запуск ракеты-носителя сверхтяж...      0\n",
              "1666        1666  Застройщик ЖК \"Медовая Долина\" планирует ввест...      0\n",
              "1667        1667  Официальные сроки, указанные в проектной декла...      0\n",
              "1668        1668  Он потребовал «выдержать намеченные сроки» стр...      0\n",
              "\n",
              "[1669 rows x 3 columns]"
            ],
            "text/html": [
              "\n",
              "  <div id=\"df-12642f5d-2508-499e-a713-896d236bc931\" class=\"colab-df-container\">\n",
              "    <div>\n",
              "<style scoped>\n",
              "    .dataframe tbody tr th:only-of-type {\n",
              "        vertical-align: middle;\n",
              "    }\n",
              "\n",
              "    .dataframe tbody tr th {\n",
              "        vertical-align: top;\n",
              "    }\n",
              "\n",
              "    .dataframe thead th {\n",
              "        text-align: right;\n",
              "    }\n",
              "</style>\n",
              "<table border=\"1\" class=\"dataframe\">\n",
              "  <thead>\n",
              "    <tr style=\"text-align: right;\">\n",
              "      <th></th>\n",
              "      <th>Unnamed: 0</th>\n",
              "      <th>sentence</th>\n",
              "      <th>label</th>\n",
              "    </tr>\n",
              "  </thead>\n",
              "  <tbody>\n",
              "    <tr>\n",
              "      <th>0</th>\n",
              "      <td>0</td>\n",
              "      <td>Срыв сроков строительства зоопарка оценили в 1...</td>\n",
              "      <td>1</td>\n",
              "    </tr>\n",
              "    <tr>\n",
              "      <th>1</th>\n",
              "      <td>1</td>\n",
              "      <td>По данным Генпрокуратуры РФ, в 2014-2018 годах...</td>\n",
              "      <td>1</td>\n",
              "    </tr>\n",
              "    <tr>\n",
              "      <th>2</th>\n",
              "      <td>2</td>\n",
              "      <td>Обвиняли в этом столичный акимат, который сорв...</td>\n",
              "      <td>1</td>\n",
              "    </tr>\n",
              "    <tr>\n",
              "      <th>3</th>\n",
              "      <td>3</td>\n",
              "      <td>Запуск циклотронного центра ядерной медицины н...</td>\n",
              "      <td>1</td>\n",
              "    </tr>\n",
              "    <tr>\n",
              "      <th>4</th>\n",
              "      <td>4</td>\n",
              "      <td>Сроки сдачи объекта несколько раз переносились.</td>\n",
              "      <td>1</td>\n",
              "    </tr>\n",
              "    <tr>\n",
              "      <th>...</th>\n",
              "      <td>...</td>\n",
              "      <td>...</td>\n",
              "      <td>...</td>\n",
              "    </tr>\n",
              "    <tr>\n",
              "      <th>1664</th>\n",
              "      <td>1664</td>\n",
              "      <td>Подрядчик ООО «АльянсДорСтрой» должен сдать об...</td>\n",
              "      <td>0</td>\n",
              "    </tr>\n",
              "    <tr>\n",
              "      <th>1665</th>\n",
              "      <td>1665</td>\n",
              "      <td>Он заявил, что запуск ракеты-носителя сверхтяж...</td>\n",
              "      <td>0</td>\n",
              "    </tr>\n",
              "    <tr>\n",
              "      <th>1666</th>\n",
              "      <td>1666</td>\n",
              "      <td>Застройщик ЖК \"Медовая Долина\" планирует ввест...</td>\n",
              "      <td>0</td>\n",
              "    </tr>\n",
              "    <tr>\n",
              "      <th>1667</th>\n",
              "      <td>1667</td>\n",
              "      <td>Официальные сроки, указанные в проектной декла...</td>\n",
              "      <td>0</td>\n",
              "    </tr>\n",
              "    <tr>\n",
              "      <th>1668</th>\n",
              "      <td>1668</td>\n",
              "      <td>Он потребовал «выдержать намеченные сроки» стр...</td>\n",
              "      <td>0</td>\n",
              "    </tr>\n",
              "  </tbody>\n",
              "</table>\n",
              "<p>1669 rows × 3 columns</p>\n",
              "</div>\n",
              "    <div class=\"colab-df-buttons\">\n",
              "\n",
              "  <div class=\"colab-df-container\">\n",
              "    <button class=\"colab-df-convert\" onclick=\"convertToInteractive('df-12642f5d-2508-499e-a713-896d236bc931')\"\n",
              "            title=\"Convert this dataframe to an interactive table.\"\n",
              "            style=\"display:none;\">\n",
              "\n",
              "  <svg xmlns=\"http://www.w3.org/2000/svg\" height=\"24px\" viewBox=\"0 -960 960 960\">\n",
              "    <path d=\"M120-120v-720h720v720H120Zm60-500h600v-160H180v160Zm220 220h160v-160H400v160Zm0 220h160v-160H400v160ZM180-400h160v-160H180v160Zm440 0h160v-160H620v160ZM180-180h160v-160H180v160Zm440 0h160v-160H620v160Z\"/>\n",
              "  </svg>\n",
              "    </button>\n",
              "\n",
              "  <style>\n",
              "    .colab-df-container {\n",
              "      display:flex;\n",
              "      gap: 12px;\n",
              "    }\n",
              "\n",
              "    .colab-df-convert {\n",
              "      background-color: #E8F0FE;\n",
              "      border: none;\n",
              "      border-radius: 50%;\n",
              "      cursor: pointer;\n",
              "      display: none;\n",
              "      fill: #1967D2;\n",
              "      height: 32px;\n",
              "      padding: 0 0 0 0;\n",
              "      width: 32px;\n",
              "    }\n",
              "\n",
              "    .colab-df-convert:hover {\n",
              "      background-color: #E2EBFA;\n",
              "      box-shadow: 0px 1px 2px rgba(60, 64, 67, 0.3), 0px 1px 3px 1px rgba(60, 64, 67, 0.15);\n",
              "      fill: #174EA6;\n",
              "    }\n",
              "\n",
              "    .colab-df-buttons div {\n",
              "      margin-bottom: 4px;\n",
              "    }\n",
              "\n",
              "    [theme=dark] .colab-df-convert {\n",
              "      background-color: #3B4455;\n",
              "      fill: #D2E3FC;\n",
              "    }\n",
              "\n",
              "    [theme=dark] .colab-df-convert:hover {\n",
              "      background-color: #434B5C;\n",
              "      box-shadow: 0px 1px 3px 1px rgba(0, 0, 0, 0.15);\n",
              "      filter: drop-shadow(0px 1px 2px rgba(0, 0, 0, 0.3));\n",
              "      fill: #FFFFFF;\n",
              "    }\n",
              "  </style>\n",
              "\n",
              "    <script>\n",
              "      const buttonEl =\n",
              "        document.querySelector('#df-12642f5d-2508-499e-a713-896d236bc931 button.colab-df-convert');\n",
              "      buttonEl.style.display =\n",
              "        google.colab.kernel.accessAllowed ? 'block' : 'none';\n",
              "\n",
              "      async function convertToInteractive(key) {\n",
              "        const element = document.querySelector('#df-12642f5d-2508-499e-a713-896d236bc931');\n",
              "        const dataTable =\n",
              "          await google.colab.kernel.invokeFunction('convertToInteractive',\n",
              "                                                    [key], {});\n",
              "        if (!dataTable) return;\n",
              "\n",
              "        const docLinkHtml = 'Like what you see? Visit the ' +\n",
              "          '<a target=\"_blank\" href=https://colab.research.google.com/notebooks/data_table.ipynb>data table notebook</a>'\n",
              "          + ' to learn more about interactive tables.';\n",
              "        element.innerHTML = '';\n",
              "        dataTable['output_type'] = 'display_data';\n",
              "        await google.colab.output.renderOutput(dataTable, element);\n",
              "        const docLink = document.createElement('div');\n",
              "        docLink.innerHTML = docLinkHtml;\n",
              "        element.appendChild(docLink);\n",
              "      }\n",
              "    </script>\n",
              "  </div>\n",
              "\n",
              "\n",
              "<div id=\"df-a54d6c82-015f-4f97-9965-8871c6f4cac4\">\n",
              "  <button class=\"colab-df-quickchart\" onclick=\"quickchart('df-a54d6c82-015f-4f97-9965-8871c6f4cac4')\"\n",
              "            title=\"Suggest charts.\"\n",
              "            style=\"display:none;\">\n",
              "\n",
              "<svg xmlns=\"http://www.w3.org/2000/svg\" height=\"24px\"viewBox=\"0 0 24 24\"\n",
              "     width=\"24px\">\n",
              "    <g>\n",
              "        <path d=\"M19 3H5c-1.1 0-2 .9-2 2v14c0 1.1.9 2 2 2h14c1.1 0 2-.9 2-2V5c0-1.1-.9-2-2-2zM9 17H7v-7h2v7zm4 0h-2V7h2v10zm4 0h-2v-4h2v4z\"/>\n",
              "    </g>\n",
              "</svg>\n",
              "  </button>\n",
              "\n",
              "<style>\n",
              "  .colab-df-quickchart {\n",
              "    background-color: #E8F0FE;\n",
              "    border: none;\n",
              "    border-radius: 50%;\n",
              "    cursor: pointer;\n",
              "    display: none;\n",
              "    fill: #1967D2;\n",
              "    height: 32px;\n",
              "    padding: 0 0 0 0;\n",
              "    width: 32px;\n",
              "  }\n",
              "\n",
              "  .colab-df-quickchart:hover {\n",
              "    background-color: #E2EBFA;\n",
              "    box-shadow: 0px 1px 2px rgba(60, 64, 67, 0.3), 0px 1px 3px 1px rgba(60, 64, 67, 0.15);\n",
              "    fill: #174EA6;\n",
              "  }\n",
              "\n",
              "  [theme=dark] .colab-df-quickchart {\n",
              "    background-color: #3B4455;\n",
              "    fill: #D2E3FC;\n",
              "  }\n",
              "\n",
              "  [theme=dark] .colab-df-quickchart:hover {\n",
              "    background-color: #434B5C;\n",
              "    box-shadow: 0px 1px 3px 1px rgba(0, 0, 0, 0.15);\n",
              "    filter: drop-shadow(0px 1px 2px rgba(0, 0, 0, 0.3));\n",
              "    fill: #FFFFFF;\n",
              "  }\n",
              "</style>\n",
              "\n",
              "  <script>\n",
              "    async function quickchart(key) {\n",
              "      const charts = await google.colab.kernel.invokeFunction(\n",
              "          'suggestCharts', [key], {});\n",
              "    }\n",
              "    (() => {\n",
              "      let quickchartButtonEl =\n",
              "        document.querySelector('#df-a54d6c82-015f-4f97-9965-8871c6f4cac4 button');\n",
              "      quickchartButtonEl.style.display =\n",
              "        google.colab.kernel.accessAllowed ? 'block' : 'none';\n",
              "    })();\n",
              "  </script>\n",
              "</div>\n",
              "    </div>\n",
              "  </div>\n"
            ]
          },
          "metadata": {},
          "execution_count": 17
        }
      ]
    },
    {
      "cell_type": "code",
      "source": [
        "test"
      ],
      "metadata": {
        "colab": {
          "base_uri": "https://localhost:8080/",
          "height": 423
        },
        "id": "sPSoPeZULcGq",
        "outputId": "b7c3d4e8-d7ce-45cc-a7d8-01197a587edb"
      },
      "execution_count": null,
      "outputs": [
        {
          "output_type": "execute_result",
          "data": {
            "text/plain": [
              "       Unnamed: 0     id                                              title  \\\n",
              "0             0.0      0  Графики обслуживания внутриквартирного и внутр...   \n",
              "1             1.0      1                             На МЦД улучшили поезда   \n",
              "2             2.0      2  Катастрофа SSJ 100: вина за гибель 41 человека...   \n",
              "3             3.0      3                                     С Днем юриста!   \n",
              "4             4.0      4                        Охота на \"черного\" лесоруба   \n",
              "...           ...    ...                                                ...   \n",
              "10566     10565.0  10565  Российские гандболистки разгромили ДР Конго на...   \n",
              "10567     10566.0  10566                                 Опоздать на смерть   \n",
              "10568     10567.0  10567         Футбольный клуб «Ростов» оскорбил спонсора   \n",
              "10569     10568.0  10568  О состоянии пострадавших в ДТП в Кызылординско...   \n",
              "10570     10569.0  10569  Палату городов центров-субъектов России возгла...   \n",
              "\n",
              "                                                    text  \n",
              "0      В соответствии с п.42 Постановления Правительс...  \n",
              "1      В Москве, на Белорусско-Савеловском центрально...  \n",
              "2      Завершено расследование дела о крушении самоле...  \n",
              "3      От души поздравляем сотрудников и преподавател...  \n",
              "4      В Костроме прошел межрегиональный форум, посвя...  \n",
              "...                                                  ...  \n",
              "10566  Сборная России по гандболу одержала третью поб...  \n",
              "10567  Барышня, очаровательная, подходит ко мне после...  \n",
              "10568  История с многомиллионным займом, который «Гру...  \n",
              "10569  НУР-СУЛТАН. КАЗИНФОРМ – Министр здравоохранени...  \n",
              "10570  Новым председателем Палаты городов центров-суб...  \n",
              "\n",
              "[10571 rows x 4 columns]"
            ],
            "text/html": [
              "\n",
              "  <div id=\"df-ab88fe85-2666-43b4-b01e-17f26b20e53d\" class=\"colab-df-container\">\n",
              "    <div>\n",
              "<style scoped>\n",
              "    .dataframe tbody tr th:only-of-type {\n",
              "        vertical-align: middle;\n",
              "    }\n",
              "\n",
              "    .dataframe tbody tr th {\n",
              "        vertical-align: top;\n",
              "    }\n",
              "\n",
              "    .dataframe thead th {\n",
              "        text-align: right;\n",
              "    }\n",
              "</style>\n",
              "<table border=\"1\" class=\"dataframe\">\n",
              "  <thead>\n",
              "    <tr style=\"text-align: right;\">\n",
              "      <th></th>\n",
              "      <th>Unnamed: 0</th>\n",
              "      <th>id</th>\n",
              "      <th>title</th>\n",
              "      <th>text</th>\n",
              "    </tr>\n",
              "  </thead>\n",
              "  <tbody>\n",
              "    <tr>\n",
              "      <th>0</th>\n",
              "      <td>0.0</td>\n",
              "      <td>0</td>\n",
              "      <td>Графики обслуживания внутриквартирного и внутр...</td>\n",
              "      <td>В соответствии с п.42 Постановления Правительс...</td>\n",
              "    </tr>\n",
              "    <tr>\n",
              "      <th>1</th>\n",
              "      <td>1.0</td>\n",
              "      <td>1</td>\n",
              "      <td>На МЦД улучшили поезда</td>\n",
              "      <td>В Москве, на Белорусско-Савеловском центрально...</td>\n",
              "    </tr>\n",
              "    <tr>\n",
              "      <th>2</th>\n",
              "      <td>2.0</td>\n",
              "      <td>2</td>\n",
              "      <td>Катастрофа SSJ 100: вина за гибель 41 человека...</td>\n",
              "      <td>Завершено расследование дела о крушении самоле...</td>\n",
              "    </tr>\n",
              "    <tr>\n",
              "      <th>3</th>\n",
              "      <td>3.0</td>\n",
              "      <td>3</td>\n",
              "      <td>С Днем юриста!</td>\n",
              "      <td>От души поздравляем сотрудников и преподавател...</td>\n",
              "    </tr>\n",
              "    <tr>\n",
              "      <th>4</th>\n",
              "      <td>4.0</td>\n",
              "      <td>4</td>\n",
              "      <td>Охота на \"черного\" лесоруба</td>\n",
              "      <td>В Костроме прошел межрегиональный форум, посвя...</td>\n",
              "    </tr>\n",
              "    <tr>\n",
              "      <th>...</th>\n",
              "      <td>...</td>\n",
              "      <td>...</td>\n",
              "      <td>...</td>\n",
              "      <td>...</td>\n",
              "    </tr>\n",
              "    <tr>\n",
              "      <th>10566</th>\n",
              "      <td>10565.0</td>\n",
              "      <td>10565</td>\n",
              "      <td>Российские гандболистки разгромили ДР Конго на...</td>\n",
              "      <td>Сборная России по гандболу одержала третью поб...</td>\n",
              "    </tr>\n",
              "    <tr>\n",
              "      <th>10567</th>\n",
              "      <td>10566.0</td>\n",
              "      <td>10566</td>\n",
              "      <td>Опоздать на смерть</td>\n",
              "      <td>Барышня, очаровательная, подходит ко мне после...</td>\n",
              "    </tr>\n",
              "    <tr>\n",
              "      <th>10568</th>\n",
              "      <td>10567.0</td>\n",
              "      <td>10567</td>\n",
              "      <td>Футбольный клуб «Ростов» оскорбил спонсора</td>\n",
              "      <td>История с многомиллионным займом, который «Гру...</td>\n",
              "    </tr>\n",
              "    <tr>\n",
              "      <th>10569</th>\n",
              "      <td>10568.0</td>\n",
              "      <td>10568</td>\n",
              "      <td>О состоянии пострадавших в ДТП в Кызылординско...</td>\n",
              "      <td>НУР-СУЛТАН. КАЗИНФОРМ – Министр здравоохранени...</td>\n",
              "    </tr>\n",
              "    <tr>\n",
              "      <th>10570</th>\n",
              "      <td>10569.0</td>\n",
              "      <td>10569</td>\n",
              "      <td>Палату городов центров-субъектов России возгла...</td>\n",
              "      <td>Новым председателем Палаты городов центров-суб...</td>\n",
              "    </tr>\n",
              "  </tbody>\n",
              "</table>\n",
              "<p>10571 rows × 4 columns</p>\n",
              "</div>\n",
              "    <div class=\"colab-df-buttons\">\n",
              "\n",
              "  <div class=\"colab-df-container\">\n",
              "    <button class=\"colab-df-convert\" onclick=\"convertToInteractive('df-ab88fe85-2666-43b4-b01e-17f26b20e53d')\"\n",
              "            title=\"Convert this dataframe to an interactive table.\"\n",
              "            style=\"display:none;\">\n",
              "\n",
              "  <svg xmlns=\"http://www.w3.org/2000/svg\" height=\"24px\" viewBox=\"0 -960 960 960\">\n",
              "    <path d=\"M120-120v-720h720v720H120Zm60-500h600v-160H180v160Zm220 220h160v-160H400v160Zm0 220h160v-160H400v160ZM180-400h160v-160H180v160Zm440 0h160v-160H620v160ZM180-180h160v-160H180v160Zm440 0h160v-160H620v160Z\"/>\n",
              "  </svg>\n",
              "    </button>\n",
              "\n",
              "  <style>\n",
              "    .colab-df-container {\n",
              "      display:flex;\n",
              "      gap: 12px;\n",
              "    }\n",
              "\n",
              "    .colab-df-convert {\n",
              "      background-color: #E8F0FE;\n",
              "      border: none;\n",
              "      border-radius: 50%;\n",
              "      cursor: pointer;\n",
              "      display: none;\n",
              "      fill: #1967D2;\n",
              "      height: 32px;\n",
              "      padding: 0 0 0 0;\n",
              "      width: 32px;\n",
              "    }\n",
              "\n",
              "    .colab-df-convert:hover {\n",
              "      background-color: #E2EBFA;\n",
              "      box-shadow: 0px 1px 2px rgba(60, 64, 67, 0.3), 0px 1px 3px 1px rgba(60, 64, 67, 0.15);\n",
              "      fill: #174EA6;\n",
              "    }\n",
              "\n",
              "    .colab-df-buttons div {\n",
              "      margin-bottom: 4px;\n",
              "    }\n",
              "\n",
              "    [theme=dark] .colab-df-convert {\n",
              "      background-color: #3B4455;\n",
              "      fill: #D2E3FC;\n",
              "    }\n",
              "\n",
              "    [theme=dark] .colab-df-convert:hover {\n",
              "      background-color: #434B5C;\n",
              "      box-shadow: 0px 1px 3px 1px rgba(0, 0, 0, 0.15);\n",
              "      filter: drop-shadow(0px 1px 2px rgba(0, 0, 0, 0.3));\n",
              "      fill: #FFFFFF;\n",
              "    }\n",
              "  </style>\n",
              "\n",
              "    <script>\n",
              "      const buttonEl =\n",
              "        document.querySelector('#df-ab88fe85-2666-43b4-b01e-17f26b20e53d button.colab-df-convert');\n",
              "      buttonEl.style.display =\n",
              "        google.colab.kernel.accessAllowed ? 'block' : 'none';\n",
              "\n",
              "      async function convertToInteractive(key) {\n",
              "        const element = document.querySelector('#df-ab88fe85-2666-43b4-b01e-17f26b20e53d');\n",
              "        const dataTable =\n",
              "          await google.colab.kernel.invokeFunction('convertToInteractive',\n",
              "                                                    [key], {});\n",
              "        if (!dataTable) return;\n",
              "\n",
              "        const docLinkHtml = 'Like what you see? Visit the ' +\n",
              "          '<a target=\"_blank\" href=https://colab.research.google.com/notebooks/data_table.ipynb>data table notebook</a>'\n",
              "          + ' to learn more about interactive tables.';\n",
              "        element.innerHTML = '';\n",
              "        dataTable['output_type'] = 'display_data';\n",
              "        await google.colab.output.renderOutput(dataTable, element);\n",
              "        const docLink = document.createElement('div');\n",
              "        docLink.innerHTML = docLinkHtml;\n",
              "        element.appendChild(docLink);\n",
              "      }\n",
              "    </script>\n",
              "  </div>\n",
              "\n",
              "\n",
              "<div id=\"df-f302cc1c-b18b-47c4-b952-de2576f36a30\">\n",
              "  <button class=\"colab-df-quickchart\" onclick=\"quickchart('df-f302cc1c-b18b-47c4-b952-de2576f36a30')\"\n",
              "            title=\"Suggest charts.\"\n",
              "            style=\"display:none;\">\n",
              "\n",
              "<svg xmlns=\"http://www.w3.org/2000/svg\" height=\"24px\"viewBox=\"0 0 24 24\"\n",
              "     width=\"24px\">\n",
              "    <g>\n",
              "        <path d=\"M19 3H5c-1.1 0-2 .9-2 2v14c0 1.1.9 2 2 2h14c1.1 0 2-.9 2-2V5c0-1.1-.9-2-2-2zM9 17H7v-7h2v7zm4 0h-2V7h2v10zm4 0h-2v-4h2v4z\"/>\n",
              "    </g>\n",
              "</svg>\n",
              "  </button>\n",
              "\n",
              "<style>\n",
              "  .colab-df-quickchart {\n",
              "    background-color: #E8F0FE;\n",
              "    border: none;\n",
              "    border-radius: 50%;\n",
              "    cursor: pointer;\n",
              "    display: none;\n",
              "    fill: #1967D2;\n",
              "    height: 32px;\n",
              "    padding: 0 0 0 0;\n",
              "    width: 32px;\n",
              "  }\n",
              "\n",
              "  .colab-df-quickchart:hover {\n",
              "    background-color: #E2EBFA;\n",
              "    box-shadow: 0px 1px 2px rgba(60, 64, 67, 0.3), 0px 1px 3px 1px rgba(60, 64, 67, 0.15);\n",
              "    fill: #174EA6;\n",
              "  }\n",
              "\n",
              "  [theme=dark] .colab-df-quickchart {\n",
              "    background-color: #3B4455;\n",
              "    fill: #D2E3FC;\n",
              "  }\n",
              "\n",
              "  [theme=dark] .colab-df-quickchart:hover {\n",
              "    background-color: #434B5C;\n",
              "    box-shadow: 0px 1px 3px 1px rgba(0, 0, 0, 0.15);\n",
              "    filter: drop-shadow(0px 1px 2px rgba(0, 0, 0, 0.3));\n",
              "    fill: #FFFFFF;\n",
              "  }\n",
              "</style>\n",
              "\n",
              "  <script>\n",
              "    async function quickchart(key) {\n",
              "      const charts = await google.colab.kernel.invokeFunction(\n",
              "          'suggestCharts', [key], {});\n",
              "    }\n",
              "    (() => {\n",
              "      let quickchartButtonEl =\n",
              "        document.querySelector('#df-f302cc1c-b18b-47c4-b952-de2576f36a30 button');\n",
              "      quickchartButtonEl.style.display =\n",
              "        google.colab.kernel.accessAllowed ? 'block' : 'none';\n",
              "    })();\n",
              "  </script>\n",
              "</div>\n",
              "    </div>\n",
              "  </div>\n"
            ]
          },
          "metadata": {},
          "execution_count": 16
        }
      ]
    },
    {
      "cell_type": "code",
      "source": [
        "test.text[5]"
      ],
      "metadata": {
        "colab": {
          "base_uri": "https://localhost:8080/",
          "height": 88
        },
        "id": "1MkAGd6avR3y",
        "outputId": "ae52f5c7-1761-4b1c-9368-77b23fcb048f"
      },
      "execution_count": 18,
      "outputs": [
        {
          "output_type": "execute_result",
          "data": {
            "text/plain": [
              "'Вратарь «Ливерпуля» и сборной Бразилии Алисон Бекер высказался о победе нападающего «Барселоны» Лионеля Месси в борьбе за награду «Золотой мяч».«Сейчас Месси лучший не только потому, что он получил шесть «Золотых мячей». Это огромное достижение, но и потому, что он сделал для «Барселоны», — цитирует Алисона РИА «Новости».\\nЦеремония вручения «Золотого мяча» прошла 2 декабря в Париже. «Газета.Ru» провела текстовую онлайн-трансляцию мероприятия.Ранее сообщалось, что Алисон получил премию Льва Яшина.'"
            ],
            "application/vnd.google.colaboratory.intrinsic+json": {
              "type": "string"
            }
          },
          "metadata": {},
          "execution_count": 18
        }
      ]
    },
    {
      "cell_type": "code",
      "source": [
        "test['concat_text'] = test['title'] + ' ' + test['text']\n",
        "test['concat_text'] = test['concat_text'].astype(str)"
      ],
      "metadata": {
        "id": "aqa3yi55RzZt"
      },
      "execution_count": 3,
      "outputs": []
    },
    {
      "cell_type": "code",
      "source": [
        "round(train.label.value_counts() / len(train) * 100, 2).plot.bar()"
      ],
      "metadata": {
        "colab": {
          "base_uri": "https://localhost:8080/",
          "height": 442
        },
        "id": "yjh8fpeRKOm5",
        "outputId": "b6a11128-423a-4c5c-fa46-5e8c33c5a99c"
      },
      "execution_count": 4,
      "outputs": [
        {
          "output_type": "execute_result",
          "data": {
            "text/plain": [
              "<Axes: >"
            ]
          },
          "metadata": {},
          "execution_count": 4
        },
        {
          "output_type": "display_data",
          "data": {
            "text/plain": [
              "<Figure size 640x480 with 1 Axes>"
            ],
            "image/png": "[encoded data removed]"
          },
          "metadata": {}
        }
      ]
    },
    {
      "cell_type": "code",
      "source": [
        "train.sentence.values[-5:]"
      ],
      "metadata": {
        "colab": {
          "base_uri": "https://localhost:8080/"
        },
        "id": "l8XNWr01rryU",
        "outputId": "b1f9fc27-27d2-46e3-b421-6529dd833ff8"
      },
      "execution_count": 5,
      "outputs": [
        {
          "output_type": "execute_result",
          "data": {
            "text/plain": [
              "array(['Подрядчик ООО «АльянсДорСтрой» должен сдать объект в первом квартале 2020 года, но строители взяли на себя обязательство сдать объект досрочно в декабре нынешнего года.',\n",
              "       'Он заявил, что запуск ракеты-носителя сверхтяжелого класса с космодрома должен состояться в 2028 году.',\n",
              "       'Застройщик ЖК \"Медовая Долина\" планирует ввести объект в срок',\n",
              "       'Официальные сроки, указанные в проектной декларации столичного ЖК \"Медовая долина\", подразумевают ввод в эксплуатацию второй и третьей очередей (корпуса №4-9) во втором квартале 2020 года',\n",
              "       'Он потребовал «выдержать намеченные сроки» строительства космодрома Восточный и запуска с него ракет-носителей.'],\n",
              "      dtype=object)"
            ]
          },
          "metadata": {},
          "execution_count": 5
        }
      ]
    },
    {
      "cell_type": "code",
      "source": [
        "train.sentence.values[:5]"
      ],
      "metadata": {
        "colab": {
          "base_uri": "https://localhost:8080/"
        },
        "id": "2cg2CNWzrwBW",
        "outputId": "d88482cc-c32f-4864-e848-e662431e5ba8"
      },
      "execution_count": 6,
      "outputs": [
        {
          "output_type": "execute_result",
          "data": {
            "text/plain": [
              "array(['Срыв сроков строительства зоопарка оценили в 1 млрд рублей Управление капстроительства намерено взыскать в арбитраже 1 млрд руб. с АО \"РЖДстрой\" в качестве неустойки за срыв срока сдачи первой очереди зоопарка.',\n",
              "       'По данным Генпрокуратуры РФ, в 2014-2018 годах выявили 17 тысяч различных нарушений - хищение бюджетных средств, затягивание сроков строительства, невыплата зарплат и другие факты, происходившие при возведении космодрома.',\n",
              "       'Обвиняли в этом столичный акимат, который сорвал сроки строительства первого и второго пусковых комплексов первой очереди газораспределительных сетей.',\n",
              "       'Запуск циклотронного центра ядерной медицины на базе УрФУ откладывается из-за неоконченных пуско-наладочных работ канадского циклотрона TR-24.',\n",
              "       'Сроки сдачи объекта несколько раз переносились.'], dtype=object)"
            ]
          },
          "metadata": {},
          "execution_count": 6
        }
      ]
    },
    {
      "cell_type": "code",
      "source": [
        "test.concat_text.values[:5]"
      ],
      "metadata": {
        "colab": {
          "base_uri": "https://localhost:8080/"
        },
        "id": "VWdsAySEypWH",
        "outputId": "44f98a41-f013-4973-bdec-fff3e5253529"
      },
      "execution_count": 10,
      "outputs": [
        {
          "output_type": "execute_result",
          "data": {
            "text/plain": [
              "array(['Графики обслуживания внутриквартирного и внутридомового газового оборудования В соответствии с п.42 Постановления Правительства РФ от 14.05.2013г. №410, собственники жилых помещений в многоквартирном доме и частных домовладений обязаны обеспечивать доступ представителей специализированной организации к внутридомовому и (или) внутриквартирному газовому оборудованию для проведения работ (оказания услуг) по техническому обслуживанию и ремонту указанного оборудования (ТО ВДГО). В целях обеспечения безопасности жизни и здоровья граждан, предотвращения возможных аварийных ситуаций при эксплуатации внутриквартирного и внутридомового газового оборудования собственникам квартир и домовладений необходимо обеспечить доступ для планового проведения ТО ВДГО специалистами АО «Шадринскмежрайгаз». О дате проведения работ по ТО ВДГО можно узнать в газете «Ваша выгода» № 98 от 11.12.2018 г, на сайте АО «Шадринскмежрайгаз» www.kurgangazcom.ru в разделе «Графики обслуживания ВДГО», по телефону 04 (моб. 104), а также на официальном\\xa0сайте Администрации города Шадринска. В случае невозможности нахождения дома во время производства работ, необходимо обратиться в АО «Шадринскмежрайгаз» по тел. 04 (моб. 104) и согласовать удобный день и время выезда специалистов для выполнения работ по техническому обслуживанию газопроводов и газового оборудования. Кроме того, с информацией о недопускниках можно ознакомиться на официальном сайте АО «Шадринскмежрайгаз» www.kurgangazcom.ru в разделе «Недопуски ТО ВДГО». ',\n",
              "       'На МЦД улучшили поезда В Москве, на Белорусско-Савеловском центральном диаметре запустили более вместительные поезда. В результате пропускная способность железнодорожной ветки увеличится на 357 тысяч пассажиров в сутки. Кроме того, транспортные работники вместе с волонтерами продолжают устранять проблемы с турникетами и другой техникой.\"Иволги\", кажется, не спят. Буквально летят по московским центральным диаметрам. Крупнейший транспортный проект объединил, кажется, невозможное: метро и электрички, скорость и время. Но главное — работает формула: добраться быстро, теперь не значит — дорого.А сейчас и вовсе бесплатно. Две линии МЦД работают в режиме открытых турникетов. Пока специалисты ликвидируют технические недостатки. Выявить которые помогли пассажиры, во время запуска системы.\"В процессе работы билетной системы появилась необходимость для дополнительного тестирования пересадок, и поэтому сейчас организовали двухнедельный бесплатный проезд для пассажиров для доработки билетной системы\", — сообщил Артем Царев, директор по развитию диаметральных маршрутов Центральной пригородной пассажирской компании.Совершенствоваться, значит — становиться лучше. Работы много. Необходимо настроить более 5 тысяч устройств, на 57 станциях. Турникеты, билетные автоматы и валидаторы — это часовые метрополитена. Мимо них до заветного вагона не добраться. Проверить на прочность зоны прохода через турникет сегодня могли народные контролёры — пассажиры.Ведь стабильность, бесперебойность и точность работы техники зависит от программного обеспечения. На прочность, и добросовестность проверяли и валидаторы. Считывается ли проездной, и какую сумму с карты списывает устройство.\"Человек прикладывает карту к валидатору, происходит списание. Мы смотрим, что это списание корректно. И, соответственно, тестируются различные сценарии, в том числе, входом и выходом при пересадке в метрополитен, корректно ли списание, как пассажир идет по маршруту движения\", — добавил Артем Царев, директор по развитию диаметральных маршрутов Центральной пригородной пассажирской компании.Проверка проводится сразу на двух станциях второго диаметра — Белорусская и Фили. Тест на прочность и выносливость техники продлится почти неделю, до 8 декабря включительно.А пока еще один к шаг доступности. С сегодняшнего дня по диаметрам навстречу пассажирам мчатся обновленные \"Иволги\". С расширенным составом – уже 11 вагонов. А это более 300 тысяч дополнительных мест в сутки.',\n",
              "       'Катастрофа SSJ 100: вина за гибель 41 человека возложена на пилота Завершено расследование дела о крушении самолета Sukhoi Superjet 100 в московском аэропорту Шереметьево. В результате жесткой посадки 5 мая 2019 года погиб 41 человек (40 пассажиров и один бортпроводник). Вина за произошедшее полностью возложена на командира лайнера Дениса Евдокимова . Он обвиняется по статье \"Нарушение правил безопасности движения и эксплуатации воздушного транспорта, повлекшее по неосторожности причинение тяжкого вреда здоровью человека, смерть двух и более лиц\" УК РФ, сообщил \"Интерфаксу\" информированный источник. \"Действия Евдокимова по управлению воздушным судном, совершенные с нарушением установленных правил, повлекли разрушение и возгорание самолета\", - указывалось ранее в материалах Следственного комитета России. Трагический инцидент произошел 5 мая. Самолет Superjet-100 авиакомпании \"Аэрофлот\" вылетел из аэропорта Шереметьево в Мурманск. Во время набора высоты в лайнер ударила молния, которая вывела из строя часть электроники. Экипаж принял решение вернуться в аэропорт. Во время посадки SSJ100 слишком сильно ударился о взлетно-посадочную полосу. Стойки шасси проломили баки с керосином, топливо вспыхнуло, и пламя охватило всю хвостовую часть самолета. Ранее руководитель главного управления криминалистики Следственного комитета РФ Зигмунд Ложис рассказал, что большинство пассажиров скончались не от удара, а от отравления продуктами горения . Все произошло настолько быстро, что люди не успели среагировать на ситуацию, отстегнуть ремни и встать из кресел. ',\n",
              "       'С Днем юриста! От души поздравляем сотрудников и преподавателей, студентов и выпускников Алтайского филиала РАНХиГС с Днем юриста! Этот праздник объединяет людей, посвятивших свою жизнь благородному делу - служению закону, правде и справедливости. \\xa0Сегодня профессия юриста является одной из самых уважаемых и почетных, но она предполагает и большую ответственность. Ведь именно от юристов зависит решение ряда фундаментальных государственных задач, касающихся защиты прав и свобод граждан, обеспечения незыблемости собственности, утверждения верховенства закона, дальнейшего совершенствования законодательства и роста правовой культуры граждан. Желаем и уже состоявшимся, и будущим юристам нашей Академии высокого профессионализма, последовательного и твердого служения закону и праву, счастья, здоровья и благополучия! С уважением, руководство Алтайского филиала РАНХиГС. ',\n",
              "       'Охота на \"черного\" лесоруба В Костроме прошел межрегиональный форум, посвященный законности в сфере лесопользования\\n\\nВ регионах волжского бассейна стремительно растут масштабы истребления лесов. По сравнению с прошлым годом объемы незаконной заготовки древесины увеличились в полтора раза. Методы борьбы с \"черными\" лесорубами и предложения по защите лесов представители отрасли обсудили в Костроме, где прошел открытый межрегиональный форум, посвященный законности в сфере лесопользования. Его участниками стали представители власти, общественники и прокуроры регионов северо-запада и центра России. На форуме побывала корреспондент \"РГ\".\\n\"Это наша нефть\"\\n\\nСпрос на лес на отечественном и мировом рынке растет постоянно. В прошлом году в костромских лесах заготовили 5,9 миллиона кубометров древесины, что на четверть больше показателей 2017 года. За девять месяцев 2019 года показатели выросли еще на 100 тысяч кубометров.\\n\\n\"Лес - это наша \"нефть\", отметили участники совещания. Традиционно на Костромской земле занимались лесозаготовкой и лесопереработкой - основой региональной экономики. К сожалению, многие пользователи относятся к природе хищнически: ведут незаконные рубки, не проводят на опустошенных делянках санитарную очистку от порубочных остатков, уклоняются от обязанностей по лесовосстановлению и защите лесов от пожаров.\\n\\n- В прошлом и в текущем году и выявлено более 500 нарушений закона в этой сфере, - сообщил прокурор Костромской области Владимир Тюльков. - На территории региона в 2018 году за нарушения лесного законодательства, связанные, в том числе, с незаконной рубкой, было возбуждено 87 уголовных дел. За 10 месяцев этого года цифра фактически вдвое меньше и количество нарушений в этой сфере уменьшилось на 33 процента.\\n\\nВоровской автобан\\n\\nНесмотря на меньшее количество выявленных нарушений, общее число уничтоженных деревьев и размер вреда, причиненного природе, стремительно растет. За шесть месяцев прошлого года на территории Костромской, Ярославской, Ивановской, Тверской, Вологодской и Ярославской областей произошло 437 незаконных рубок, а в этом - 319, но ущерб вырос со 175 до 287 миллионов рублей. В 2017 году потери лесного фонда Костромской области оценивались в 1,2 миллиона рублей, а в 2018 - уже в 8,6 миллиона.\\n\\nЭксперты отмечают, что виновниками незаконных рубок чаще становятся не селяне-одиночки, пришедшие в лес за вязанкой дров или новогодней елкой, а представители крупного лесозаготовительного бизнеса. Почти повсеместно дельцы самовольно захватывают участки, возводят на них дома и отели, устраивают свалки.\\n\\n- Мы все эти схемы знаем, - заверил волжский межрайонный природоохранный прокурор Вениамин Селифанов. - Небольшое предприятие организовало турбазу в лесу и зарабатывает серьезные деньги, нарушив все, что только возможно. В 2019 году в Тверской области по иску природоохроанного прокурора возвращено в государственную собственность из незаконного пользования 740 гектаров земель лесного фонда.\\n\\nПо его данным, только в Тверской области один из заготовителей, незаконно складируя лес и загрязняя землю, нанес природе ущерб на 2 миллиарда рублей.\\n\\n- Незаконное складирование леса на территории лесничеств - общая проблема всех регионов, - заметил Селифанов. - Заготовители самовольно используют государственные земли у дорог и считают, что им можно все. Но полежит лес несколько месяцев- и земля становится непригодна для использования на многие годы.\\n\\nВ некоторых регионах варварское использование природных богатств приобрело невиданный размах: для быстрого вывоза ворованного леса дельцы прокладывают на захваченные делянки бетонные автобаны. К тому моменту, когда власти замечают вырубленную проплешину со спутниковых снимков, нарушители, как правило, уже успевают исчезнуть.\\n\\nБезнаказанными остаются две трети \"черных лесорубов\". В отчетах этого года о 319 незаконных рубках в шести российских регионах (Костромской, Ярославской, Ивановской, Тверской, Вологодской и Ярославской областях) говорится, что 207 преступлений совершены \"неустановленными лицами\".\\n\\nНередко избежать наказания нарушителям помогают нерадивые и коррумпированные чиновники на местах.\\n\\n- Выявлены факты ненадлежащего проведения рейдовых осмотров, обследования лесных участков, что позволило более 20 виновным лицам избежать административной ответственности, - рассказала начальник отдела Костромской облпрокуратуры Юлия Калистова.\\n\\nВ некоторых регионах ситуация доходит до абсурда. Например, в поселке Николо-Полома Парфеньевского района Костромской области владелец участка обнаружил, что часть его территории незаконно захвачена под склад лесопродукции сомнительного происхождения. Он больше года обращался во все инстанции с просьбой найти злоумышленников и помочь очистить его землю. Однако в ответ получал лишь отписки. Когда настойчивый костромич пожаловался повторно, проверяющие составили протокол на самого заявителя, обвинив его в \"нарушении противопожарных норм\" за наличие той самой чужой древесины на его участке. Очевидно, чтобы больше не жаловался.\\n\\nУдар по \"черному лесорубу\"\\n\\nПытаясь придать законный вид теневому бизнесу, \"черные лесорубы\" придумали хитроумную схему. Они начали обращаться в лесничества с пачками заявлений на выделение лесных участков, написанными от лица умерших жителей. На таких делянках можно было снять сливки на быстрой продаже, порубочные остатки бросить, а молодняк не высаживать. Оно и верно: с мертвецов какой спрос?\\n\\nКогда \"нашествие покойников\" приобрело массовый характер, власти поняли, что на теневых схемах с мертвыми душами бюджет теряет колоссальные суммы, а захламленные отходами делянки становятся рассадником вредителей и лесных пожаров. Чтобы исправить ситуацию, заявления от лесопользователей начали принимать только лично, а каждый заключенный договор проверять через загс и прокуратуру.\\n\\n- Ежегодно в Костромской области заключалось около 1000 договоров в сфере лесопользования, из них порядка 60 оформлялись на мертвых душ. С тех пор как мы начали проверять договоры, сопоставляя их с данными загса, и привлекать лесорубов к ответственности за незаконные рубки, количество \"мертвых арендаторов\" резко уменьшилось. Последний такой договор был выявлен в 2018 году, - рассказал \"РГ\" заместитель костромского межрайонного природоохранного прокурора Артем Михин.\\n\\nЛесник на паперти\\n\\nСейчас более 60 процентов лесов региона находятся в пользовании арендаторов. Многие из них становятся нарушителями поневоле - например, из-за ошибок при оформлении документов в лесничествах.\\n\\n- Когда мы говорим о незаконных рубках, то подразумеваем, что мужик с топором пришел в лес без документов и нарубил себе, сколько надо. Но незаконные рубки бывают и у законных лесопользователей. Основная проблема отрасли - вопросы правового регулирования. Возникает огромное количество противоречий, многие понятия законодательно не закреплены, - убежден костромской губернатор Сергей Ситников.\\n\\n- Законом не определено, как квалифицировать рубку насаждений, определенную проектом освоения лесов, но не соответствующую сведениям, указанным в лесной декларации, - пояснил руководитель костромского департамента лесного хозяйства Александр Голубев. - Эта рубка признается незаконной, при этом нет различий при рубке без разрешительных документов и при нарушении границ участков. Методика определения ущерба не делает различий при неумышленных нарушениях и при ошибках при оформлении лесосеки. Мы предлагаем разделить рубки, которые совершены в результате ошибок при разработке лесосек. В таких случаях ущерб природе не причинен, если объем заготовки не превышен. Это предлагается отнести к административным правонарушениям.\\n\\nПо мнению экспертов, нарушения при отводе лесосек связаны в первую очередь с тем, что профессионализм лесничих снижается.\\n\\n- Из-за крайне низкого уровня оплаты труда молодые специалисты в лес не идут. Нагрузка на них очень большая, а зарплата - всего 14 тысяч рублей. За три года всего пять молодых специалистов пришло в лесничества. Зарплату надо повышать, - посетовал Александр Голубев.\\n\\nУчастники форума договорились в течение десяти дней собрать рекомендации экспертов о том, какие коррективы следует внести в действующее законодательство, чтобы исправить проблемную ситуацию в лесной сфере.\\n\\nКомментарии\\n\\nЕвгений Рыбаков, руководитель общественной организации \"Экологический Рязанский альянс\":\\n\\n- К сожалению, у нас до последнего времени были закрыты лесные карты. Когда приезжаешь на вырубку, установить незаконность уже очень сложно. Лучше обращать внимание на момент, когда производится отвод. Информация должна выкладываться на сайте Минприроды. Еще одна проблемная ситуация - строительство дорог. Когда их строят - спиливают лес и складывают его вдоль трассы, где он пропадает или разворовывается. Предлагаем сначала продавать лес на корню, а потом уже использовать этот участок.\\n\\nВиктор Улитин, первый заместитель председателя комитета Ивановской области по лесному хозяйству:\\n\\n- Одна из основных наших задач- восстановление лесов. По итогам осенней инвентаризации питомников, в 2019 году арендаторы лесных участков вырастили более 9,5 миллиона штук сеянцев стандартного посадочного материала. Потребность на весну 2020 года составляет порядка 13 миллионов штук. Дефицит посадочного материала - 3,5 миллиона. Их планируется приобрести в питомниках своего региона и частично в соседних областях, соответствующих лесосеменному районированию. В весенний сезон планируем приступить к выращиванию сеянцев с закрытой корневой системой.'],\n",
              "      dtype=object)"
            ]
          },
          "metadata": {},
          "execution_count": 10
        }
      ]
    },
    {
      "cell_type": "markdown",
      "source": [
        "# Preprocessing"
      ],
      "metadata": {
        "id": "wcW2SVLC185a"
      }
    },
    {
      "cell_type": "code",
      "source": [
        "import nltk\n",
        "import pymorphy2\n",
        "from nltk.corpus import stopwords\n",
        "import string\n",
        "import re\n",
        "nltk.download('stopwords')\n",
        "stopwords = stopwords.words(\"russian\")\n",
        "morph_analyzer = pymorphy2.MorphAnalyzer()\n",
        "grams_exclusion = ['NUMB', 'Geox', 'Orgn', 'Name', 'Surn']\n",
        "\n",
        "def norm_text(txt, stopwords, morph):\n",
        "    ans = []\n",
        "    txt = txt.lower()\n",
        "    txt = txt.strip()\n",
        "    txt = re.sub('https?://\\S+|www\\.\\S+', '', txt)\n",
        "    txt = \" \".join(re.findall(r'[\\w\\d]+', txt))\n",
        "    txt = txt.replace(\"  \", \" \")\n",
        "    txt = \" \".join([word for word in str(txt).split() if word not in stopwords])\n",
        "    for word in txt.split():\n",
        "      parsed = morph.parse(word)[0]\n",
        "      ans.append(parsed.normal_form)\n",
        "      for gram in grams_exclusion:\n",
        "        if gram in parsed.tag:\n",
        "          ans[-1] = f'[{gram.upper()}]'\n",
        "          break\n",
        "    return \" \".join(ans)"
      ],
      "metadata": {
        "colab": {
          "base_uri": "https://localhost:8080/"
        },
        "id": "1jieM5G1SrPj",
        "outputId": "b080e396-2932-4281-f46d-b001b43b7d6c"
      },
      "execution_count": 4,
      "outputs": [
        {
          "output_type": "stream",
          "name": "stderr",
          "text": [
            "[nltk_data] Downloading package stopwords to /root/nltk_data...\n",
            "[nltk_data]   Package stopwords is already up-to-date!\n"
          ]
        }
      ]
    },
    {
      "cell_type": "code",
      "source": [
        "example = train.sentence.values[1]"
      ],
      "metadata": {
        "id": "H8ME2jH9bD2r"
      },
      "execution_count": 4,
      "outputs": []
    },
    {
      "cell_type": "code",
      "source": [
        "example"
      ],
      "metadata": {
        "colab": {
          "base_uri": "https://localhost:8080/",
          "height": 53
        },
        "id": "1lVvoKORmzsW",
        "outputId": "24597d81-3b52-4248-c853-2169db857fac"
      },
      "execution_count": 5,
      "outputs": [
        {
          "output_type": "execute_result",
          "data": {
            "text/plain": [
              "'По данным Генпрокуратуры РФ, в 2014-2018 годах выявили 17 тысяч различных нарушений - хищение бюджетных средств, затягивание сроков строительства, невыплата зарплат и другие факты, происходившие при возведении космодрома.'"
            ],
            "application/vnd.google.colaboratory.intrinsic+json": {
              "type": "string"
            }
          },
          "metadata": {},
          "execution_count": 5
        }
      ]
    },
    {
      "cell_type": "code",
      "source": [
        "norm_text(example, stopwords, morph_analyzer)"
      ],
      "metadata": {
        "colab": {
          "base_uri": "https://localhost:8080/",
          "height": 53
        },
        "id": "_q5mk_Mo7ShJ",
        "outputId": "cc227d30-360a-40cf-ebf0-36bc0f42a9ad"
      },
      "execution_count": 6,
      "outputs": [
        {
          "output_type": "execute_result",
          "data": {
            "text/plain": [
              "'данные [ORGN] [GEOX] [NUMB] [NUMB] год выявить [NUMB] тысяча различный нарушение хищение бюджетный средство затягивание срок строительство невыплата зарплата другой факт происходить возведение космодром'"
            ],
            "application/vnd.google.colaboratory.intrinsic+json": {
              "type": "string"
            }
          },
          "metadata": {},
          "execution_count": 6
        }
      ]
    },
    {
      "cell_type": "code",
      "source": [
        "from tqdm.notebook import tqdm\n",
        "tqdm.pandas()\n",
        "train['norm_sent'] = train['sentence'].progress_apply(lambda x: norm_text(x, stopwords, morph_analyzer))\n",
        "test['concat_text'] = test['concat_text'].progress_apply(lambda x: norm_text(x, stopwords, morph_analyzer))"
      ],
      "metadata": {
        "colab": {
          "base_uri": "https://localhost:8080/",
          "height": 81,
          "referenced_widgets": [
            "4af5d6e8d3484a428ba51df35032a54e",
            "674f5ac9612d4b2a9dcaca2cd06f937b",
            "4f582644bc1949b79a326a0436197c38",
            "fce7c864cf404c1bbce380f8563b15fa",
            "c52e291be4ef4989aec4bb7cfd280c10",
            "eeef88d507d1473286a87126696cb0b4",
            "b12c96c19fc5481ba93795408e0ad03c",
            "66c0e3cd9e4e47b4a78ae127ebae4d6a",
            "c9493462ae05433589ca5614d8f37650",
            "b0fa5a24b84444d3bc1da48cd757c03b",
            "73da1947633741d4bece754f7c3914cc",
            "d79f579e662a4427867fb734b4bb7626",
            "2f2bb78a1d1b4fe6b70cbe5111137023",
            "aecde9242f4e481ab7ae3c45c45eec6f",
            "16819ea7fb0a4b64b18fe6a58440aa69",
            "4330afe5916942c69f5844b2d9b885c8",
            "272173ba196d4bed95b1c20b5acafc09",
            "d98b32c40b91414ebbcac92d86de0d01",
            "f3626c3c07444df2a97b1263a7067432",
            "adf0ae5511ba4bed9e503c61cf61e25e",
            "ee294c10356d44929d1a4e8450f7c8af",
            "6199117a9e7f49f99de1759cfe096221"
          ]
        },
        "id": "8algAs8H2BU1",
        "outputId": "e390ba81-f72c-4c85-98c4-92aea71b40e9"
      },
      "execution_count": 5,
      "outputs": [
        {
          "output_type": "display_data",
          "data": {
            "text/plain": [
              "  0%|          | 0/1669 [00:00<?, ?it/s]"
            ],
            "application/vnd.jupyter.widget-view+json": {
              "version_major": 2,
              "version_minor": 0,
              "model_id": "4af5d6e8d3484a428ba51df35032a54e"
            }
          },
          "metadata": {}
        },
        {
          "output_type": "display_data",
          "data": {
            "text/plain": [
              "  0%|          | 0/10571 [00:00<?, ?it/s]"
            ],
            "application/vnd.jupyter.widget-view+json": {
              "version_major": 2,
              "version_minor": 0,
              "model_id": "d79f579e662a4427867fb734b4bb7626"
            }
          },
          "metadata": {}
        }
      ]
    },
    {
      "cell_type": "code",
      "source": [
        "train.norm_sent.values[:10]"
      ],
      "metadata": {
        "colab": {
          "base_uri": "https://localhost:8080/"
        },
        "id": "sY61s6VH2Ymp",
        "outputId": "0ce2887a-a3e8-4363-aa47-561737ff034e"
      },
      "execution_count": 6,
      "outputs": [
        {
          "output_type": "execute_result",
          "data": {
            "text/plain": [
              "array(['срыв срок строительство зоопарк оценить [NUMB] млрд рубль управление капстроительство намерить взыскать арбитраж [NUMB] млрд руб [ORGN] рждстроить качество неустойка срыв срок сдача первый очередь зоопарк',\n",
              "       'данные [ORGN] [GEOX] [NUMB] [NUMB] год выявить [NUMB] тысяча различный нарушение хищение бюджетный средство затягивание срок строительство невыплата зарплата другой факт происходить возведение космодром',\n",
              "       'обвинять столичный акимат который сорвать срок строительство первый второй пусковой комплекс первый очередь газораспределительный сеть',\n",
              "       'запуск циклотронный центр ядерный медицина база [GEOX] откладываться неоконченный [GEOX] наладочный работа канадский циклотрон tr [NUMB]',\n",
              "       'срок сдача объект несколько переноситься',\n",
              "       'построить последний участок северный обход [GEOX] планироваться ранее [NUMB] г завершить работа строительство трасса первоначально планироваться начало чемпионат мир футбол [NUMB] г срок неоднократно переноситься',\n",
              "       'история последний долгострой тянуться протяжение десять год строительство два другой заморозить ещё год назад',\n",
              "       'cut поднять тема оперативный совещание правительство регион губернатор заставить пример первомайский район область [NAME] [SURN] побывать рабочий визит муниципалитет [GEOX] расторгнуть договор компания срывать срок строительство детский сад',\n",
              "       'изначально планироваться ввести дорога [NUMB] год чемпионат мир футбол который проходить [GEOX] однако строитель успевать сдать отчётный документ часть работа также столкнуться археологический находка ленинградский область несколько месяц задержать стройка',\n",
              "       'третий этап рабочий документация ввод киса [NUMB] выйти сложный работа выполнить нарушение срок ненадлежащий качество недостаток зафиксировать рекламационный акт'],\n",
              "      dtype=object)"
            ]
          },
          "metadata": {},
          "execution_count": 6
        }
      ]
    },
    {
      "cell_type": "code",
      "source": [
        "len_seq = []\n",
        "for seq in train.norm_sent:\n",
        "  len_seq.append(len(seq))\n",
        "\n",
        "print(max(len_seq), min(len_seq))\n",
        "plt.hist(len_seq, bins=50, ec='black')\n",
        "plt.show()"
      ],
      "metadata": {
        "colab": {
          "base_uri": "https://localhost:8080/",
          "height": 447
        },
        "id": "qqRk_L0Xwv1n",
        "outputId": "4b2bb348-fdc9-4c5f-c4cc-d35695e19dbc"
      },
      "execution_count": 9,
      "outputs": [
        {
          "output_type": "stream",
          "name": "stdout",
          "text": [
            "898 13\n"
          ]
        },
        {
          "output_type": "display_data",
          "data": {
            "text/plain": [
              "<Figure size 640x480 with 1 Axes>"
            ],
            "image/png": "[encoded data removed]"
          },
          "metadata": {}
        }
      ]
    },
    {
      "cell_type": "code",
      "source": [
        "def top_n_freq_words(df, n):\n",
        "  d = {}\n",
        "  for sent in df.norm_sent:\n",
        "    for w in sent.split():\n",
        "      if w not in ['[NUMB]', '[GEOX]', '[ORGN]', '[NAME]', '[SURN]']:\n",
        "        d[w] = 1 + d.get(w, 0)\n",
        "  d = {k: v for k, v in sorted(d.items(), key=lambda x: x[1], reverse=True)}\n",
        "  return list(d.items())[:n]"
      ],
      "metadata": {
        "id": "ZPeKiM4qo72J"
      },
      "execution_count": 10,
      "outputs": []
    },
    {
      "cell_type": "code",
      "source": [
        "top_n_freq_words(train[train.label == 1], 10)"
      ],
      "metadata": {
        "colab": {
          "base_uri": "https://localhost:8080/"
        },
        "id": "YNym36tGqbfQ",
        "outputId": "2da8787f-5a52-40bb-9363-eff3e237783e"
      },
      "execution_count": 11,
      "outputs": [
        {
          "output_type": "execute_result",
          "data": {
            "text/plain": [
              "[('срок', 189),\n",
              " ('год', 139),\n",
              " ('эксплуатация', 118),\n",
              " ('строительство', 105),\n",
              " ('дом', 102),\n",
              " ('ввод', 99),\n",
              " ('задержка', 76),\n",
              " ('сдача', 71),\n",
              " ('объект', 61),\n",
              " ('компания', 56)]"
            ]
          },
          "metadata": {},
          "execution_count": 11
        }
      ]
    },
    {
      "cell_type": "code",
      "source": [
        "top_n_freq_words(train[train.label == 0], 10)"
      ],
      "metadata": {
        "colab": {
          "base_uri": "https://localhost:8080/"
        },
        "id": "Ybjn1devqq4v",
        "outputId": "ce09e8ee-e543-46f5-f847-372d92486e13"
      },
      "execution_count": 12,
      "outputs": [
        {
          "output_type": "execute_result",
          "data": {
            "text/plain": [
              "[('год', 293),\n",
              " ('дом', 257),\n",
              " ('строительство', 250),\n",
              " ('застройщик', 176),\n",
              " ('срок', 154),\n",
              " ('объект', 153),\n",
              " ('который', 145),\n",
              " ('дольщик', 138),\n",
              " ('компания', 123),\n",
              " ('работа', 120)]"
            ]
          },
          "metadata": {},
          "execution_count": 12
        }
      ]
    },
    {
      "cell_type": "markdown",
      "source": [
        "# Baseline (BoW & Log-reg)"
      ],
      "metadata": {
        "id": "tfnp-RAx2qE_"
      }
    },
    {
      "cell_type": "code",
      "source": [
        "X_train, X_test, y_train, y_test = train_test_split(train.norm_sent, train.label, test_size=0.2, stratify=train.label, random_state=123, shuffle=True)"
      ],
      "metadata": {
        "id": "O9xKA5R9Qz4s"
      },
      "execution_count": 13,
      "outputs": []
    },
    {
      "cell_type": "code",
      "source": [
        "round(y_train.value_counts() / len(y_train) * 100, 2)"
      ],
      "metadata": {
        "colab": {
          "base_uri": "https://localhost:8080/"
        },
        "id": "hRhfFj8IRH2g",
        "outputId": "3b1ec5ad-8bb1-4c24-91ab-8c71ddae6da3"
      },
      "execution_count": 14,
      "outputs": [
        {
          "output_type": "execute_result",
          "data": {
            "text/plain": [
              "0    80.3\n",
              "1    19.7\n",
              "Name: label, dtype: float64"
            ]
          },
          "metadata": {},
          "execution_count": 14
        }
      ]
    },
    {
      "cell_type": "code",
      "source": [
        "round(y_test.value_counts() / len(y_test) * 100, 2)"
      ],
      "metadata": {
        "colab": {
          "base_uri": "https://localhost:8080/"
        },
        "id": "Nde65MNaRPNZ",
        "outputId": "858f3ea5-e282-49e3-a1f3-29a86d21092d"
      },
      "execution_count": 15,
      "outputs": [
        {
          "output_type": "execute_result",
          "data": {
            "text/plain": [
              "0    80.24\n",
              "1    19.76\n",
              "Name: label, dtype: float64"
            ]
          },
          "metadata": {},
          "execution_count": 15
        }
      ]
    },
    {
      "cell_type": "code",
      "source": [
        "X_train.shape, X_test.shape"
      ],
      "metadata": {
        "colab": {
          "base_uri": "https://localhost:8080/"
        },
        "id": "z1Xv32hsXN7-",
        "outputId": "475de062-3237-403c-e12b-43bbf51067cb"
      },
      "execution_count": 16,
      "outputs": [
        {
          "output_type": "execute_result",
          "data": {
            "text/plain": [
              "((1335,), (334,))"
            ]
          },
          "metadata": {},
          "execution_count": 16
        }
      ]
    },
    {
      "cell_type": "code",
      "source": [
        "vectorizer = CountVectorizer(ngram_range=(1, 1))\n",
        "X_train = vectorizer.fit_transform(X_train)\n",
        "X_test = vectorizer.transform(X_test)"
      ],
      "metadata": {
        "id": "rrseEchq3Nom"
      },
      "execution_count": 17,
      "outputs": []
    },
    {
      "cell_type": "code",
      "source": [
        "log_reg = LogisticRegression(random_state=123)\n",
        "log_reg.fit(X_train, y_train)"
      ],
      "metadata": {
        "colab": {
          "base_uri": "https://localhost:8080/",
          "height": 74
        },
        "id": "nKQzOfbnRvL3",
        "outputId": "b353312c-aada-4e72-8973-d87750e22966"
      },
      "execution_count": 18,
      "outputs": [
        {
          "output_type": "execute_result",
          "data": {
            "text/plain": [
              "LogisticRegression(random_state=123)"
            ],
            "text/html": [
              "<style>#sk-container-id-1 {color: black;background-color: white;}#sk-container-id-1 pre{padding: 0;}#sk-container-id-1 div.sk-toggleable {background-color: white;}#sk-container-id-1 label.sk-toggleable__label {cursor: pointer;display: block;width: 100%;margin-bottom: 0;padding: 0.3em;box-sizing: border-box;text-align: center;}#sk-container-id-1 label.sk-toggleable__label-arrow:before {content: \"▸\";float: left;margin-right: 0.25em;color: #696969;}#sk-container-id-1 label.sk-toggleable__label-arrow:hover:before {color: black;}#sk-container-id-1 div.sk-estimator:hover label.sk-toggleable__label-arrow:before {color: black;}#sk-container-id-1 div.sk-toggleable__content {max-height: 0;max-width: 0;overflow: hidden;text-align: left;background-color: #f0f8ff;}#sk-container-id-1 div.sk-toggleable__content pre {margin: 0.2em;color: black;border-radius: 0.25em;background-color: #f0f8ff;}#sk-container-id-1 input.sk-toggleable__control:checked~div.sk-toggleable__content {max-height: 200px;max-width: 100%;overflow: auto;}#sk-container-id-1 input.sk-toggleable__control:checked~label.sk-toggleable__label-arrow:before {content: \"▾\";}#sk-container-id-1 div.sk-estimator input.sk-toggleable__control:checked~label.sk-toggleable__label {background-color: #d4ebff;}#sk-container-id-1 div.sk-label input.sk-toggleable__control:checked~label.sk-toggleable__label {background-color: #d4ebff;}#sk-container-id-1 input.sk-hidden--visually {border: 0;clip: rect(1px 1px 1px 1px);clip: rect(1px, 1px, 1px, 1px);height: 1px;margin: -1px;overflow: hidden;padding: 0;position: absolute;width: 1px;}#sk-container-id-1 div.sk-estimator {font-family: monospace;background-color: #f0f8ff;border: 1px dotted black;border-radius: 0.25em;box-sizing: border-box;margin-bottom: 0.5em;}#sk-container-id-1 div.sk-estimator:hover {background-color: #d4ebff;}#sk-container-id-1 div.sk-parallel-item::after {content: \"\";width: 100%;border-bottom: 1px solid gray;flex-grow: 1;}#sk-container-id-1 div.sk-label:hover label.sk-toggleable__label {background-color: #d4ebff;}#sk-container-id-1 div.sk-serial::before {content: \"\";position: absolute;border-left: 1px solid gray;box-sizing: border-box;top: 0;bottom: 0;left: 50%;z-index: 0;}#sk-container-id-1 div.sk-serial {display: flex;flex-direction: column;align-items: center;background-color: white;padding-right: 0.2em;padding-left: 0.2em;position: relative;}#sk-container-id-1 div.sk-item {position: relative;z-index: 1;}#sk-container-id-1 div.sk-parallel {display: flex;align-items: stretch;justify-content: center;background-color: white;position: relative;}#sk-container-id-1 div.sk-item::before, #sk-container-id-1 div.sk-parallel-item::before {content: \"\";position: absolute;border-left: 1px solid gray;box-sizing: border-box;top: 0;bottom: 0;left: 50%;z-index: -1;}#sk-container-id-1 div.sk-parallel-item {display: flex;flex-direction: column;z-index: 1;position: relative;background-color: white;}#sk-container-id-1 div.sk-parallel-item:first-child::after {align-self: flex-end;width: 50%;}#sk-container-id-1 div.sk-parallel-item:last-child::after {align-self: flex-start;width: 50%;}#sk-container-id-1 div.sk-parallel-item:only-child::after {width: 0;}#sk-container-id-1 div.sk-dashed-wrapped {border: 1px dashed gray;margin: 0 0.4em 0.5em 0.4em;box-sizing: border-box;padding-bottom: 0.4em;background-color: white;}#sk-container-id-1 div.sk-label label {font-family: monospace;font-weight: bold;display: inline-block;line-height: 1.2em;}#sk-container-id-1 div.sk-label-container {text-align: center;}#sk-container-id-1 div.sk-container {/* jupyter's `normalize.less` sets `[hidden] { display: none; }` but bootstrap.min.css set `[hidden] { display: none !important; }` so we also need the `!important` here to be able to override the default hidden behavior on the sphinx rendered scikit-learn.org. See: https://github.com/scikit-learn/scikit-learn/issues/21755 */display: inline-block !important;position: relative;}#sk-container-id-1 div.sk-text-repr-fallback {display: none;}</style><div id=\"sk-container-id-1\" class=\"sk-top-container\"><div class=\"sk-text-repr-fallback\"><pre>LogisticRegression(random_state=123)</pre><b>In a Jupyter environment, please rerun this cell to show the HTML representation or trust the notebook. <br />On GitHub, the HTML representation is unable to render, please try loading this page with nbviewer.org.</b></div><div class=\"sk-container\" hidden><div class=\"sk-item\"><div class=\"sk-estimator sk-toggleable\"><input class=\"sk-toggleable__control sk-hidden--visually\" id=\"sk-estimator-id-1\" type=\"checkbox\" checked><label for=\"sk-estimator-id-1\" class=\"sk-toggleable__label sk-toggleable__label-arrow\">LogisticRegression</label><div class=\"sk-toggleable__content\"><pre>LogisticRegression(random_state=123)</pre></div></div></div></div></div>"
            ]
          },
          "metadata": {},
          "execution_count": 18
        }
      ]
    },
    {
      "cell_type": "code",
      "source": [
        "y_pred_log = log_reg.predict_proba(X_test)[:, 1]\n",
        "y_pred_target = log_reg.predict(X_test)"
      ],
      "metadata": {
        "id": "4y9xgIIoTFkD"
      },
      "execution_count": 19,
      "outputs": []
    },
    {
      "cell_type": "code",
      "source": [
        "print(classification_report(y_test, y_pred_target))"
      ],
      "metadata": {
        "colab": {
          "base_uri": "https://localhost:8080/"
        },
        "id": "M2NRrFPbxi5n",
        "outputId": "de5cec75-6f4e-4a50-86de-84ff114226b3"
      },
      "execution_count": 20,
      "outputs": [
        {
          "output_type": "stream",
          "name": "stdout",
          "text": [
            "              precision    recall  f1-score   support\n",
            "\n",
            "           0       0.90      0.96      0.93       268\n",
            "           1       0.76      0.59      0.67        66\n",
            "\n",
            "    accuracy                           0.88       334\n",
            "   macro avg       0.83      0.77      0.80       334\n",
            "weighted avg       0.88      0.88      0.88       334\n",
            "\n"
          ]
        }
      ]
    },
    {
      "cell_type": "code",
      "source": [
        "fpr, tpr, threshold = roc_curve(y_test, y_pred_log)\n",
        "roc_auc = auc(fpr, tpr)\n",
        "\n",
        "plt.plot(fpr, tpr, 'b', label = 'AUC = %0.2f' % roc_auc)\n",
        "plt.legend(loc = 'lower right')\n",
        "plt.plot([0, 1], [0, 1],'r--')\n",
        "plt.xlim([0, 1])\n",
        "plt.ylim([0, 1])\n",
        "plt.ylabel('TPR')\n",
        "plt.xlabel('FPR')\n",
        "plt.show()"
      ],
      "metadata": {
        "colab": {
          "base_uri": "https://localhost:8080/",
          "height": 455
        },
        "id": "jCmZBQnbtCSM",
        "outputId": "b3906ba4-a9d4-43de-cab7-bf2581343934"
      },
      "execution_count": 21,
      "outputs": [
        {
          "output_type": "display_data",
          "data": {
            "text/plain": [
              "<Figure size 640x480 with 1 Axes>"
            ],
            "image/png": "[encoded data removed]"
          },
          "metadata": {}
        }
      ]
    },
    {
      "cell_type": "markdown",
      "source": [
        "# CatBoost & LGBM"
      ],
      "metadata": {
        "id": "WlaCm4nTYi1Y"
      }
    },
    {
      "cell_type": "code",
      "source": [
        "X_train, X_test, y_train, y_test = train_test_split(train.norm_sent, train.label, test_size=0.2, random_state=123, shuffle=True)\n",
        "\n",
        "vectorizer = CountVectorizer(ngram_range=(1, 1))\n",
        "X_train = vectorizer.fit_transform(X_train)\n",
        "X_test = vectorizer.transform(X_test)"
      ],
      "metadata": {
        "id": "suStkZMDZ1mU"
      },
      "execution_count": 22,
      "outputs": []
    },
    {
      "cell_type": "code",
      "source": [
        "catb_class = CatBoostClassifier(random_state=123)\n",
        "catb_class.fit(X_train, y_train)"
      ],
      "metadata": {
        "colab": {
          "base_uri": "https://localhost:8080/"
        },
        "id": "5rgjjNrTZbvw",
        "outputId": "e49d6576-8975-4ea0-e260-c1a53f0fed6e"
      },
      "execution_count": 23,
      "outputs": [
        {
          "output_type": "stream",
          "name": "stdout",
          "text": [
            "Learning rate set to 0.011655\n",
            "0:\tlearn: 0.6859894\ttotal: 81.2ms\tremaining: 1m 21s\n",
            "1:\tlearn: 0.6747831\ttotal: 99.8ms\tremaining: 49.8s\n",
            "2:\tlearn: 0.6654408\ttotal: 120ms\tremaining: 39.9s\n",
            "3:\tlearn: 0.6567731\ttotal: 139ms\tremaining: 34.5s\n",
            "4:\tlearn: 0.6485059\ttotal: 169ms\tremaining: 33.7s\n",
            "5:\tlearn: 0.6422776\ttotal: 183ms\tremaining: 30.3s\n",
            "6:\tlearn: 0.6334263\ttotal: 194ms\tremaining: 27.6s\n",
            "7:\tlearn: 0.6258252\ttotal: 203ms\tremaining: 25.2s\n",
            "8:\tlearn: 0.6183186\ttotal: 222ms\tremaining: 24.4s\n",
            "9:\tlearn: 0.6106131\ttotal: 241ms\tremaining: 23.8s\n",
            "10:\tlearn: 0.6043729\ttotal: 255ms\tremaining: 22.9s\n",
            "11:\tlearn: 0.5971679\ttotal: 273ms\tremaining: 22.5s\n",
            "12:\tlearn: 0.5920514\ttotal: 291ms\tremaining: 22.1s\n",
            "13:\tlearn: 0.5837473\ttotal: 311ms\tremaining: 21.9s\n",
            "14:\tlearn: 0.5775161\ttotal: 341ms\tremaining: 22.4s\n",
            "15:\tlearn: 0.5730804\ttotal: 359ms\tremaining: 22.1s\n",
            "16:\tlearn: 0.5653800\ttotal: 375ms\tremaining: 21.7s\n",
            "17:\tlearn: 0.5591914\ttotal: 397ms\tremaining: 21.6s\n",
            "18:\tlearn: 0.5534517\ttotal: 416ms\tremaining: 21.5s\n",
            "19:\tlearn: 0.5475313\ttotal: 433ms\tremaining: 21.2s\n",
            "20:\tlearn: 0.5416747\ttotal: 453ms\tremaining: 21.1s\n",
            "21:\tlearn: 0.5369959\ttotal: 469ms\tremaining: 20.9s\n",
            "22:\tlearn: 0.5312200\ttotal: 499ms\tremaining: 21.2s\n",
            "23:\tlearn: 0.5267375\ttotal: 518ms\tremaining: 21.1s\n",
            "24:\tlearn: 0.5204718\ttotal: 536ms\tremaining: 20.9s\n",
            "25:\tlearn: 0.5156922\ttotal: 556ms\tremaining: 20.8s\n",
            "26:\tlearn: 0.5097834\ttotal: 581ms\tremaining: 20.9s\n",
            "27:\tlearn: 0.5058561\ttotal: 607ms\tremaining: 21.1s\n",
            "28:\tlearn: 0.5014752\ttotal: 633ms\tremaining: 21.2s\n",
            "29:\tlearn: 0.4973425\ttotal: 662ms\tremaining: 21.4s\n",
            "30:\tlearn: 0.4930091\ttotal: 671ms\tremaining: 21s\n",
            "31:\tlearn: 0.4882210\ttotal: 682ms\tremaining: 20.6s\n",
            "32:\tlearn: 0.4829792\ttotal: 693ms\tremaining: 20.3s\n",
            "33:\tlearn: 0.4804883\ttotal: 699ms\tremaining: 19.9s\n",
            "34:\tlearn: 0.4755941\ttotal: 709ms\tremaining: 19.5s\n",
            "35:\tlearn: 0.4706121\ttotal: 719ms\tremaining: 19.2s\n",
            "36:\tlearn: 0.4674564\ttotal: 729ms\tremaining: 19s\n",
            "37:\tlearn: 0.4644814\ttotal: 740ms\tremaining: 18.7s\n",
            "38:\tlearn: 0.4612104\ttotal: 744ms\tremaining: 18.3s\n",
            "39:\tlearn: 0.4581115\ttotal: 755ms\tremaining: 18.1s\n",
            "40:\tlearn: 0.4550218\ttotal: 764ms\tremaining: 17.9s\n",
            "41:\tlearn: 0.4525522\ttotal: 773ms\tremaining: 17.6s\n",
            "42:\tlearn: 0.4499104\ttotal: 781ms\tremaining: 17.4s\n",
            "43:\tlearn: 0.4473969\ttotal: 790ms\tremaining: 17.2s\n",
            "44:\tlearn: 0.4443964\ttotal: 799ms\tremaining: 16.9s\n",
            "45:\tlearn: 0.4416193\ttotal: 811ms\tremaining: 16.8s\n",
            "46:\tlearn: 0.4387407\ttotal: 821ms\tremaining: 16.6s\n",
            "47:\tlearn: 0.4367508\ttotal: 836ms\tremaining: 16.6s\n",
            "48:\tlearn: 0.4341369\ttotal: 845ms\tremaining: 16.4s\n",
            "49:\tlearn: 0.4322604\ttotal: 854ms\tremaining: 16.2s\n",
            "50:\tlearn: 0.4296814\ttotal: 862ms\tremaining: 16s\n",
            "51:\tlearn: 0.4272128\ttotal: 871ms\tremaining: 15.9s\n",
            "52:\tlearn: 0.4251568\ttotal: 879ms\tremaining: 15.7s\n",
            "53:\tlearn: 0.4234898\ttotal: 887ms\tremaining: 15.5s\n",
            "54:\tlearn: 0.4216335\ttotal: 896ms\tremaining: 15.4s\n",
            "55:\tlearn: 0.4195445\ttotal: 904ms\tremaining: 15.2s\n",
            "56:\tlearn: 0.4175934\ttotal: 912ms\tremaining: 15.1s\n",
            "57:\tlearn: 0.4155615\ttotal: 921ms\tremaining: 15s\n",
            "58:\tlearn: 0.4137534\ttotal: 929ms\tremaining: 14.8s\n",
            "59:\tlearn: 0.4104526\ttotal: 938ms\tremaining: 14.7s\n",
            "60:\tlearn: 0.4075864\ttotal: 947ms\tremaining: 14.6s\n",
            "61:\tlearn: 0.4054955\ttotal: 962ms\tremaining: 14.5s\n",
            "62:\tlearn: 0.4037309\ttotal: 971ms\tremaining: 14.4s\n",
            "63:\tlearn: 0.4018392\ttotal: 979ms\tremaining: 14.3s\n",
            "64:\tlearn: 0.3997776\ttotal: 988ms\tremaining: 14.2s\n",
            "65:\tlearn: 0.3979324\ttotal: 997ms\tremaining: 14.1s\n",
            "66:\tlearn: 0.3958359\ttotal: 1s\tremaining: 14s\n",
            "67:\tlearn: 0.3944307\ttotal: 1.02s\tremaining: 13.9s\n",
            "68:\tlearn: 0.3933563\ttotal: 1.02s\tremaining: 13.8s\n",
            "69:\tlearn: 0.3921112\ttotal: 1.03s\tremaining: 13.8s\n",
            "70:\tlearn: 0.3896791\ttotal: 1.04s\tremaining: 13.7s\n",
            "71:\tlearn: 0.3881058\ttotal: 1.05s\tremaining: 13.6s\n",
            "72:\tlearn: 0.3868775\ttotal: 1.06s\tremaining: 13.5s\n",
            "73:\tlearn: 0.3852781\ttotal: 1.07s\tremaining: 13.4s\n",
            "74:\tlearn: 0.3839204\ttotal: 1.08s\tremaining: 13.3s\n",
            "75:\tlearn: 0.3826597\ttotal: 1.09s\tremaining: 13.3s\n",
            "76:\tlearn: 0.3813787\ttotal: 1.1s\tremaining: 13.2s\n",
            "77:\tlearn: 0.3805222\ttotal: 1.11s\tremaining: 13.1s\n",
            "78:\tlearn: 0.3793771\ttotal: 1.12s\tremaining: 13s\n",
            "79:\tlearn: 0.3784015\ttotal: 1.13s\tremaining: 13s\n",
            "80:\tlearn: 0.3771639\ttotal: 1.14s\tremaining: 12.9s\n",
            "81:\tlearn: 0.3761887\ttotal: 1.14s\tremaining: 12.8s\n",
            "82:\tlearn: 0.3743277\ttotal: 1.15s\tremaining: 12.7s\n",
            "83:\tlearn: 0.3728036\ttotal: 1.16s\tremaining: 12.7s\n",
            "84:\tlearn: 0.3718046\ttotal: 1.17s\tremaining: 12.6s\n",
            "85:\tlearn: 0.3705131\ttotal: 1.18s\tremaining: 12.5s\n",
            "86:\tlearn: 0.3694194\ttotal: 1.19s\tremaining: 12.5s\n",
            "87:\tlearn: 0.3683990\ttotal: 1.2s\tremaining: 12.4s\n",
            "88:\tlearn: 0.3675901\ttotal: 1.21s\tremaining: 12.3s\n",
            "89:\tlearn: 0.3663291\ttotal: 1.22s\tremaining: 12.3s\n",
            "90:\tlearn: 0.3655554\ttotal: 1.22s\tremaining: 12.2s\n",
            "91:\tlearn: 0.3643595\ttotal: 1.23s\tremaining: 12.2s\n",
            "92:\tlearn: 0.3633176\ttotal: 1.24s\tremaining: 12.1s\n",
            "93:\tlearn: 0.3625749\ttotal: 1.25s\tremaining: 12.1s\n",
            "94:\tlearn: 0.3613246\ttotal: 1.26s\tremaining: 12s\n",
            "95:\tlearn: 0.3601864\ttotal: 1.27s\tremaining: 11.9s\n",
            "96:\tlearn: 0.3593733\ttotal: 1.28s\tremaining: 11.9s\n",
            "97:\tlearn: 0.3583345\ttotal: 1.28s\tremaining: 11.8s\n",
            "98:\tlearn: 0.3573594\ttotal: 1.29s\tremaining: 11.8s\n",
            "99:\tlearn: 0.3561165\ttotal: 1.3s\tremaining: 11.7s\n",
            "100:\tlearn: 0.3546630\ttotal: 1.32s\tremaining: 11.7s\n",
            "101:\tlearn: 0.3531080\ttotal: 1.33s\tremaining: 11.7s\n",
            "102:\tlearn: 0.3522805\ttotal: 1.34s\tremaining: 11.7s\n",
            "103:\tlearn: 0.3509965\ttotal: 1.35s\tremaining: 11.6s\n",
            "104:\tlearn: 0.3501584\ttotal: 1.36s\tremaining: 11.6s\n",
            "105:\tlearn: 0.3491647\ttotal: 1.37s\tremaining: 11.5s\n",
            "106:\tlearn: 0.3484506\ttotal: 1.37s\tremaining: 11.5s\n",
            "107:\tlearn: 0.3476383\ttotal: 1.38s\tremaining: 11.4s\n",
            "108:\tlearn: 0.3465560\ttotal: 1.39s\tremaining: 11.4s\n",
            "109:\tlearn: 0.3457354\ttotal: 1.4s\tremaining: 11.3s\n",
            "110:\tlearn: 0.3449638\ttotal: 1.41s\tremaining: 11.3s\n",
            "111:\tlearn: 0.3443984\ttotal: 1.42s\tremaining: 11.3s\n",
            "112:\tlearn: 0.3438056\ttotal: 1.43s\tremaining: 11.2s\n",
            "113:\tlearn: 0.3430418\ttotal: 1.44s\tremaining: 11.2s\n",
            "114:\tlearn: 0.3420190\ttotal: 1.45s\tremaining: 11.2s\n",
            "115:\tlearn: 0.3411642\ttotal: 1.46s\tremaining: 11.1s\n",
            "116:\tlearn: 0.3400908\ttotal: 1.47s\tremaining: 11.1s\n",
            "117:\tlearn: 0.3393956\ttotal: 1.48s\tremaining: 11s\n",
            "118:\tlearn: 0.3386048\ttotal: 1.48s\tremaining: 11s\n",
            "119:\tlearn: 0.3379446\ttotal: 1.49s\tremaining: 11s\n",
            "120:\tlearn: 0.3371061\ttotal: 1.5s\tremaining: 10.9s\n",
            "121:\tlearn: 0.3366251\ttotal: 1.51s\tremaining: 10.9s\n",
            "122:\tlearn: 0.3362000\ttotal: 1.52s\tremaining: 10.9s\n",
            "123:\tlearn: 0.3354067\ttotal: 1.53s\tremaining: 10.8s\n",
            "124:\tlearn: 0.3345879\ttotal: 1.54s\tremaining: 10.8s\n",
            "125:\tlearn: 0.3337945\ttotal: 1.55s\tremaining: 10.7s\n",
            "126:\tlearn: 0.3331877\ttotal: 1.56s\tremaining: 10.7s\n",
            "127:\tlearn: 0.3324122\ttotal: 1.57s\tremaining: 10.7s\n",
            "128:\tlearn: 0.3319205\ttotal: 1.57s\tremaining: 10.6s\n",
            "129:\tlearn: 0.3312090\ttotal: 1.58s\tremaining: 10.6s\n",
            "130:\tlearn: 0.3307404\ttotal: 1.59s\tremaining: 10.6s\n",
            "131:\tlearn: 0.3299036\ttotal: 1.6s\tremaining: 10.5s\n",
            "132:\tlearn: 0.3294341\ttotal: 1.61s\tremaining: 10.5s\n",
            "133:\tlearn: 0.3285584\ttotal: 1.63s\tremaining: 10.5s\n",
            "134:\tlearn: 0.3279482\ttotal: 1.63s\tremaining: 10.5s\n",
            "135:\tlearn: 0.3275156\ttotal: 1.64s\tremaining: 10.4s\n",
            "136:\tlearn: 0.3267923\ttotal: 1.66s\tremaining: 10.5s\n",
            "137:\tlearn: 0.3260704\ttotal: 1.67s\tremaining: 10.4s\n",
            "138:\tlearn: 0.3253406\ttotal: 1.68s\tremaining: 10.4s\n",
            "139:\tlearn: 0.3247174\ttotal: 1.69s\tremaining: 10.4s\n",
            "140:\tlearn: 0.3239052\ttotal: 1.69s\tremaining: 10.3s\n",
            "141:\tlearn: 0.3233958\ttotal: 1.7s\tremaining: 10.3s\n",
            "142:\tlearn: 0.3228027\ttotal: 1.71s\tremaining: 10.3s\n",
            "143:\tlearn: 0.3224202\ttotal: 1.72s\tremaining: 10.2s\n",
            "144:\tlearn: 0.3220402\ttotal: 1.73s\tremaining: 10.2s\n",
            "145:\tlearn: 0.3215879\ttotal: 1.74s\tremaining: 10.2s\n",
            "146:\tlearn: 0.3209265\ttotal: 1.75s\tremaining: 10.1s\n",
            "147:\tlearn: 0.3205996\ttotal: 1.76s\tremaining: 10.1s\n",
            "148:\tlearn: 0.3200713\ttotal: 1.76s\tremaining: 10.1s\n",
            "149:\tlearn: 0.3196155\ttotal: 1.77s\tremaining: 10.1s\n",
            "150:\tlearn: 0.3192464\ttotal: 1.78s\tremaining: 10s\n",
            "151:\tlearn: 0.3187434\ttotal: 1.79s\tremaining: 10s\n",
            "152:\tlearn: 0.3183045\ttotal: 1.8s\tremaining: 9.97s\n",
            "153:\tlearn: 0.3178994\ttotal: 1.81s\tremaining: 9.95s\n",
            "154:\tlearn: 0.3176458\ttotal: 1.83s\tremaining: 9.97s\n",
            "155:\tlearn: 0.3170489\ttotal: 1.84s\tremaining: 9.95s\n",
            "156:\tlearn: 0.3166770\ttotal: 1.85s\tremaining: 9.92s\n",
            "157:\tlearn: 0.3161136\ttotal: 1.86s\tremaining: 9.89s\n",
            "158:\tlearn: 0.3156147\ttotal: 1.86s\tremaining: 9.86s\n",
            "159:\tlearn: 0.3150432\ttotal: 1.87s\tremaining: 9.83s\n",
            "160:\tlearn: 0.3145018\ttotal: 1.88s\tremaining: 9.81s\n",
            "161:\tlearn: 0.3141138\ttotal: 1.89s\tremaining: 9.78s\n",
            "162:\tlearn: 0.3137397\ttotal: 1.9s\tremaining: 9.75s\n",
            "163:\tlearn: 0.3133791\ttotal: 1.91s\tremaining: 9.73s\n",
            "164:\tlearn: 0.3130422\ttotal: 1.92s\tremaining: 9.7s\n",
            "165:\tlearn: 0.3122278\ttotal: 1.92s\tremaining: 9.67s\n",
            "166:\tlearn: 0.3117250\ttotal: 1.93s\tremaining: 9.64s\n",
            "167:\tlearn: 0.3110945\ttotal: 1.94s\tremaining: 9.62s\n",
            "168:\tlearn: 0.3106286\ttotal: 1.95s\tremaining: 9.61s\n",
            "169:\tlearn: 0.3100733\ttotal: 1.96s\tremaining: 9.59s\n",
            "170:\tlearn: 0.3097675\ttotal: 1.97s\tremaining: 9.56s\n",
            "171:\tlearn: 0.3094561\ttotal: 1.98s\tremaining: 9.51s\n",
            "172:\tlearn: 0.3090702\ttotal: 1.98s\tremaining: 9.48s\n",
            "173:\tlearn: 0.3085759\ttotal: 1.99s\tremaining: 9.46s\n",
            "174:\tlearn: 0.3082213\ttotal: 2s\tremaining: 9.43s\n",
            "175:\tlearn: 0.3076824\ttotal: 2.01s\tremaining: 9.41s\n",
            "176:\tlearn: 0.3073352\ttotal: 2.02s\tremaining: 9.38s\n",
            "177:\tlearn: 0.3070485\ttotal: 2.03s\tremaining: 9.37s\n",
            "178:\tlearn: 0.3067526\ttotal: 2.04s\tremaining: 9.34s\n",
            "179:\tlearn: 0.3062279\ttotal: 2.05s\tremaining: 9.32s\n",
            "180:\tlearn: 0.3059178\ttotal: 2.06s\tremaining: 9.3s\n",
            "181:\tlearn: 0.3051911\ttotal: 2.06s\tremaining: 9.28s\n",
            "182:\tlearn: 0.3048429\ttotal: 2.07s\tremaining: 9.26s\n",
            "183:\tlearn: 0.3044563\ttotal: 2.08s\tremaining: 9.23s\n",
            "184:\tlearn: 0.3041442\ttotal: 2.09s\tremaining: 9.21s\n",
            "185:\tlearn: 0.3037518\ttotal: 2.1s\tremaining: 9.19s\n",
            "186:\tlearn: 0.3034557\ttotal: 2.11s\tremaining: 9.18s\n",
            "187:\tlearn: 0.3032013\ttotal: 2.12s\tremaining: 9.16s\n",
            "188:\tlearn: 0.3026620\ttotal: 2.13s\tremaining: 9.14s\n",
            "189:\tlearn: 0.3022219\ttotal: 2.14s\tremaining: 9.12s\n",
            "190:\tlearn: 0.3018299\ttotal: 2.15s\tremaining: 9.1s\n",
            "191:\tlearn: 0.3013933\ttotal: 2.16s\tremaining: 9.08s\n",
            "192:\tlearn: 0.3009574\ttotal: 2.17s\tremaining: 9.06s\n",
            "193:\tlearn: 0.3003817\ttotal: 2.17s\tremaining: 9.04s\n",
            "194:\tlearn: 0.3000211\ttotal: 2.19s\tremaining: 9.03s\n",
            "195:\tlearn: 0.2996654\ttotal: 2.2s\tremaining: 9.01s\n",
            "196:\tlearn: 0.2991320\ttotal: 2.21s\tremaining: 8.99s\n",
            "197:\tlearn: 0.2988465\ttotal: 2.21s\tremaining: 8.97s\n",
            "198:\tlearn: 0.2985764\ttotal: 2.22s\tremaining: 8.95s\n",
            "199:\tlearn: 0.2982753\ttotal: 2.23s\tremaining: 8.94s\n",
            "200:\tlearn: 0.2979795\ttotal: 2.24s\tremaining: 8.92s\n",
            "201:\tlearn: 0.2975976\ttotal: 2.26s\tremaining: 8.92s\n",
            "202:\tlearn: 0.2972473\ttotal: 2.27s\tremaining: 8.9s\n",
            "203:\tlearn: 0.2970382\ttotal: 2.28s\tremaining: 8.88s\n",
            "204:\tlearn: 0.2966598\ttotal: 2.29s\tremaining: 8.86s\n",
            "205:\tlearn: 0.2964720\ttotal: 2.29s\tremaining: 8.85s\n",
            "206:\tlearn: 0.2962851\ttotal: 2.3s\tremaining: 8.83s\n",
            "207:\tlearn: 0.2959240\ttotal: 2.31s\tremaining: 8.81s\n",
            "208:\tlearn: 0.2957317\ttotal: 2.32s\tremaining: 8.79s\n",
            "209:\tlearn: 0.2954096\ttotal: 2.33s\tremaining: 8.77s\n",
            "210:\tlearn: 0.2951222\ttotal: 2.34s\tremaining: 8.75s\n",
            "211:\tlearn: 0.2947662\ttotal: 2.35s\tremaining: 8.73s\n",
            "212:\tlearn: 0.2941626\ttotal: 2.36s\tremaining: 8.71s\n",
            "213:\tlearn: 0.2937667\ttotal: 2.37s\tremaining: 8.69s\n",
            "214:\tlearn: 0.2935246\ttotal: 2.38s\tremaining: 8.68s\n",
            "215:\tlearn: 0.2931597\ttotal: 2.38s\tremaining: 8.66s\n",
            "216:\tlearn: 0.2928891\ttotal: 2.39s\tremaining: 8.64s\n",
            "217:\tlearn: 0.2925353\ttotal: 2.4s\tremaining: 8.62s\n",
            "218:\tlearn: 0.2922571\ttotal: 2.41s\tremaining: 8.6s\n",
            "219:\tlearn: 0.2919722\ttotal: 2.42s\tremaining: 8.6s\n",
            "220:\tlearn: 0.2916194\ttotal: 2.44s\tremaining: 8.6s\n",
            "221:\tlearn: 0.2914733\ttotal: 2.45s\tremaining: 8.59s\n",
            "222:\tlearn: 0.2912842\ttotal: 2.46s\tremaining: 8.57s\n",
            "223:\tlearn: 0.2909701\ttotal: 2.47s\tremaining: 8.55s\n",
            "224:\tlearn: 0.2907356\ttotal: 2.48s\tremaining: 8.53s\n",
            "225:\tlearn: 0.2903837\ttotal: 2.49s\tremaining: 8.52s\n",
            "226:\tlearn: 0.2901997\ttotal: 2.5s\tremaining: 8.5s\n",
            "227:\tlearn: 0.2900796\ttotal: 2.51s\tremaining: 8.49s\n",
            "228:\tlearn: 0.2898392\ttotal: 2.52s\tremaining: 8.47s\n",
            "229:\tlearn: 0.2895416\ttotal: 2.52s\tremaining: 8.45s\n",
            "230:\tlearn: 0.2893361\ttotal: 2.53s\tremaining: 8.44s\n",
            "231:\tlearn: 0.2891584\ttotal: 2.54s\tremaining: 8.42s\n",
            "232:\tlearn: 0.2888781\ttotal: 2.55s\tremaining: 8.4s\n",
            "233:\tlearn: 0.2886653\ttotal: 2.56s\tremaining: 8.38s\n",
            "234:\tlearn: 0.2885035\ttotal: 2.57s\tremaining: 8.37s\n",
            "235:\tlearn: 0.2881031\ttotal: 2.58s\tremaining: 8.35s\n",
            "236:\tlearn: 0.2879214\ttotal: 2.59s\tremaining: 8.33s\n",
            "237:\tlearn: 0.2875187\ttotal: 2.6s\tremaining: 8.31s\n",
            "238:\tlearn: 0.2872009\ttotal: 2.6s\tremaining: 8.3s\n",
            "239:\tlearn: 0.2869819\ttotal: 2.61s\tremaining: 8.28s\n",
            "240:\tlearn: 0.2864894\ttotal: 2.62s\tremaining: 8.26s\n",
            "241:\tlearn: 0.2861994\ttotal: 2.63s\tremaining: 8.24s\n",
            "242:\tlearn: 0.2857679\ttotal: 2.65s\tremaining: 8.24s\n",
            "243:\tlearn: 0.2854627\ttotal: 2.66s\tremaining: 8.23s\n",
            "244:\tlearn: 0.2852487\ttotal: 2.67s\tremaining: 8.22s\n",
            "245:\tlearn: 0.2849615\ttotal: 2.68s\tremaining: 8.21s\n",
            "246:\tlearn: 0.2846038\ttotal: 2.69s\tremaining: 8.19s\n",
            "247:\tlearn: 0.2842620\ttotal: 2.69s\tremaining: 8.17s\n",
            "248:\tlearn: 0.2840515\ttotal: 2.7s\tremaining: 8.16s\n",
            "249:\tlearn: 0.2838586\ttotal: 2.71s\tremaining: 8.14s\n",
            "250:\tlearn: 0.2836770\ttotal: 2.72s\tremaining: 8.12s\n",
            "251:\tlearn: 0.2835902\ttotal: 2.73s\tremaining: 8.11s\n",
            "252:\tlearn: 0.2833919\ttotal: 2.74s\tremaining: 8.09s\n",
            "253:\tlearn: 0.2831226\ttotal: 2.75s\tremaining: 8.07s\n",
            "254:\tlearn: 0.2828999\ttotal: 2.76s\tremaining: 8.05s\n",
            "255:\tlearn: 0.2826964\ttotal: 2.76s\tremaining: 8.03s\n",
            "256:\tlearn: 0.2823987\ttotal: 2.77s\tremaining: 8.02s\n",
            "257:\tlearn: 0.2819545\ttotal: 2.78s\tremaining: 8s\n",
            "258:\tlearn: 0.2817182\ttotal: 2.79s\tremaining: 7.99s\n",
            "259:\tlearn: 0.2816602\ttotal: 2.8s\tremaining: 7.98s\n",
            "260:\tlearn: 0.2814100\ttotal: 2.81s\tremaining: 7.96s\n",
            "261:\tlearn: 0.2813306\ttotal: 2.82s\tremaining: 7.95s\n",
            "262:\tlearn: 0.2811906\ttotal: 2.83s\tremaining: 7.93s\n",
            "263:\tlearn: 0.2808350\ttotal: 2.84s\tremaining: 7.92s\n",
            "264:\tlearn: 0.2806398\ttotal: 2.85s\tremaining: 7.91s\n",
            "265:\tlearn: 0.2804183\ttotal: 2.86s\tremaining: 7.89s\n",
            "266:\tlearn: 0.2802031\ttotal: 2.87s\tremaining: 7.88s\n",
            "267:\tlearn: 0.2800678\ttotal: 2.88s\tremaining: 7.86s\n",
            "268:\tlearn: 0.2798611\ttotal: 2.89s\tremaining: 7.85s\n",
            "269:\tlearn: 0.2796561\ttotal: 2.9s\tremaining: 7.83s\n",
            "270:\tlearn: 0.2794775\ttotal: 2.91s\tremaining: 7.82s\n",
            "271:\tlearn: 0.2792975\ttotal: 2.92s\tremaining: 7.8s\n",
            "272:\tlearn: 0.2790576\ttotal: 2.92s\tremaining: 7.79s\n",
            "273:\tlearn: 0.2788466\ttotal: 2.93s\tremaining: 7.77s\n",
            "274:\tlearn: 0.2786846\ttotal: 2.94s\tremaining: 7.75s\n",
            "275:\tlearn: 0.2784717\ttotal: 2.95s\tremaining: 7.74s\n",
            "276:\tlearn: 0.2782523\ttotal: 2.96s\tremaining: 7.72s\n",
            "277:\tlearn: 0.2780175\ttotal: 2.97s\tremaining: 7.7s\n",
            "278:\tlearn: 0.2776963\ttotal: 2.98s\tremaining: 7.69s\n",
            "279:\tlearn: 0.2774615\ttotal: 2.98s\tremaining: 7.67s\n",
            "280:\tlearn: 0.2773098\ttotal: 2.99s\tremaining: 7.66s\n",
            "281:\tlearn: 0.2768512\ttotal: 3s\tremaining: 7.64s\n",
            "282:\tlearn: 0.2767281\ttotal: 3.01s\tremaining: 7.62s\n",
            "283:\tlearn: 0.2763504\ttotal: 3.02s\tremaining: 7.61s\n",
            "284:\tlearn: 0.2762183\ttotal: 3.02s\tremaining: 7.59s\n",
            "285:\tlearn: 0.2760209\ttotal: 3.03s\tremaining: 7.58s\n",
            "286:\tlearn: 0.2758515\ttotal: 3.04s\tremaining: 7.56s\n",
            "287:\tlearn: 0.2755449\ttotal: 3.06s\tremaining: 7.55s\n",
            "288:\tlearn: 0.2754366\ttotal: 3.06s\tremaining: 7.54s\n",
            "289:\tlearn: 0.2753526\ttotal: 3.07s\tremaining: 7.53s\n",
            "290:\tlearn: 0.2749468\ttotal: 3.08s\tremaining: 7.51s\n",
            "291:\tlearn: 0.2747959\ttotal: 3.09s\tremaining: 7.5s\n",
            "292:\tlearn: 0.2747076\ttotal: 3.1s\tremaining: 7.48s\n",
            "293:\tlearn: 0.2745407\ttotal: 3.11s\tremaining: 7.47s\n",
            "294:\tlearn: 0.2741941\ttotal: 3.12s\tremaining: 7.45s\n",
            "295:\tlearn: 0.2740882\ttotal: 3.13s\tremaining: 7.44s\n",
            "296:\tlearn: 0.2738366\ttotal: 3.13s\tremaining: 7.42s\n",
            "297:\tlearn: 0.2736832\ttotal: 3.14s\tremaining: 7.41s\n",
            "298:\tlearn: 0.2735022\ttotal: 3.15s\tremaining: 7.39s\n",
            "299:\tlearn: 0.2734114\ttotal: 3.16s\tremaining: 7.38s\n",
            "300:\tlearn: 0.2732257\ttotal: 3.17s\tremaining: 7.37s\n",
            "301:\tlearn: 0.2730949\ttotal: 3.18s\tremaining: 7.35s\n",
            "302:\tlearn: 0.2729785\ttotal: 3.19s\tremaining: 7.34s\n",
            "303:\tlearn: 0.2728144\ttotal: 3.2s\tremaining: 7.33s\n",
            "304:\tlearn: 0.2727340\ttotal: 3.21s\tremaining: 7.31s\n",
            "305:\tlearn: 0.2725500\ttotal: 3.22s\tremaining: 7.3s\n",
            "306:\tlearn: 0.2722715\ttotal: 3.23s\tremaining: 7.28s\n",
            "307:\tlearn: 0.2718964\ttotal: 3.23s\tremaining: 7.27s\n",
            "308:\tlearn: 0.2716460\ttotal: 3.24s\tremaining: 7.25s\n",
            "309:\tlearn: 0.2714319\ttotal: 3.25s\tremaining: 7.24s\n",
            "310:\tlearn: 0.2713921\ttotal: 3.27s\tremaining: 7.23s\n",
            "311:\tlearn: 0.2712667\ttotal: 3.27s\tremaining: 7.22s\n",
            "312:\tlearn: 0.2710899\ttotal: 3.28s\tremaining: 7.21s\n",
            "313:\tlearn: 0.2708545\ttotal: 3.29s\tremaining: 7.19s\n",
            "314:\tlearn: 0.2706070\ttotal: 3.3s\tremaining: 7.18s\n",
            "315:\tlearn: 0.2703081\ttotal: 3.31s\tremaining: 7.16s\n",
            "316:\tlearn: 0.2701682\ttotal: 3.32s\tremaining: 7.15s\n",
            "317:\tlearn: 0.2701029\ttotal: 3.33s\tremaining: 7.14s\n",
            "318:\tlearn: 0.2699534\ttotal: 3.34s\tremaining: 7.13s\n",
            "319:\tlearn: 0.2698097\ttotal: 3.35s\tremaining: 7.11s\n",
            "320:\tlearn: 0.2697285\ttotal: 3.36s\tremaining: 7.1s\n",
            "321:\tlearn: 0.2695992\ttotal: 3.37s\tremaining: 7.09s\n",
            "322:\tlearn: 0.2695350\ttotal: 3.38s\tremaining: 7.08s\n",
            "323:\tlearn: 0.2694209\ttotal: 3.38s\tremaining: 7.06s\n",
            "324:\tlearn: 0.2693251\ttotal: 3.39s\tremaining: 7.05s\n",
            "325:\tlearn: 0.2692399\ttotal: 3.4s\tremaining: 7.04s\n",
            "326:\tlearn: 0.2691432\ttotal: 3.41s\tremaining: 7.02s\n",
            "327:\tlearn: 0.2690819\ttotal: 3.42s\tremaining: 7.01s\n",
            "328:\tlearn: 0.2688848\ttotal: 3.43s\tremaining: 7s\n",
            "329:\tlearn: 0.2687627\ttotal: 3.44s\tremaining: 6.99s\n",
            "330:\tlearn: 0.2686883\ttotal: 3.45s\tremaining: 6.98s\n",
            "331:\tlearn: 0.2686312\ttotal: 3.46s\tremaining: 6.96s\n",
            "332:\tlearn: 0.2685080\ttotal: 3.48s\tremaining: 6.96s\n",
            "333:\tlearn: 0.2683506\ttotal: 3.48s\tremaining: 6.95s\n",
            "334:\tlearn: 0.2682204\ttotal: 3.49s\tremaining: 6.94s\n",
            "335:\tlearn: 0.2681000\ttotal: 3.5s\tremaining: 6.92s\n",
            "336:\tlearn: 0.2680011\ttotal: 3.51s\tremaining: 6.91s\n",
            "337:\tlearn: 0.2677341\ttotal: 3.52s\tremaining: 6.9s\n",
            "338:\tlearn: 0.2676159\ttotal: 3.53s\tremaining: 6.89s\n",
            "339:\tlearn: 0.2674864\ttotal: 3.54s\tremaining: 6.87s\n",
            "340:\tlearn: 0.2673092\ttotal: 3.55s\tremaining: 6.86s\n",
            "341:\tlearn: 0.2671942\ttotal: 3.57s\tremaining: 6.87s\n",
            "342:\tlearn: 0.2671167\ttotal: 3.58s\tremaining: 6.85s\n",
            "343:\tlearn: 0.2669827\ttotal: 3.59s\tremaining: 6.84s\n",
            "344:\tlearn: 0.2668330\ttotal: 3.6s\tremaining: 6.83s\n",
            "345:\tlearn: 0.2666483\ttotal: 3.6s\tremaining: 6.81s\n",
            "346:\tlearn: 0.2665035\ttotal: 3.61s\tremaining: 6.8s\n",
            "347:\tlearn: 0.2664192\ttotal: 3.62s\tremaining: 6.79s\n",
            "348:\tlearn: 0.2662917\ttotal: 3.63s\tremaining: 6.77s\n",
            "349:\tlearn: 0.2661461\ttotal: 3.64s\tremaining: 6.76s\n",
            "350:\tlearn: 0.2660119\ttotal: 3.65s\tremaining: 6.75s\n",
            "351:\tlearn: 0.2658701\ttotal: 3.66s\tremaining: 6.74s\n",
            "352:\tlearn: 0.2656932\ttotal: 3.68s\tremaining: 6.74s\n",
            "353:\tlearn: 0.2652883\ttotal: 3.69s\tremaining: 6.73s\n",
            "354:\tlearn: 0.2651886\ttotal: 3.7s\tremaining: 6.72s\n",
            "355:\tlearn: 0.2649250\ttotal: 3.71s\tremaining: 6.71s\n",
            "356:\tlearn: 0.2648551\ttotal: 3.72s\tremaining: 6.69s\n",
            "357:\tlearn: 0.2645306\ttotal: 3.73s\tremaining: 6.68s\n",
            "358:\tlearn: 0.2644750\ttotal: 3.73s\tremaining: 6.67s\n",
            "359:\tlearn: 0.2642530\ttotal: 3.74s\tremaining: 6.66s\n",
            "360:\tlearn: 0.2641899\ttotal: 3.75s\tremaining: 6.64s\n",
            "361:\tlearn: 0.2640023\ttotal: 3.76s\tremaining: 6.63s\n",
            "362:\tlearn: 0.2639493\ttotal: 3.77s\tremaining: 6.62s\n",
            "363:\tlearn: 0.2638085\ttotal: 3.78s\tremaining: 6.6s\n",
            "364:\tlearn: 0.2637518\ttotal: 3.79s\tremaining: 6.59s\n",
            "365:\tlearn: 0.2635958\ttotal: 3.8s\tremaining: 6.58s\n",
            "366:\tlearn: 0.2634951\ttotal: 3.81s\tremaining: 6.56s\n",
            "367:\tlearn: 0.2633986\ttotal: 3.81s\tremaining: 6.55s\n",
            "368:\tlearn: 0.2633004\ttotal: 3.82s\tremaining: 6.54s\n",
            "369:\tlearn: 0.2632127\ttotal: 3.83s\tremaining: 6.53s\n",
            "370:\tlearn: 0.2630235\ttotal: 3.84s\tremaining: 6.51s\n",
            "371:\tlearn: 0.2629418\ttotal: 3.85s\tremaining: 6.5s\n",
            "372:\tlearn: 0.2628781\ttotal: 3.86s\tremaining: 6.49s\n",
            "373:\tlearn: 0.2627386\ttotal: 3.87s\tremaining: 6.48s\n",
            "374:\tlearn: 0.2624774\ttotal: 3.88s\tremaining: 6.47s\n",
            "375:\tlearn: 0.2622838\ttotal: 3.89s\tremaining: 6.46s\n",
            "376:\tlearn: 0.2621523\ttotal: 3.9s\tremaining: 6.45s\n",
            "377:\tlearn: 0.2620789\ttotal: 3.91s\tremaining: 6.43s\n",
            "378:\tlearn: 0.2619692\ttotal: 3.92s\tremaining: 6.42s\n",
            "379:\tlearn: 0.2617145\ttotal: 3.93s\tremaining: 6.41s\n",
            "380:\tlearn: 0.2614477\ttotal: 3.94s\tremaining: 6.4s\n",
            "381:\tlearn: 0.2613259\ttotal: 3.95s\tremaining: 6.39s\n",
            "382:\tlearn: 0.2612532\ttotal: 3.96s\tremaining: 6.38s\n",
            "383:\tlearn: 0.2610818\ttotal: 3.97s\tremaining: 6.37s\n",
            "384:\tlearn: 0.2608850\ttotal: 3.98s\tremaining: 6.35s\n",
            "385:\tlearn: 0.2608250\ttotal: 3.98s\tremaining: 6.34s\n",
            "386:\tlearn: 0.2607602\ttotal: 3.99s\tremaining: 6.32s\n",
            "387:\tlearn: 0.2603222\ttotal: 4s\tremaining: 6.31s\n",
            "388:\tlearn: 0.2602595\ttotal: 4.01s\tremaining: 6.3s\n",
            "389:\tlearn: 0.2601753\ttotal: 4.02s\tremaining: 6.29s\n",
            "390:\tlearn: 0.2600334\ttotal: 4.03s\tremaining: 6.28s\n",
            "391:\tlearn: 0.2598776\ttotal: 4.04s\tremaining: 6.26s\n",
            "392:\tlearn: 0.2597872\ttotal: 4.05s\tremaining: 6.25s\n",
            "393:\tlearn: 0.2596604\ttotal: 4.06s\tremaining: 6.24s\n",
            "394:\tlearn: 0.2595283\ttotal: 4.07s\tremaining: 6.23s\n",
            "395:\tlearn: 0.2593092\ttotal: 4.08s\tremaining: 6.22s\n",
            "396:\tlearn: 0.2591779\ttotal: 4.09s\tremaining: 6.21s\n",
            "397:\tlearn: 0.2590995\ttotal: 4.1s\tremaining: 6.2s\n",
            "398:\tlearn: 0.2589580\ttotal: 4.11s\tremaining: 6.19s\n",
            "399:\tlearn: 0.2587972\ttotal: 4.13s\tremaining: 6.19s\n",
            "400:\tlearn: 0.2586204\ttotal: 4.13s\tremaining: 6.18s\n",
            "401:\tlearn: 0.2585537\ttotal: 4.14s\tremaining: 6.16s\n",
            "402:\tlearn: 0.2583666\ttotal: 4.15s\tremaining: 6.15s\n",
            "403:\tlearn: 0.2582973\ttotal: 4.16s\tremaining: 6.14s\n",
            "404:\tlearn: 0.2582424\ttotal: 4.17s\tremaining: 6.13s\n",
            "405:\tlearn: 0.2581318\ttotal: 4.18s\tremaining: 6.11s\n",
            "406:\tlearn: 0.2580650\ttotal: 4.19s\tremaining: 6.1s\n",
            "407:\tlearn: 0.2579718\ttotal: 4.2s\tremaining: 6.09s\n",
            "408:\tlearn: 0.2579235\ttotal: 4.21s\tremaining: 6.08s\n",
            "409:\tlearn: 0.2578147\ttotal: 4.21s\tremaining: 6.06s\n",
            "410:\tlearn: 0.2577171\ttotal: 4.22s\tremaining: 6.05s\n",
            "411:\tlearn: 0.2576519\ttotal: 4.23s\tremaining: 6.04s\n",
            "412:\tlearn: 0.2575452\ttotal: 4.24s\tremaining: 6.03s\n",
            "413:\tlearn: 0.2574279\ttotal: 4.25s\tremaining: 6.02s\n",
            "414:\tlearn: 0.2573687\ttotal: 4.26s\tremaining: 6s\n",
            "415:\tlearn: 0.2572635\ttotal: 4.27s\tremaining: 5.99s\n",
            "416:\tlearn: 0.2571139\ttotal: 4.28s\tremaining: 5.98s\n",
            "417:\tlearn: 0.2566977\ttotal: 4.29s\tremaining: 5.98s\n",
            "418:\tlearn: 0.2563890\ttotal: 4.3s\tremaining: 5.96s\n",
            "419:\tlearn: 0.2562941\ttotal: 4.31s\tremaining: 5.95s\n",
            "420:\tlearn: 0.2561146\ttotal: 4.32s\tremaining: 5.94s\n",
            "421:\tlearn: 0.2559691\ttotal: 4.33s\tremaining: 5.93s\n",
            "422:\tlearn: 0.2558063\ttotal: 4.34s\tremaining: 5.92s\n",
            "423:\tlearn: 0.2557323\ttotal: 4.35s\tremaining: 5.91s\n",
            "424:\tlearn: 0.2555770\ttotal: 4.36s\tremaining: 5.89s\n",
            "425:\tlearn: 0.2554974\ttotal: 4.37s\tremaining: 5.88s\n",
            "426:\tlearn: 0.2554247\ttotal: 4.38s\tremaining: 5.88s\n",
            "427:\tlearn: 0.2552876\ttotal: 4.39s\tremaining: 5.87s\n",
            "428:\tlearn: 0.2551258\ttotal: 4.4s\tremaining: 5.86s\n",
            "429:\tlearn: 0.2548632\ttotal: 4.41s\tremaining: 5.84s\n",
            "430:\tlearn: 0.2546908\ttotal: 4.42s\tremaining: 5.83s\n",
            "431:\tlearn: 0.2546005\ttotal: 4.43s\tremaining: 5.82s\n",
            "432:\tlearn: 0.2544418\ttotal: 4.43s\tremaining: 5.81s\n",
            "433:\tlearn: 0.2543431\ttotal: 4.44s\tremaining: 5.79s\n",
            "434:\tlearn: 0.2542441\ttotal: 4.45s\tremaining: 5.78s\n",
            "435:\tlearn: 0.2541713\ttotal: 4.46s\tremaining: 5.77s\n",
            "436:\tlearn: 0.2540932\ttotal: 4.47s\tremaining: 5.76s\n",
            "437:\tlearn: 0.2540497\ttotal: 4.48s\tremaining: 5.75s\n",
            "438:\tlearn: 0.2539953\ttotal: 4.49s\tremaining: 5.74s\n",
            "439:\tlearn: 0.2538167\ttotal: 4.5s\tremaining: 5.73s\n",
            "440:\tlearn: 0.2536978\ttotal: 4.51s\tremaining: 5.72s\n",
            "441:\tlearn: 0.2535039\ttotal: 4.52s\tremaining: 5.71s\n",
            "442:\tlearn: 0.2533996\ttotal: 4.53s\tremaining: 5.69s\n",
            "443:\tlearn: 0.2532859\ttotal: 4.54s\tremaining: 5.68s\n",
            "444:\tlearn: 0.2531420\ttotal: 4.55s\tremaining: 5.67s\n",
            "445:\tlearn: 0.2530876\ttotal: 4.55s\tremaining: 5.66s\n",
            "446:\tlearn: 0.2528757\ttotal: 4.56s\tremaining: 5.65s\n",
            "447:\tlearn: 0.2527979\ttotal: 4.57s\tremaining: 5.63s\n",
            "448:\tlearn: 0.2525622\ttotal: 4.58s\tremaining: 5.62s\n",
            "449:\tlearn: 0.2523797\ttotal: 4.59s\tremaining: 5.61s\n",
            "450:\tlearn: 0.2522615\ttotal: 4.6s\tremaining: 5.6s\n",
            "451:\tlearn: 0.2521345\ttotal: 4.61s\tremaining: 5.59s\n",
            "452:\tlearn: 0.2520821\ttotal: 4.62s\tremaining: 5.58s\n",
            "453:\tlearn: 0.2519686\ttotal: 4.63s\tremaining: 5.57s\n",
            "454:\tlearn: 0.2517615\ttotal: 4.64s\tremaining: 5.55s\n",
            "455:\tlearn: 0.2516978\ttotal: 4.64s\tremaining: 5.54s\n",
            "456:\tlearn: 0.2515326\ttotal: 4.65s\tremaining: 5.53s\n",
            "457:\tlearn: 0.2513828\ttotal: 4.67s\tremaining: 5.52s\n",
            "458:\tlearn: 0.2513305\ttotal: 4.68s\tremaining: 5.51s\n",
            "459:\tlearn: 0.2511382\ttotal: 4.69s\tremaining: 5.5s\n",
            "460:\tlearn: 0.2510457\ttotal: 4.7s\tremaining: 5.49s\n",
            "461:\tlearn: 0.2507769\ttotal: 4.71s\tremaining: 5.48s\n",
            "462:\tlearn: 0.2507279\ttotal: 4.72s\tremaining: 5.47s\n",
            "463:\tlearn: 0.2506540\ttotal: 4.73s\tremaining: 5.46s\n",
            "464:\tlearn: 0.2505483\ttotal: 4.73s\tremaining: 5.45s\n",
            "465:\tlearn: 0.2504165\ttotal: 4.74s\tremaining: 5.43s\n",
            "466:\tlearn: 0.2503147\ttotal: 4.75s\tremaining: 5.42s\n",
            "467:\tlearn: 0.2502763\ttotal: 4.76s\tremaining: 5.41s\n",
            "468:\tlearn: 0.2500717\ttotal: 4.77s\tremaining: 5.4s\n",
            "469:\tlearn: 0.2499485\ttotal: 4.78s\tremaining: 5.39s\n",
            "470:\tlearn: 0.2498949\ttotal: 4.79s\tremaining: 5.38s\n",
            "471:\tlearn: 0.2497700\ttotal: 4.8s\tremaining: 5.37s\n",
            "472:\tlearn: 0.2495631\ttotal: 4.81s\tremaining: 5.36s\n",
            "473:\tlearn: 0.2494634\ttotal: 4.82s\tremaining: 5.34s\n",
            "474:\tlearn: 0.2493287\ttotal: 4.83s\tremaining: 5.33s\n",
            "475:\tlearn: 0.2491038\ttotal: 4.84s\tremaining: 5.32s\n",
            "476:\tlearn: 0.2490094\ttotal: 4.84s\tremaining: 5.31s\n",
            "477:\tlearn: 0.2488917\ttotal: 4.85s\tremaining: 5.3s\n",
            "478:\tlearn: 0.2488139\ttotal: 4.86s\tremaining: 5.29s\n",
            "479:\tlearn: 0.2486655\ttotal: 4.87s\tremaining: 5.28s\n",
            "480:\tlearn: 0.2484958\ttotal: 4.88s\tremaining: 5.27s\n",
            "481:\tlearn: 0.2482371\ttotal: 4.89s\tremaining: 5.26s\n",
            "482:\tlearn: 0.2481186\ttotal: 4.9s\tremaining: 5.25s\n",
            "483:\tlearn: 0.2480260\ttotal: 4.91s\tremaining: 5.24s\n",
            "484:\tlearn: 0.2479012\ttotal: 4.93s\tremaining: 5.23s\n",
            "485:\tlearn: 0.2477775\ttotal: 4.94s\tremaining: 5.22s\n",
            "486:\tlearn: 0.2477278\ttotal: 4.95s\tremaining: 5.21s\n",
            "487:\tlearn: 0.2475330\ttotal: 4.95s\tremaining: 5.2s\n",
            "488:\tlearn: 0.2474667\ttotal: 4.96s\tremaining: 5.19s\n",
            "489:\tlearn: 0.2473802\ttotal: 4.97s\tremaining: 5.17s\n",
            "490:\tlearn: 0.2472402\ttotal: 4.98s\tremaining: 5.16s\n",
            "491:\tlearn: 0.2471225\ttotal: 4.99s\tremaining: 5.15s\n",
            "492:\tlearn: 0.2469900\ttotal: 5s\tremaining: 5.14s\n",
            "493:\tlearn: 0.2468881\ttotal: 5.01s\tremaining: 5.13s\n",
            "494:\tlearn: 0.2468463\ttotal: 5.02s\tremaining: 5.12s\n",
            "495:\tlearn: 0.2466345\ttotal: 5.03s\tremaining: 5.11s\n",
            "496:\tlearn: 0.2465734\ttotal: 5.04s\tremaining: 5.1s\n",
            "497:\tlearn: 0.2464637\ttotal: 5.04s\tremaining: 5.08s\n",
            "498:\tlearn: 0.2463090\ttotal: 5.05s\tremaining: 5.07s\n",
            "499:\tlearn: 0.2460362\ttotal: 5.06s\tremaining: 5.06s\n",
            "500:\tlearn: 0.2457917\ttotal: 5.07s\tremaining: 5.05s\n",
            "501:\tlearn: 0.2456863\ttotal: 5.08s\tremaining: 5.04s\n",
            "502:\tlearn: 0.2455880\ttotal: 5.09s\tremaining: 5.03s\n",
            "503:\tlearn: 0.2455257\ttotal: 5.1s\tremaining: 5.02s\n",
            "504:\tlearn: 0.2454432\ttotal: 5.11s\tremaining: 5.01s\n",
            "505:\tlearn: 0.2450652\ttotal: 5.12s\tremaining: 5s\n",
            "506:\tlearn: 0.2448472\ttotal: 5.13s\tremaining: 4.99s\n",
            "507:\tlearn: 0.2447652\ttotal: 5.14s\tremaining: 4.97s\n",
            "508:\tlearn: 0.2447121\ttotal: 5.15s\tremaining: 4.97s\n",
            "509:\tlearn: 0.2446542\ttotal: 5.16s\tremaining: 4.96s\n",
            "510:\tlearn: 0.2443114\ttotal: 5.17s\tremaining: 4.94s\n",
            "511:\tlearn: 0.2442605\ttotal: 5.17s\tremaining: 4.93s\n",
            "512:\tlearn: 0.2441512\ttotal: 5.18s\tremaining: 4.92s\n",
            "513:\tlearn: 0.2441013\ttotal: 5.19s\tremaining: 4.91s\n",
            "514:\tlearn: 0.2440180\ttotal: 5.2s\tremaining: 4.9s\n",
            "515:\tlearn: 0.2439541\ttotal: 5.21s\tremaining: 4.89s\n",
            "516:\tlearn: 0.2438486\ttotal: 5.22s\tremaining: 4.88s\n",
            "517:\tlearn: 0.2436046\ttotal: 5.23s\tremaining: 4.87s\n",
            "518:\tlearn: 0.2435551\ttotal: 5.24s\tremaining: 4.85s\n",
            "519:\tlearn: 0.2433649\ttotal: 5.25s\tremaining: 4.84s\n",
            "520:\tlearn: 0.2432837\ttotal: 5.25s\tremaining: 4.83s\n",
            "521:\tlearn: 0.2431853\ttotal: 5.26s\tremaining: 4.82s\n",
            "522:\tlearn: 0.2429443\ttotal: 5.27s\tremaining: 4.81s\n",
            "523:\tlearn: 0.2427942\ttotal: 5.28s\tremaining: 4.8s\n",
            "524:\tlearn: 0.2426064\ttotal: 5.29s\tremaining: 4.79s\n",
            "525:\tlearn: 0.2425192\ttotal: 5.3s\tremaining: 4.78s\n",
            "526:\tlearn: 0.2423754\ttotal: 5.31s\tremaining: 4.76s\n",
            "527:\tlearn: 0.2423209\ttotal: 5.32s\tremaining: 4.75s\n",
            "528:\tlearn: 0.2422698\ttotal: 5.33s\tremaining: 4.74s\n",
            "529:\tlearn: 0.2419373\ttotal: 5.34s\tremaining: 4.73s\n",
            "530:\tlearn: 0.2418614\ttotal: 5.35s\tremaining: 4.72s\n",
            "531:\tlearn: 0.2418259\ttotal: 5.35s\tremaining: 4.71s\n",
            "532:\tlearn: 0.2416511\ttotal: 5.36s\tremaining: 4.7s\n",
            "533:\tlearn: 0.2415829\ttotal: 5.37s\tremaining: 4.69s\n",
            "534:\tlearn: 0.2415077\ttotal: 5.38s\tremaining: 4.68s\n",
            "535:\tlearn: 0.2413428\ttotal: 5.39s\tremaining: 4.67s\n",
            "536:\tlearn: 0.2412832\ttotal: 5.4s\tremaining: 4.66s\n",
            "537:\tlearn: 0.2411699\ttotal: 5.41s\tremaining: 4.64s\n",
            "538:\tlearn: 0.2409522\ttotal: 5.42s\tremaining: 4.63s\n",
            "539:\tlearn: 0.2408087\ttotal: 5.43s\tremaining: 4.62s\n",
            "540:\tlearn: 0.2407170\ttotal: 5.44s\tremaining: 4.62s\n",
            "541:\tlearn: 0.2406535\ttotal: 5.45s\tremaining: 4.6s\n",
            "542:\tlearn: 0.2404376\ttotal: 5.46s\tremaining: 4.59s\n",
            "543:\tlearn: 0.2403519\ttotal: 5.47s\tremaining: 4.58s\n",
            "544:\tlearn: 0.2402093\ttotal: 5.48s\tremaining: 4.57s\n",
            "545:\tlearn: 0.2400183\ttotal: 5.49s\tremaining: 4.56s\n",
            "546:\tlearn: 0.2399335\ttotal: 5.49s\tremaining: 4.55s\n",
            "547:\tlearn: 0.2397495\ttotal: 5.5s\tremaining: 4.54s\n",
            "548:\tlearn: 0.2396679\ttotal: 5.51s\tremaining: 4.53s\n",
            "549:\tlearn: 0.2395941\ttotal: 5.52s\tremaining: 4.52s\n",
            "550:\tlearn: 0.2393397\ttotal: 5.53s\tremaining: 4.51s\n",
            "551:\tlearn: 0.2392470\ttotal: 5.54s\tremaining: 4.5s\n",
            "552:\tlearn: 0.2390241\ttotal: 5.55s\tremaining: 4.49s\n",
            "553:\tlearn: 0.2389544\ttotal: 5.56s\tremaining: 4.47s\n",
            "554:\tlearn: 0.2387887\ttotal: 5.57s\tremaining: 4.46s\n",
            "555:\tlearn: 0.2386904\ttotal: 5.57s\tremaining: 4.45s\n",
            "556:\tlearn: 0.2386336\ttotal: 5.58s\tremaining: 4.44s\n",
            "557:\tlearn: 0.2384509\ttotal: 5.59s\tremaining: 4.43s\n",
            "558:\tlearn: 0.2382130\ttotal: 5.6s\tremaining: 4.42s\n",
            "559:\tlearn: 0.2381671\ttotal: 5.61s\tremaining: 4.41s\n",
            "560:\tlearn: 0.2380674\ttotal: 5.62s\tremaining: 4.39s\n",
            "561:\tlearn: 0.2378493\ttotal: 5.63s\tremaining: 4.38s\n",
            "562:\tlearn: 0.2378075\ttotal: 5.63s\tremaining: 4.37s\n",
            "563:\tlearn: 0.2376719\ttotal: 5.64s\tremaining: 4.36s\n",
            "564:\tlearn: 0.2375779\ttotal: 5.65s\tremaining: 4.35s\n",
            "565:\tlearn: 0.2374478\ttotal: 5.66s\tremaining: 4.34s\n",
            "566:\tlearn: 0.2371493\ttotal: 5.68s\tremaining: 4.33s\n",
            "567:\tlearn: 0.2370435\ttotal: 5.69s\tremaining: 4.33s\n",
            "568:\tlearn: 0.2369731\ttotal: 5.7s\tremaining: 4.31s\n",
            "569:\tlearn: 0.2369078\ttotal: 5.7s\tremaining: 4.3s\n",
            "570:\tlearn: 0.2368301\ttotal: 5.71s\tremaining: 4.29s\n",
            "571:\tlearn: 0.2367434\ttotal: 5.72s\tremaining: 4.28s\n",
            "572:\tlearn: 0.2366674\ttotal: 5.73s\tremaining: 4.27s\n",
            "573:\tlearn: 0.2365854\ttotal: 5.74s\tremaining: 4.26s\n",
            "574:\tlearn: 0.2365293\ttotal: 5.75s\tremaining: 4.25s\n",
            "575:\tlearn: 0.2364072\ttotal: 5.76s\tremaining: 4.24s\n",
            "576:\tlearn: 0.2363512\ttotal: 5.77s\tremaining: 4.23s\n",
            "577:\tlearn: 0.2362831\ttotal: 5.78s\tremaining: 4.22s\n",
            "578:\tlearn: 0.2361896\ttotal: 5.79s\tremaining: 4.21s\n",
            "579:\tlearn: 0.2360860\ttotal: 5.79s\tremaining: 4.2s\n",
            "580:\tlearn: 0.2359260\ttotal: 5.8s\tremaining: 4.19s\n",
            "581:\tlearn: 0.2357631\ttotal: 5.81s\tremaining: 4.17s\n",
            "582:\tlearn: 0.2356960\ttotal: 5.82s\tremaining: 4.16s\n",
            "583:\tlearn: 0.2356138\ttotal: 5.83s\tremaining: 4.15s\n",
            "584:\tlearn: 0.2355486\ttotal: 5.84s\tremaining: 4.14s\n",
            "585:\tlearn: 0.2353267\ttotal: 5.85s\tremaining: 4.13s\n",
            "586:\tlearn: 0.2351343\ttotal: 5.86s\tremaining: 4.12s\n",
            "587:\tlearn: 0.2348278\ttotal: 5.86s\tremaining: 4.11s\n",
            "588:\tlearn: 0.2347397\ttotal: 5.87s\tremaining: 4.1s\n",
            "589:\tlearn: 0.2346860\ttotal: 5.88s\tremaining: 4.09s\n",
            "590:\tlearn: 0.2346058\ttotal: 5.89s\tremaining: 4.08s\n",
            "591:\tlearn: 0.2345014\ttotal: 5.9s\tremaining: 4.07s\n",
            "592:\tlearn: 0.2342211\ttotal: 5.91s\tremaining: 4.05s\n",
            "593:\tlearn: 0.2340618\ttotal: 5.92s\tremaining: 4.05s\n",
            "594:\tlearn: 0.2339746\ttotal: 5.93s\tremaining: 4.04s\n",
            "595:\tlearn: 0.2339249\ttotal: 5.94s\tremaining: 4.02s\n",
            "596:\tlearn: 0.2337132\ttotal: 5.95s\tremaining: 4.01s\n",
            "597:\tlearn: 0.2336525\ttotal: 5.96s\tremaining: 4.01s\n",
            "598:\tlearn: 0.2335929\ttotal: 5.97s\tremaining: 4s\n",
            "599:\tlearn: 0.2332407\ttotal: 5.98s\tremaining: 3.99s\n",
            "600:\tlearn: 0.2331509\ttotal: 5.99s\tremaining: 3.98s\n",
            "601:\tlearn: 0.2330815\ttotal: 6s\tremaining: 3.97s\n",
            "602:\tlearn: 0.2329358\ttotal: 6.01s\tremaining: 3.96s\n",
            "603:\tlearn: 0.2328412\ttotal: 6.02s\tremaining: 3.94s\n",
            "604:\tlearn: 0.2326388\ttotal: 6.03s\tremaining: 3.93s\n",
            "605:\tlearn: 0.2325213\ttotal: 6.04s\tremaining: 3.92s\n",
            "606:\tlearn: 0.2323172\ttotal: 6.04s\tremaining: 3.91s\n",
            "607:\tlearn: 0.2322187\ttotal: 6.05s\tremaining: 3.9s\n",
            "608:\tlearn: 0.2321582\ttotal: 6.06s\tremaining: 3.89s\n",
            "609:\tlearn: 0.2318836\ttotal: 6.07s\tremaining: 3.88s\n",
            "610:\tlearn: 0.2318381\ttotal: 6.08s\tremaining: 3.87s\n",
            "611:\tlearn: 0.2317595\ttotal: 6.09s\tremaining: 3.86s\n",
            "612:\tlearn: 0.2316857\ttotal: 6.1s\tremaining: 3.85s\n",
            "613:\tlearn: 0.2315941\ttotal: 6.11s\tremaining: 3.84s\n",
            "614:\tlearn: 0.2315313\ttotal: 6.11s\tremaining: 3.83s\n",
            "615:\tlearn: 0.2312368\ttotal: 6.13s\tremaining: 3.82s\n",
            "616:\tlearn: 0.2308776\ttotal: 6.14s\tremaining: 3.81s\n",
            "617:\tlearn: 0.2306570\ttotal: 6.14s\tremaining: 3.8s\n",
            "618:\tlearn: 0.2305409\ttotal: 6.15s\tremaining: 3.79s\n",
            "619:\tlearn: 0.2303770\ttotal: 6.16s\tremaining: 3.78s\n",
            "620:\tlearn: 0.2302749\ttotal: 6.17s\tremaining: 3.77s\n",
            "621:\tlearn: 0.2301036\ttotal: 6.18s\tremaining: 3.75s\n",
            "622:\tlearn: 0.2299867\ttotal: 6.19s\tremaining: 3.74s\n",
            "623:\tlearn: 0.2298847\ttotal: 6.19s\tremaining: 3.73s\n",
            "624:\tlearn: 0.2297990\ttotal: 6.2s\tremaining: 3.72s\n",
            "625:\tlearn: 0.2295516\ttotal: 6.21s\tremaining: 3.71s\n",
            "626:\tlearn: 0.2293871\ttotal: 6.22s\tremaining: 3.7s\n",
            "627:\tlearn: 0.2290838\ttotal: 6.23s\tremaining: 3.69s\n",
            "628:\tlearn: 0.2290297\ttotal: 6.24s\tremaining: 3.68s\n",
            "629:\tlearn: 0.2289588\ttotal: 6.24s\tremaining: 3.67s\n",
            "630:\tlearn: 0.2288893\ttotal: 6.25s\tremaining: 3.66s\n",
            "631:\tlearn: 0.2287449\ttotal: 6.26s\tremaining: 3.65s\n",
            "632:\tlearn: 0.2286675\ttotal: 6.27s\tremaining: 3.63s\n",
            "633:\tlearn: 0.2284127\ttotal: 6.28s\tremaining: 3.62s\n",
            "634:\tlearn: 0.2281669\ttotal: 6.29s\tremaining: 3.61s\n",
            "635:\tlearn: 0.2280987\ttotal: 6.29s\tremaining: 3.6s\n",
            "636:\tlearn: 0.2280386\ttotal: 6.3s\tremaining: 3.59s\n",
            "637:\tlearn: 0.2279642\ttotal: 6.31s\tremaining: 3.58s\n",
            "638:\tlearn: 0.2278198\ttotal: 6.32s\tremaining: 3.57s\n",
            "639:\tlearn: 0.2277446\ttotal: 6.33s\tremaining: 3.56s\n",
            "640:\tlearn: 0.2276825\ttotal: 6.34s\tremaining: 3.55s\n",
            "641:\tlearn: 0.2274437\ttotal: 6.35s\tremaining: 3.54s\n",
            "642:\tlearn: 0.2272739\ttotal: 6.36s\tremaining: 3.53s\n",
            "643:\tlearn: 0.2271030\ttotal: 6.37s\tremaining: 3.52s\n",
            "644:\tlearn: 0.2270021\ttotal: 6.38s\tremaining: 3.51s\n",
            "645:\tlearn: 0.2269464\ttotal: 6.38s\tremaining: 3.5s\n",
            "646:\tlearn: 0.2268521\ttotal: 6.39s\tremaining: 3.49s\n",
            "647:\tlearn: 0.2266681\ttotal: 6.4s\tremaining: 3.48s\n",
            "648:\tlearn: 0.2265801\ttotal: 6.41s\tremaining: 3.47s\n",
            "649:\tlearn: 0.2264393\ttotal: 6.42s\tremaining: 3.46s\n",
            "650:\tlearn: 0.2263794\ttotal: 6.43s\tremaining: 3.45s\n",
            "651:\tlearn: 0.2258992\ttotal: 6.44s\tremaining: 3.44s\n",
            "652:\tlearn: 0.2257332\ttotal: 6.45s\tremaining: 3.43s\n",
            "653:\tlearn: 0.2255790\ttotal: 6.46s\tremaining: 3.42s\n",
            "654:\tlearn: 0.2254344\ttotal: 6.47s\tremaining: 3.41s\n",
            "655:\tlearn: 0.2253672\ttotal: 6.48s\tremaining: 3.4s\n",
            "656:\tlearn: 0.2253068\ttotal: 6.49s\tremaining: 3.39s\n",
            "657:\tlearn: 0.2251217\ttotal: 6.5s\tremaining: 3.38s\n",
            "658:\tlearn: 0.2249619\ttotal: 6.51s\tremaining: 3.37s\n",
            "659:\tlearn: 0.2249017\ttotal: 6.51s\tremaining: 3.36s\n",
            "660:\tlearn: 0.2248424\ttotal: 6.52s\tremaining: 3.35s\n",
            "661:\tlearn: 0.2246746\ttotal: 6.54s\tremaining: 3.34s\n",
            "662:\tlearn: 0.2245765\ttotal: 6.55s\tremaining: 3.33s\n",
            "663:\tlearn: 0.2245017\ttotal: 6.56s\tremaining: 3.32s\n",
            "664:\tlearn: 0.2241205\ttotal: 6.57s\tremaining: 3.31s\n",
            "665:\tlearn: 0.2240097\ttotal: 6.57s\tremaining: 3.3s\n",
            "666:\tlearn: 0.2238843\ttotal: 6.58s\tremaining: 3.29s\n",
            "667:\tlearn: 0.2238109\ttotal: 6.59s\tremaining: 3.28s\n",
            "668:\tlearn: 0.2237376\ttotal: 6.6s\tremaining: 3.27s\n",
            "669:\tlearn: 0.2236315\ttotal: 6.61s\tremaining: 3.26s\n",
            "670:\tlearn: 0.2235704\ttotal: 6.62s\tremaining: 3.25s\n",
            "671:\tlearn: 0.2234583\ttotal: 6.63s\tremaining: 3.23s\n",
            "672:\tlearn: 0.2233654\ttotal: 6.64s\tremaining: 3.23s\n",
            "673:\tlearn: 0.2232909\ttotal: 6.65s\tremaining: 3.21s\n",
            "674:\tlearn: 0.2232282\ttotal: 6.66s\tremaining: 3.21s\n",
            "675:\tlearn: 0.2231186\ttotal: 6.68s\tremaining: 3.2s\n",
            "676:\tlearn: 0.2230434\ttotal: 6.69s\tremaining: 3.19s\n",
            "677:\tlearn: 0.2229515\ttotal: 6.7s\tremaining: 3.18s\n",
            "678:\tlearn: 0.2228176\ttotal: 6.7s\tremaining: 3.17s\n",
            "679:\tlearn: 0.2225280\ttotal: 6.71s\tremaining: 3.16s\n",
            "680:\tlearn: 0.2222582\ttotal: 6.72s\tremaining: 3.15s\n",
            "681:\tlearn: 0.2221906\ttotal: 6.73s\tremaining: 3.14s\n",
            "682:\tlearn: 0.2221102\ttotal: 6.74s\tremaining: 3.13s\n",
            "683:\tlearn: 0.2219072\ttotal: 6.75s\tremaining: 3.12s\n",
            "684:\tlearn: 0.2218281\ttotal: 6.76s\tremaining: 3.11s\n",
            "685:\tlearn: 0.2216300\ttotal: 6.77s\tremaining: 3.1s\n",
            "686:\tlearn: 0.2213647\ttotal: 6.78s\tremaining: 3.09s\n",
            "687:\tlearn: 0.2212893\ttotal: 6.79s\tremaining: 3.08s\n",
            "688:\tlearn: 0.2211407\ttotal: 6.79s\tremaining: 3.07s\n",
            "689:\tlearn: 0.2210622\ttotal: 6.8s\tremaining: 3.06s\n",
            "690:\tlearn: 0.2209910\ttotal: 6.81s\tremaining: 3.05s\n",
            "691:\tlearn: 0.2209127\ttotal: 6.82s\tremaining: 3.04s\n",
            "692:\tlearn: 0.2208407\ttotal: 6.83s\tremaining: 3.02s\n",
            "693:\tlearn: 0.2206398\ttotal: 6.84s\tremaining: 3.02s\n",
            "694:\tlearn: 0.2205057\ttotal: 6.85s\tremaining: 3s\n",
            "695:\tlearn: 0.2201819\ttotal: 6.86s\tremaining: 2.99s\n",
            "696:\tlearn: 0.2201108\ttotal: 6.86s\tremaining: 2.98s\n",
            "697:\tlearn: 0.2200495\ttotal: 6.87s\tremaining: 2.97s\n",
            "698:\tlearn: 0.2199743\ttotal: 6.88s\tremaining: 2.96s\n",
            "699:\tlearn: 0.2199065\ttotal: 6.89s\tremaining: 2.95s\n",
            "700:\tlearn: 0.2196411\ttotal: 6.9s\tremaining: 2.94s\n",
            "701:\tlearn: 0.2195667\ttotal: 6.91s\tremaining: 2.93s\n",
            "702:\tlearn: 0.2194777\ttotal: 6.92s\tremaining: 2.92s\n",
            "703:\tlearn: 0.2193905\ttotal: 6.93s\tremaining: 2.91s\n",
            "704:\tlearn: 0.2191008\ttotal: 6.94s\tremaining: 2.9s\n",
            "705:\tlearn: 0.2188606\ttotal: 6.95s\tremaining: 2.89s\n",
            "706:\tlearn: 0.2187833\ttotal: 6.96s\tremaining: 2.88s\n",
            "707:\tlearn: 0.2187011\ttotal: 6.97s\tremaining: 2.87s\n",
            "708:\tlearn: 0.2186288\ttotal: 6.98s\tremaining: 2.86s\n",
            "709:\tlearn: 0.2185395\ttotal: 6.99s\tremaining: 2.85s\n",
            "710:\tlearn: 0.2181229\ttotal: 7s\tremaining: 2.84s\n",
            "711:\tlearn: 0.2178953\ttotal: 7.01s\tremaining: 2.83s\n",
            "712:\tlearn: 0.2175896\ttotal: 7.02s\tremaining: 2.82s\n",
            "713:\tlearn: 0.2175245\ttotal: 7.03s\tremaining: 2.81s\n",
            "714:\tlearn: 0.2174243\ttotal: 7.03s\tremaining: 2.8s\n",
            "715:\tlearn: 0.2172596\ttotal: 7.04s\tremaining: 2.79s\n",
            "716:\tlearn: 0.2171949\ttotal: 7.05s\tremaining: 2.78s\n",
            "717:\tlearn: 0.2171229\ttotal: 7.06s\tremaining: 2.77s\n",
            "718:\tlearn: 0.2170571\ttotal: 7.07s\tremaining: 2.76s\n",
            "719:\tlearn: 0.2167616\ttotal: 7.08s\tremaining: 2.75s\n",
            "720:\tlearn: 0.2165606\ttotal: 7.09s\tremaining: 2.74s\n",
            "721:\tlearn: 0.2164917\ttotal: 7.09s\tremaining: 2.73s\n",
            "722:\tlearn: 0.2163677\ttotal: 7.11s\tremaining: 2.72s\n",
            "723:\tlearn: 0.2163002\ttotal: 7.12s\tremaining: 2.71s\n",
            "724:\tlearn: 0.2162242\ttotal: 7.13s\tremaining: 2.7s\n",
            "725:\tlearn: 0.2161571\ttotal: 7.13s\tremaining: 2.69s\n",
            "726:\tlearn: 0.2160466\ttotal: 7.14s\tremaining: 2.68s\n",
            "727:\tlearn: 0.2159790\ttotal: 7.15s\tremaining: 2.67s\n",
            "728:\tlearn: 0.2157980\ttotal: 7.16s\tremaining: 2.66s\n",
            "729:\tlearn: 0.2157380\ttotal: 7.17s\tremaining: 2.65s\n",
            "730:\tlearn: 0.2156350\ttotal: 7.18s\tremaining: 2.64s\n",
            "731:\tlearn: 0.2154708\ttotal: 7.19s\tremaining: 2.63s\n",
            "732:\tlearn: 0.2154091\ttotal: 7.2s\tremaining: 2.62s\n",
            "733:\tlearn: 0.2153297\ttotal: 7.21s\tremaining: 2.61s\n",
            "734:\tlearn: 0.2151233\ttotal: 7.22s\tremaining: 2.6s\n",
            "735:\tlearn: 0.2150615\ttotal: 7.22s\tremaining: 2.59s\n",
            "736:\tlearn: 0.2149938\ttotal: 7.23s\tremaining: 2.58s\n",
            "737:\tlearn: 0.2147553\ttotal: 7.24s\tremaining: 2.57s\n",
            "738:\tlearn: 0.2146207\ttotal: 7.25s\tremaining: 2.56s\n",
            "739:\tlearn: 0.2145470\ttotal: 7.26s\tremaining: 2.55s\n",
            "740:\tlearn: 0.2144518\ttotal: 7.27s\tremaining: 2.54s\n",
            "741:\tlearn: 0.2143867\ttotal: 7.28s\tremaining: 2.53s\n",
            "742:\tlearn: 0.2142668\ttotal: 7.28s\tremaining: 2.52s\n",
            "743:\tlearn: 0.2141963\ttotal: 7.29s\tremaining: 2.51s\n",
            "744:\tlearn: 0.2141323\ttotal: 7.3s\tremaining: 2.5s\n",
            "745:\tlearn: 0.2139558\ttotal: 7.31s\tremaining: 2.49s\n",
            "746:\tlearn: 0.2137970\ttotal: 7.32s\tremaining: 2.48s\n",
            "747:\tlearn: 0.2137353\ttotal: 7.33s\tremaining: 2.47s\n",
            "748:\tlearn: 0.2136308\ttotal: 7.33s\tremaining: 2.46s\n",
            "749:\tlearn: 0.2133899\ttotal: 7.34s\tremaining: 2.45s\n",
            "750:\tlearn: 0.2133136\ttotal: 7.36s\tremaining: 2.44s\n",
            "751:\tlearn: 0.2132544\ttotal: 7.37s\tremaining: 2.43s\n",
            "752:\tlearn: 0.2131625\ttotal: 7.38s\tremaining: 2.42s\n",
            "753:\tlearn: 0.2131096\ttotal: 7.38s\tremaining: 2.41s\n",
            "754:\tlearn: 0.2130231\ttotal: 7.39s\tremaining: 2.4s\n",
            "755:\tlearn: 0.2129615\ttotal: 7.4s\tremaining: 2.39s\n",
            "756:\tlearn: 0.2128857\ttotal: 7.42s\tremaining: 2.38s\n",
            "757:\tlearn: 0.2126849\ttotal: 7.42s\tremaining: 2.37s\n",
            "758:\tlearn: 0.2123273\ttotal: 7.43s\tremaining: 2.36s\n",
            "759:\tlearn: 0.2122260\ttotal: 7.44s\tremaining: 2.35s\n",
            "760:\tlearn: 0.2121530\ttotal: 7.45s\tremaining: 2.34s\n",
            "761:\tlearn: 0.2119897\ttotal: 7.46s\tremaining: 2.33s\n",
            "762:\tlearn: 0.2117501\ttotal: 7.47s\tremaining: 2.32s\n",
            "763:\tlearn: 0.2116856\ttotal: 7.48s\tremaining: 2.31s\n",
            "764:\tlearn: 0.2116054\ttotal: 7.49s\tremaining: 2.3s\n",
            "765:\tlearn: 0.2113232\ttotal: 7.5s\tremaining: 2.29s\n",
            "766:\tlearn: 0.2112637\ttotal: 7.51s\tremaining: 2.28s\n",
            "767:\tlearn: 0.2110296\ttotal: 7.52s\tremaining: 2.27s\n",
            "768:\tlearn: 0.2109689\ttotal: 7.53s\tremaining: 2.26s\n",
            "769:\tlearn: 0.2108141\ttotal: 7.54s\tremaining: 2.25s\n",
            "770:\tlearn: 0.2107070\ttotal: 7.55s\tremaining: 2.24s\n",
            "771:\tlearn: 0.2103697\ttotal: 7.56s\tremaining: 2.23s\n",
            "772:\tlearn: 0.2101802\ttotal: 7.57s\tremaining: 2.22s\n",
            "773:\tlearn: 0.2101169\ttotal: 7.58s\tremaining: 2.21s\n",
            "774:\tlearn: 0.2100588\ttotal: 7.59s\tremaining: 2.2s\n",
            "775:\tlearn: 0.2098546\ttotal: 7.6s\tremaining: 2.19s\n",
            "776:\tlearn: 0.2097950\ttotal: 7.61s\tremaining: 2.18s\n",
            "777:\tlearn: 0.2096682\ttotal: 7.62s\tremaining: 2.17s\n",
            "778:\tlearn: 0.2096062\ttotal: 7.63s\tremaining: 2.16s\n",
            "779:\tlearn: 0.2095445\ttotal: 7.64s\tremaining: 2.15s\n",
            "780:\tlearn: 0.2094298\ttotal: 7.64s\tremaining: 2.14s\n",
            "781:\tlearn: 0.2093731\ttotal: 7.66s\tremaining: 2.13s\n",
            "782:\tlearn: 0.2093215\ttotal: 7.67s\tremaining: 2.12s\n",
            "783:\tlearn: 0.2092649\ttotal: 7.68s\tremaining: 2.12s\n",
            "784:\tlearn: 0.2089850\ttotal: 7.69s\tremaining: 2.11s\n",
            "785:\tlearn: 0.2086092\ttotal: 7.7s\tremaining: 2.1s\n",
            "786:\tlearn: 0.2084586\ttotal: 7.71s\tremaining: 2.09s\n",
            "787:\tlearn: 0.2082093\ttotal: 7.72s\tremaining: 2.08s\n",
            "788:\tlearn: 0.2081538\ttotal: 7.73s\tremaining: 2.07s\n",
            "789:\tlearn: 0.2080964\ttotal: 7.73s\tremaining: 2.06s\n",
            "790:\tlearn: 0.2080149\ttotal: 7.75s\tremaining: 2.05s\n",
            "791:\tlearn: 0.2079622\ttotal: 7.76s\tremaining: 2.04s\n",
            "792:\tlearn: 0.2078911\ttotal: 7.77s\tremaining: 2.03s\n",
            "793:\tlearn: 0.2078194\ttotal: 7.78s\tremaining: 2.02s\n",
            "794:\tlearn: 0.2074946\ttotal: 7.8s\tremaining: 2.01s\n",
            "795:\tlearn: 0.2072729\ttotal: 7.82s\tremaining: 2s\n",
            "796:\tlearn: 0.2071937\ttotal: 7.84s\tremaining: 2s\n",
            "797:\tlearn: 0.2070332\ttotal: 7.86s\tremaining: 1.99s\n",
            "798:\tlearn: 0.2069782\ttotal: 7.87s\tremaining: 1.98s\n",
            "799:\tlearn: 0.2067406\ttotal: 7.89s\tremaining: 1.97s\n",
            "800:\tlearn: 0.2066352\ttotal: 7.91s\tremaining: 1.96s\n",
            "801:\tlearn: 0.2064604\ttotal: 7.92s\tremaining: 1.96s\n",
            "802:\tlearn: 0.2062258\ttotal: 7.94s\tremaining: 1.95s\n",
            "803:\tlearn: 0.2058623\ttotal: 7.96s\tremaining: 1.94s\n",
            "804:\tlearn: 0.2056277\ttotal: 7.98s\tremaining: 1.93s\n",
            "805:\tlearn: 0.2055735\ttotal: 8s\tremaining: 1.92s\n",
            "806:\tlearn: 0.2052672\ttotal: 8.01s\tremaining: 1.92s\n",
            "807:\tlearn: 0.2050556\ttotal: 8.03s\tremaining: 1.91s\n",
            "808:\tlearn: 0.2048861\ttotal: 8.05s\tremaining: 1.9s\n",
            "809:\tlearn: 0.2046651\ttotal: 8.06s\tremaining: 1.89s\n",
            "810:\tlearn: 0.2046083\ttotal: 8.08s\tremaining: 1.88s\n",
            "811:\tlearn: 0.2045527\ttotal: 8.1s\tremaining: 1.88s\n",
            "812:\tlearn: 0.2044099\ttotal: 8.12s\tremaining: 1.87s\n",
            "813:\tlearn: 0.2043546\ttotal: 8.13s\tremaining: 1.86s\n",
            "814:\tlearn: 0.2041188\ttotal: 8.15s\tremaining: 1.85s\n",
            "815:\tlearn: 0.2040091\ttotal: 8.17s\tremaining: 1.84s\n",
            "816:\tlearn: 0.2039298\ttotal: 8.19s\tremaining: 1.83s\n",
            "817:\tlearn: 0.2038732\ttotal: 8.2s\tremaining: 1.82s\n",
            "818:\tlearn: 0.2036552\ttotal: 8.22s\tremaining: 1.82s\n",
            "819:\tlearn: 0.2036016\ttotal: 8.24s\tremaining: 1.81s\n",
            "820:\tlearn: 0.2034547\ttotal: 8.26s\tremaining: 1.8s\n",
            "821:\tlearn: 0.2031866\ttotal: 8.27s\tremaining: 1.79s\n",
            "822:\tlearn: 0.2029464\ttotal: 8.29s\tremaining: 1.78s\n",
            "823:\tlearn: 0.2027393\ttotal: 8.31s\tremaining: 1.77s\n",
            "824:\tlearn: 0.2025643\ttotal: 8.32s\tremaining: 1.77s\n",
            "825:\tlearn: 0.2022820\ttotal: 8.34s\tremaining: 1.76s\n",
            "826:\tlearn: 0.2021106\ttotal: 8.36s\tremaining: 1.75s\n",
            "827:\tlearn: 0.2020552\ttotal: 8.38s\tremaining: 1.74s\n",
            "828:\tlearn: 0.2018173\ttotal: 8.4s\tremaining: 1.73s\n",
            "829:\tlearn: 0.2017176\ttotal: 8.42s\tremaining: 1.72s\n",
            "830:\tlearn: 0.2016653\ttotal: 8.43s\tremaining: 1.72s\n",
            "831:\tlearn: 0.2016084\ttotal: 8.45s\tremaining: 1.71s\n",
            "832:\tlearn: 0.2012807\ttotal: 8.47s\tremaining: 1.7s\n",
            "833:\tlearn: 0.2011808\ttotal: 8.48s\tremaining: 1.69s\n",
            "834:\tlearn: 0.2011102\ttotal: 8.5s\tremaining: 1.68s\n",
            "835:\tlearn: 0.2010596\ttotal: 8.52s\tremaining: 1.67s\n",
            "836:\tlearn: 0.2009513\ttotal: 8.54s\tremaining: 1.66s\n",
            "837:\tlearn: 0.2008985\ttotal: 8.56s\tremaining: 1.66s\n",
            "838:\tlearn: 0.2008161\ttotal: 8.58s\tremaining: 1.65s\n",
            "839:\tlearn: 0.2006903\ttotal: 8.6s\tremaining: 1.64s\n",
            "840:\tlearn: 0.2004593\ttotal: 8.62s\tremaining: 1.63s\n",
            "841:\tlearn: 0.2002308\ttotal: 8.63s\tremaining: 1.62s\n",
            "842:\tlearn: 0.1999538\ttotal: 8.65s\tremaining: 1.61s\n",
            "843:\tlearn: 0.1998982\ttotal: 8.67s\tremaining: 1.6s\n",
            "844:\tlearn: 0.1996970\ttotal: 8.69s\tremaining: 1.59s\n",
            "845:\tlearn: 0.1995519\ttotal: 8.71s\tremaining: 1.58s\n",
            "846:\tlearn: 0.1994989\ttotal: 8.72s\tremaining: 1.58s\n",
            "847:\tlearn: 0.1993696\ttotal: 8.74s\tremaining: 1.57s\n",
            "848:\tlearn: 0.1993165\ttotal: 8.76s\tremaining: 1.56s\n",
            "849:\tlearn: 0.1992124\ttotal: 8.78s\tremaining: 1.55s\n",
            "850:\tlearn: 0.1991435\ttotal: 8.79s\tremaining: 1.54s\n",
            "851:\tlearn: 0.1989189\ttotal: 8.81s\tremaining: 1.53s\n",
            "852:\tlearn: 0.1988654\ttotal: 8.83s\tremaining: 1.52s\n",
            "853:\tlearn: 0.1988147\ttotal: 8.85s\tremaining: 1.51s\n",
            "854:\tlearn: 0.1987351\ttotal: 8.87s\tremaining: 1.5s\n",
            "855:\tlearn: 0.1986084\ttotal: 8.88s\tremaining: 1.49s\n",
            "856:\tlearn: 0.1984260\ttotal: 8.9s\tremaining: 1.48s\n",
            "857:\tlearn: 0.1981133\ttotal: 8.92s\tremaining: 1.48s\n",
            "858:\tlearn: 0.1980124\ttotal: 8.93s\tremaining: 1.47s\n",
            "859:\tlearn: 0.1979608\ttotal: 8.95s\tremaining: 1.46s\n",
            "860:\tlearn: 0.1979090\ttotal: 8.97s\tremaining: 1.45s\n",
            "861:\tlearn: 0.1978591\ttotal: 8.99s\tremaining: 1.44s\n",
            "862:\tlearn: 0.1976275\ttotal: 9.01s\tremaining: 1.43s\n",
            "863:\tlearn: 0.1975757\ttotal: 9.03s\tremaining: 1.42s\n",
            "864:\tlearn: 0.1975185\ttotal: 9.04s\tremaining: 1.41s\n",
            "865:\tlearn: 0.1973581\ttotal: 9.06s\tremaining: 1.4s\n",
            "866:\tlearn: 0.1971592\ttotal: 9.08s\tremaining: 1.39s\n",
            "867:\tlearn: 0.1971069\ttotal: 9.09s\tremaining: 1.38s\n",
            "868:\tlearn: 0.1970095\ttotal: 9.11s\tremaining: 1.37s\n",
            "869:\tlearn: 0.1968289\ttotal: 9.13s\tremaining: 1.36s\n",
            "870:\tlearn: 0.1965639\ttotal: 9.15s\tremaining: 1.35s\n",
            "871:\tlearn: 0.1964659\ttotal: 9.16s\tremaining: 1.34s\n",
            "872:\tlearn: 0.1962330\ttotal: 9.18s\tremaining: 1.33s\n",
            "873:\tlearn: 0.1961816\ttotal: 9.2s\tremaining: 1.33s\n",
            "874:\tlearn: 0.1959823\ttotal: 9.22s\tremaining: 1.32s\n",
            "875:\tlearn: 0.1958999\ttotal: 9.23s\tremaining: 1.31s\n",
            "876:\tlearn: 0.1956154\ttotal: 9.25s\tremaining: 1.3s\n",
            "877:\tlearn: 0.1953436\ttotal: 9.27s\tremaining: 1.29s\n",
            "878:\tlearn: 0.1953005\ttotal: 9.29s\tremaining: 1.28s\n",
            "879:\tlearn: 0.1951003\ttotal: 9.31s\tremaining: 1.27s\n",
            "880:\tlearn: 0.1948798\ttotal: 9.32s\tremaining: 1.26s\n",
            "881:\tlearn: 0.1947713\ttotal: 9.34s\tremaining: 1.25s\n",
            "882:\tlearn: 0.1944469\ttotal: 9.36s\tremaining: 1.24s\n",
            "883:\tlearn: 0.1942443\ttotal: 9.38s\tremaining: 1.23s\n",
            "884:\tlearn: 0.1941731\ttotal: 9.39s\tremaining: 1.22s\n",
            "885:\tlearn: 0.1939566\ttotal: 9.42s\tremaining: 1.21s\n",
            "886:\tlearn: 0.1938549\ttotal: 9.43s\tremaining: 1.2s\n",
            "887:\tlearn: 0.1937085\ttotal: 9.45s\tremaining: 1.19s\n",
            "888:\tlearn: 0.1934749\ttotal: 9.47s\tremaining: 1.18s\n",
            "889:\tlearn: 0.1934248\ttotal: 9.48s\tremaining: 1.17s\n",
            "890:\tlearn: 0.1932279\ttotal: 9.5s\tremaining: 1.16s\n",
            "891:\tlearn: 0.1931782\ttotal: 9.52s\tremaining: 1.15s\n",
            "892:\tlearn: 0.1929965\ttotal: 9.53s\tremaining: 1.14s\n",
            "893:\tlearn: 0.1929494\ttotal: 9.55s\tremaining: 1.13s\n",
            "894:\tlearn: 0.1927321\ttotal: 9.57s\tremaining: 1.12s\n",
            "895:\tlearn: 0.1926062\ttotal: 9.58s\tremaining: 1.11s\n",
            "896:\tlearn: 0.1925574\ttotal: 9.6s\tremaining: 1.1s\n",
            "897:\tlearn: 0.1923001\ttotal: 9.69s\tremaining: 1.1s\n",
            "898:\tlearn: 0.1919862\ttotal: 9.74s\tremaining: 1.09s\n",
            "899:\tlearn: 0.1917396\ttotal: 9.8s\tremaining: 1.09s\n",
            "900:\tlearn: 0.1915974\ttotal: 9.87s\tremaining: 1.08s\n",
            "901:\tlearn: 0.1915185\ttotal: 9.94s\tremaining: 1.08s\n",
            "902:\tlearn: 0.1914685\ttotal: 9.99s\tremaining: 1.07s\n",
            "903:\tlearn: 0.1914192\ttotal: 10.1s\tremaining: 1.07s\n",
            "904:\tlearn: 0.1912461\ttotal: 10.1s\tremaining: 1.06s\n",
            "905:\tlearn: 0.1910538\ttotal: 10.2s\tremaining: 1.05s\n",
            "906:\tlearn: 0.1910062\ttotal: 10.2s\tremaining: 1.05s\n",
            "907:\tlearn: 0.1906833\ttotal: 10.3s\tremaining: 1.04s\n",
            "908:\tlearn: 0.1904580\ttotal: 10.3s\tremaining: 1.03s\n",
            "909:\tlearn: 0.1904137\ttotal: 10.3s\tremaining: 1.02s\n",
            "910:\tlearn: 0.1903681\ttotal: 10.4s\tremaining: 1.01s\n",
            "911:\tlearn: 0.1902184\ttotal: 10.4s\tremaining: 1.01s\n",
            "912:\tlearn: 0.1899782\ttotal: 10.5s\tremaining: 1s\n",
            "913:\tlearn: 0.1898797\ttotal: 10.6s\tremaining: 994ms\n",
            "914:\tlearn: 0.1897389\ttotal: 10.6s\tremaining: 986ms\n",
            "915:\tlearn: 0.1896582\ttotal: 10.7s\tremaining: 980ms\n",
            "916:\tlearn: 0.1896120\ttotal: 10.8s\tremaining: 973ms\n",
            "917:\tlearn: 0.1894172\ttotal: 10.8s\tremaining: 965ms\n",
            "918:\tlearn: 0.1893690\ttotal: 10.9s\tremaining: 957ms\n",
            "919:\tlearn: 0.1891375\ttotal: 10.9s\tremaining: 950ms\n",
            "920:\tlearn: 0.1890889\ttotal: 11s\tremaining: 942ms\n",
            "921:\tlearn: 0.1889894\ttotal: 11s\tremaining: 932ms\n",
            "922:\tlearn: 0.1887557\ttotal: 11.1s\tremaining: 924ms\n",
            "923:\tlearn: 0.1887071\ttotal: 11.1s\tremaining: 913ms\n",
            "924:\tlearn: 0.1886596\ttotal: 11.1s\tremaining: 902ms\n",
            "925:\tlearn: 0.1883816\ttotal: 11.2s\tremaining: 893ms\n",
            "926:\tlearn: 0.1883342\ttotal: 11.2s\tremaining: 882ms\n",
            "927:\tlearn: 0.1882863\ttotal: 11.2s\tremaining: 871ms\n",
            "928:\tlearn: 0.1881152\ttotal: 11.3s\tremaining: 861ms\n",
            "929:\tlearn: 0.1879200\ttotal: 11.3s\tremaining: 850ms\n",
            "930:\tlearn: 0.1878322\ttotal: 11.3s\tremaining: 840ms\n",
            "931:\tlearn: 0.1876283\ttotal: 11.4s\tremaining: 829ms\n",
            "932:\tlearn: 0.1875820\ttotal: 11.4s\tremaining: 819ms\n",
            "933:\tlearn: 0.1873866\ttotal: 11.4s\tremaining: 808ms\n",
            "934:\tlearn: 0.1872599\ttotal: 11.5s\tremaining: 799ms\n",
            "935:\tlearn: 0.1870271\ttotal: 11.5s\tremaining: 789ms\n",
            "936:\tlearn: 0.1869841\ttotal: 11.6s\tremaining: 778ms\n",
            "937:\tlearn: 0.1868997\ttotal: 11.6s\tremaining: 767ms\n",
            "938:\tlearn: 0.1868218\ttotal: 11.6s\tremaining: 757ms\n",
            "939:\tlearn: 0.1867792\ttotal: 11.7s\tremaining: 746ms\n",
            "940:\tlearn: 0.1867083\ttotal: 11.7s\tremaining: 734ms\n",
            "941:\tlearn: 0.1866624\ttotal: 11.7s\tremaining: 721ms\n",
            "942:\tlearn: 0.1863774\ttotal: 11.7s\tremaining: 710ms\n",
            "943:\tlearn: 0.1861955\ttotal: 11.8s\tremaining: 698ms\n",
            "944:\tlearn: 0.1861135\ttotal: 11.8s\tremaining: 687ms\n",
            "945:\tlearn: 0.1859799\ttotal: 11.8s\tremaining: 675ms\n",
            "946:\tlearn: 0.1858111\ttotal: 11.9s\tremaining: 664ms\n",
            "947:\tlearn: 0.1855907\ttotal: 11.9s\tremaining: 654ms\n",
            "948:\tlearn: 0.1855012\ttotal: 12s\tremaining: 644ms\n",
            "949:\tlearn: 0.1854555\ttotal: 12s\tremaining: 633ms\n",
            "950:\tlearn: 0.1852564\ttotal: 12.1s\tremaining: 622ms\n",
            "951:\tlearn: 0.1850503\ttotal: 12.1s\tremaining: 610ms\n",
            "952:\tlearn: 0.1850063\ttotal: 12.2s\tremaining: 599ms\n",
            "953:\tlearn: 0.1848963\ttotal: 12.2s\tremaining: 588ms\n",
            "954:\tlearn: 0.1847064\ttotal: 12.2s\tremaining: 576ms\n",
            "955:\tlearn: 0.1844920\ttotal: 12.3s\tremaining: 564ms\n",
            "956:\tlearn: 0.1842300\ttotal: 12.3s\tremaining: 553ms\n",
            "957:\tlearn: 0.1841864\ttotal: 12.4s\tremaining: 542ms\n",
            "958:\tlearn: 0.1839774\ttotal: 12.4s\tremaining: 531ms\n",
            "959:\tlearn: 0.1838544\ttotal: 12.5s\tremaining: 519ms\n",
            "960:\tlearn: 0.1838107\ttotal: 12.5s\tremaining: 508ms\n",
            "961:\tlearn: 0.1836068\ttotal: 12.6s\tremaining: 496ms\n",
            "962:\tlearn: 0.1833331\ttotal: 12.6s\tremaining: 484ms\n",
            "963:\tlearn: 0.1831985\ttotal: 12.6s\tremaining: 472ms\n",
            "964:\tlearn: 0.1831532\ttotal: 12.7s\tremaining: 459ms\n",
            "965:\tlearn: 0.1831102\ttotal: 12.7s\tremaining: 447ms\n",
            "966:\tlearn: 0.1829361\ttotal: 12.7s\tremaining: 434ms\n",
            "967:\tlearn: 0.1827274\ttotal: 12.8s\tremaining: 422ms\n",
            "968:\tlearn: 0.1826482\ttotal: 12.8s\tremaining: 408ms\n",
            "969:\tlearn: 0.1825699\ttotal: 12.8s\tremaining: 395ms\n",
            "970:\tlearn: 0.1823718\ttotal: 12.8s\tremaining: 383ms\n",
            "971:\tlearn: 0.1822423\ttotal: 12.8s\tremaining: 370ms\n",
            "972:\tlearn: 0.1820005\ttotal: 12.9s\tremaining: 357ms\n",
            "973:\tlearn: 0.1819601\ttotal: 12.9s\tremaining: 344ms\n",
            "974:\tlearn: 0.1818279\ttotal: 12.9s\tremaining: 331ms\n",
            "975:\tlearn: 0.1815904\ttotal: 12.9s\tremaining: 318ms\n",
            "976:\tlearn: 0.1815452\ttotal: 13s\tremaining: 305ms\n",
            "977:\tlearn: 0.1813593\ttotal: 13s\tremaining: 292ms\n",
            "978:\tlearn: 0.1811377\ttotal: 13s\tremaining: 279ms\n",
            "979:\tlearn: 0.1810524\ttotal: 13s\tremaining: 266ms\n",
            "980:\tlearn: 0.1809772\ttotal: 13.1s\tremaining: 253ms\n",
            "981:\tlearn: 0.1808536\ttotal: 13.1s\tremaining: 240ms\n",
            "982:\tlearn: 0.1807429\ttotal: 13.1s\tremaining: 226ms\n",
            "983:\tlearn: 0.1806981\ttotal: 13.1s\tremaining: 213ms\n",
            "984:\tlearn: 0.1804537\ttotal: 13.1s\tremaining: 200ms\n",
            "985:\tlearn: 0.1804088\ttotal: 13.1s\tremaining: 187ms\n",
            "986:\tlearn: 0.1803297\ttotal: 13.2s\tremaining: 173ms\n",
            "987:\tlearn: 0.1801361\ttotal: 13.2s\tremaining: 160ms\n",
            "988:\tlearn: 0.1800449\ttotal: 13.2s\tremaining: 147ms\n",
            "989:\tlearn: 0.1800027\ttotal: 13.2s\tremaining: 134ms\n",
            "990:\tlearn: 0.1799594\ttotal: 13.2s\tremaining: 120ms\n",
            "991:\tlearn: 0.1798683\ttotal: 13.3s\tremaining: 107ms\n",
            "992:\tlearn: 0.1797287\ttotal: 13.3s\tremaining: 93.9ms\n",
            "993:\tlearn: 0.1795578\ttotal: 13.4s\tremaining: 80.6ms\n",
            "994:\tlearn: 0.1793757\ttotal: 13.4s\tremaining: 67.2ms\n",
            "995:\tlearn: 0.1792158\ttotal: 13.4s\tremaining: 53.8ms\n",
            "996:\tlearn: 0.1791094\ttotal: 13.4s\tremaining: 40.4ms\n",
            "997:\tlearn: 0.1790364\ttotal: 13.5s\tremaining: 27ms\n",
            "998:\tlearn: 0.1788134\ttotal: 13.5s\tremaining: 13.5ms\n",
            "999:\tlearn: 0.1786021\ttotal: 13.5s\tremaining: 0us\n"
          ]
        },
        {
          "output_type": "execute_result",
          "data": {
            "text/plain": [
              "<catboost.core.CatBoostClassifier at 0x7d92fefe7d60>"
            ]
          },
          "metadata": {},
          "execution_count": 23
        }
      ]
    },
    {
      "cell_type": "code",
      "source": [
        "y_pred_log = catb_class.predict_proba(X_test)[:, 1]\n",
        "y_pred_target = catb_class.predict(X_test)"
      ],
      "metadata": {
        "id": "Ug7XAOiBZ76L"
      },
      "execution_count": 24,
      "outputs": []
    },
    {
      "cell_type": "code",
      "source": [
        "print(classification_report(y_test, y_pred_target))"
      ],
      "metadata": {
        "colab": {
          "base_uri": "https://localhost:8080/"
        },
        "id": "7ViOg109xqRO",
        "outputId": "508230b1-d044-4830-e03b-01a7ebf1b770"
      },
      "execution_count": 25,
      "outputs": [
        {
          "output_type": "stream",
          "name": "stdout",
          "text": [
            "              precision    recall  f1-score   support\n",
            "\n",
            "           0       0.90      0.98      0.94       262\n",
            "           1       0.91      0.58      0.71        72\n",
            "\n",
            "    accuracy                           0.90       334\n",
            "   macro avg       0.90      0.78      0.83       334\n",
            "weighted avg       0.90      0.90      0.89       334\n",
            "\n"
          ]
        }
      ]
    },
    {
      "cell_type": "code",
      "source": [
        "fpr, tpr, threshold = roc_curve(y_test, y_pred_log)\n",
        "roc_auc = auc(fpr, tpr)\n",
        "\n",
        "plt.plot(fpr, tpr, 'b', label = 'AUC = %0.2f' % roc_auc)\n",
        "plt.legend(loc = 'lower right')\n",
        "plt.plot([0, 1], [0, 1],'r--')\n",
        "plt.xlim([0, 1])\n",
        "plt.ylim([0, 1])\n",
        "plt.ylabel('TPR')\n",
        "plt.xlabel('FPR')\n",
        "plt.show()"
      ],
      "metadata": {
        "colab": {
          "base_uri": "https://localhost:8080/",
          "height": 455
        },
        "id": "B58IpRLyt9_T",
        "outputId": "45e471f1-f9ed-4947-acf2-bd6bb8e44769"
      },
      "execution_count": 26,
      "outputs": [
        {
          "output_type": "display_data",
          "data": {
            "text/plain": [
              "<Figure size 640x480 with 1 Axes>"
            ],
            "image/png": "[encoded data removed]"
          },
          "metadata": {}
        }
      ]
    },
    {
      "cell_type": "code",
      "source": [
        "lgb_class = LGBMClassifier(random_state=123)\n",
        "lgb_class.fit(X_train.astype(np.float32), y_train)"
      ],
      "metadata": {
        "colab": {
          "base_uri": "https://localhost:8080/",
          "height": 213
        },
        "id": "uPXXt2ISa3vd",
        "outputId": "28a49278-b8ea-4a05-e94f-53670fd39baf"
      },
      "execution_count": 27,
      "outputs": [
        {
          "output_type": "stream",
          "name": "stdout",
          "text": [
            "[LightGBM] [Info] Number of positive: 257, number of negative: 1078\n",
            "[LightGBM] [Warning] Auto-choosing row-wise multi-threading, the overhead of testing was 0.001280 seconds.\n",
            "You can set `force_row_wise=true` to remove the overhead.\n",
            "And if memory is not enough, you can set `force_col_wise=true`.\n",
            "[LightGBM] [Info] Total Bins 387\n",
            "[LightGBM] [Info] Number of data points in the train set: 1335, number of used features: 134\n",
            "[LightGBM] [Info] [binary:BoostFromScore]: pavg=0.192509 -> initscore=-1.433787\n",
            "[LightGBM] [Info] Start training from score -1.433787\n"
          ]
        },
        {
          "output_type": "execute_result",
          "data": {
            "text/plain": [
              "LGBMClassifier(random_state=123)"
            ],
            "text/html": [
              "<style>#sk-container-id-2 {color: black;background-color: white;}#sk-container-id-2 pre{padding: 0;}#sk-container-id-2 div.sk-toggleable {background-color: white;}#sk-container-id-2 label.sk-toggleable__label {cursor: pointer;display: block;width: 100%;margin-bottom: 0;padding: 0.3em;box-sizing: border-box;text-align: center;}#sk-container-id-2 label.sk-toggleable__label-arrow:before {content: \"▸\";float: left;margin-right: 0.25em;color: #696969;}#sk-container-id-2 label.sk-toggleable__label-arrow:hover:before {color: black;}#sk-container-id-2 div.sk-estimator:hover label.sk-toggleable__label-arrow:before {color: black;}#sk-container-id-2 div.sk-toggleable__content {max-height: 0;max-width: 0;overflow: hidden;text-align: left;background-color: #f0f8ff;}#sk-container-id-2 div.sk-toggleable__content pre {margin: 0.2em;color: black;border-radius: 0.25em;background-color: #f0f8ff;}#sk-container-id-2 input.sk-toggleable__control:checked~div.sk-toggleable__content {max-height: 200px;max-width: 100%;overflow: auto;}#sk-container-id-2 input.sk-toggleable__control:checked~label.sk-toggleable__label-arrow:before {content: \"▾\";}#sk-container-id-2 div.sk-estimator input.sk-toggleable__control:checked~label.sk-toggleable__label {background-color: #d4ebff;}#sk-container-id-2 div.sk-label input.sk-toggleable__control:checked~label.sk-toggleable__label {background-color: #d4ebff;}#sk-container-id-2 input.sk-hidden--visually {border: 0;clip: rect(1px 1px 1px 1px);clip: rect(1px, 1px, 1px, 1px);height: 1px;margin: -1px;overflow: hidden;padding: 0;position: absolute;width: 1px;}#sk-container-id-2 div.sk-estimator {font-family: monospace;background-color: #f0f8ff;border: 1px dotted black;border-radius: 0.25em;box-sizing: border-box;margin-bottom: 0.5em;}#sk-container-id-2 div.sk-estimator:hover {background-color: #d4ebff;}#sk-container-id-2 div.sk-parallel-item::after {content: \"\";width: 100%;border-bottom: 1px solid gray;flex-grow: 1;}#sk-container-id-2 div.sk-label:hover label.sk-toggleable__label {background-color: #d4ebff;}#sk-container-id-2 div.sk-serial::before {content: \"\";position: absolute;border-left: 1px solid gray;box-sizing: border-box;top: 0;bottom: 0;left: 50%;z-index: 0;}#sk-container-id-2 div.sk-serial {display: flex;flex-direction: column;align-items: center;background-color: white;padding-right: 0.2em;padding-left: 0.2em;position: relative;}#sk-container-id-2 div.sk-item {position: relative;z-index: 1;}#sk-container-id-2 div.sk-parallel {display: flex;align-items: stretch;justify-content: center;background-color: white;position: relative;}#sk-container-id-2 div.sk-item::before, #sk-container-id-2 div.sk-parallel-item::before {content: \"\";position: absolute;border-left: 1px solid gray;box-sizing: border-box;top: 0;bottom: 0;left: 50%;z-index: -1;}#sk-container-id-2 div.sk-parallel-item {display: flex;flex-direction: column;z-index: 1;position: relative;background-color: white;}#sk-container-id-2 div.sk-parallel-item:first-child::after {align-self: flex-end;width: 50%;}#sk-container-id-2 div.sk-parallel-item:last-child::after {align-self: flex-start;width: 50%;}#sk-container-id-2 div.sk-parallel-item:only-child::after {width: 0;}#sk-container-id-2 div.sk-dashed-wrapped {border: 1px dashed gray;margin: 0 0.4em 0.5em 0.4em;box-sizing: border-box;padding-bottom: 0.4em;background-color: white;}#sk-container-id-2 div.sk-label label {font-family: monospace;font-weight: bold;display: inline-block;line-height: 1.2em;}#sk-container-id-2 div.sk-label-container {text-align: center;}#sk-container-id-2 div.sk-container {/* jupyter's `normalize.less` sets `[hidden] { display: none; }` but bootstrap.min.css set `[hidden] { display: none !important; }` so we also need the `!important` here to be able to override the default hidden behavior on the sphinx rendered scikit-learn.org. See: https://github.com/scikit-learn/scikit-learn/issues/21755 */display: inline-block !important;position: relative;}#sk-container-id-2 div.sk-text-repr-fallback {display: none;}</style><div id=\"sk-container-id-2\" class=\"sk-top-container\"><div class=\"sk-text-repr-fallback\"><pre>LGBMClassifier(random_state=123)</pre><b>In a Jupyter environment, please rerun this cell to show the HTML representation or trust the notebook. <br />On GitHub, the HTML representation is unable to render, please try loading this page with nbviewer.org.</b></div><div class=\"sk-container\" hidden><div class=\"sk-item\"><div class=\"sk-estimator sk-toggleable\"><input class=\"sk-toggleable__control sk-hidden--visually\" id=\"sk-estimator-id-2\" type=\"checkbox\" checked><label for=\"sk-estimator-id-2\" class=\"sk-toggleable__label sk-toggleable__label-arrow\">LGBMClassifier</label><div class=\"sk-toggleable__content\"><pre>LGBMClassifier(random_state=123)</pre></div></div></div></div></div>"
            ]
          },
          "metadata": {},
          "execution_count": 27
        }
      ]
    },
    {
      "cell_type": "code",
      "source": [
        "y_pred_log = lgb_class.predict_proba(X_test.astype(np.float32))[:, 1]\n",
        "y_pred_target = lgb_class.predict(X_test.astype(np.float32))"
      ],
      "metadata": {
        "id": "aSx8w5uDbMM2"
      },
      "execution_count": 28,
      "outputs": []
    },
    {
      "cell_type": "code",
      "source": [
        "print(classification_report(y_test, y_pred_target))"
      ],
      "metadata": {
        "colab": {
          "base_uri": "https://localhost:8080/"
        },
        "id": "PF0wTSS0u9_5",
        "outputId": "1bf16e7c-29d8-4075-ad8e-f9a14473b834"
      },
      "execution_count": 29,
      "outputs": [
        {
          "output_type": "stream",
          "name": "stdout",
          "text": [
            "              precision    recall  f1-score   support\n",
            "\n",
            "           0       0.90      0.97      0.93       262\n",
            "           1       0.85      0.61      0.71        72\n",
            "\n",
            "    accuracy                           0.89       334\n",
            "   macro avg       0.87      0.79      0.82       334\n",
            "weighted avg       0.89      0.89      0.89       334\n",
            "\n"
          ]
        }
      ]
    },
    {
      "cell_type": "code",
      "source": [
        "fpr, tpr, threshold = roc_curve(y_test, y_pred_log)\n",
        "roc_auc = auc(fpr, tpr)\n",
        "\n",
        "plt.plot(fpr, tpr, 'b', label = 'AUC = %0.2f' % roc_auc)\n",
        "plt.legend(loc = 'lower right')\n",
        "plt.plot([0, 1], [0, 1],'r--')\n",
        "plt.xlim([0, 1])\n",
        "plt.ylim([0, 1])\n",
        "plt.ylabel('TPR')\n",
        "plt.xlabel('FPR')\n",
        "plt.show()"
      ],
      "metadata": {
        "colab": {
          "base_uri": "https://localhost:8080/",
          "height": 455
        },
        "id": "6rtXlYBLuGS7",
        "outputId": "a5f58873-5b6b-4d16-cde4-193b99da2e5d"
      },
      "execution_count": 30,
      "outputs": [
        {
          "output_type": "display_data",
          "data": {
            "text/plain": [
              "<Figure size 640x480 with 1 Axes>"
            ],
            "image/png": "[encoded data removed]"
          },
          "metadata": {}
        }
      ]
    },
    {
      "cell_type": "markdown",
      "source": [
        "# NN approach (rubert-tiny2)"
      ],
      "metadata": {
        "id": "b0WT0vj7w7qE"
      }
    },
    {
      "cell_type": "code",
      "source": [
        "!pip install -q transformers\n",
        "!pip install transformers[torch]\n",
        "!pip install datasets"
      ],
      "metadata": {
        "colab": {
          "base_uri": "https://localhost:8080/"
        },
        "id": "32h1hkbV-HAd",
        "outputId": "7b88cd50-a0b3-4d66-dbb7-1257941bc6dc"
      },
      "execution_count": 6,
      "outputs": [
        {
          "output_type": "stream",
          "name": "stdout",
          "text": [
            "\u001b[2K     \u001b[90m━━━━━━━━━━━━━━━━━━━━━━━━━━━━━━━━━━━━━━━━\u001b[0m \u001b[32m7.5/7.5 MB\u001b[0m \u001b[31m28.1 MB/s\u001b[0m eta \u001b[36m0:00:00\u001b[0m\n",
            "\u001b[2K     \u001b[90m━━━━━━━━━━━━━━━━━━━━━━━━━━━━━━━━━━━━━━\u001b[0m \u001b[32m268.8/268.8 kB\u001b[0m \u001b[31m21.9 MB/s\u001b[0m eta \u001b[36m0:00:00\u001b[0m\n",
            "\u001b[2K     \u001b[90m━━━━━━━━━━━━━━━━━━━━━━━━━━━━━━━━━━━━━━━━\u001b[0m \u001b[32m7.8/7.8 MB\u001b[0m \u001b[31m50.4 MB/s\u001b[0m eta \u001b[36m0:00:00\u001b[0m\n",
            "\u001b[2K     \u001b[90m━━━━━━━━━━━━━━━━━━━━━━━━━━━━━━━━━━━━━━━━\u001b[0m \u001b[32m1.3/1.3 MB\u001b[0m \u001b[31m50.8 MB/s\u001b[0m eta \u001b[36m0:00:00\u001b[0m\n",
            "\u001b[?25hRequirement already satisfied: transformers[torch] in /usr/local/lib/python3.10/dist-packages (4.32.1)\n",
            "Requirement already satisfied: filelock in /usr/local/lib/python3.10/dist-packages (from transformers[torch]) (3.12.2)\n",
            "Requirement already satisfied: huggingface-hub<1.0,>=0.15.1 in /usr/local/lib/python3.10/dist-packages (from transformers[torch]) (0.16.4)\n",
            "Requirement already satisfied: numpy>=1.17 in /usr/local/lib/python3.10/dist-packages (from transformers[torch]) (1.23.5)\n",
            "Requirement already satisfied: packaging>=20.0 in /usr/local/lib/python3.10/dist-packages (from transformers[torch]) (23.1)\n",
            "Requirement already satisfied: pyyaml>=5.1 in /usr/local/lib/python3.10/dist-packages (from transformers[torch]) (6.0.1)\n",
            "Requirement already satisfied: regex!=2019.12.17 in /usr/local/lib/python3.10/dist-packages (from transformers[torch]) (2023.6.3)\n",
            "Requirement already satisfied: requests in /usr/local/lib/python3.10/dist-packages (from transformers[torch]) (2.31.0)\n",
            "Requirement already satisfied: tokenizers!=0.11.3,<0.14,>=0.11.1 in /usr/local/lib/python3.10/dist-packages (from transformers[torch]) (0.13.3)\n",
            "Requirement already satisfied: safetensors>=0.3.1 in /usr/local/lib/python3.10/dist-packages (from transformers[torch]) (0.3.3)\n",
            "Requirement already satisfied: tqdm>=4.27 in /usr/local/lib/python3.10/dist-packages (from transformers[torch]) (4.66.1)\n",
            "Requirement already satisfied: torch!=1.12.0,>=1.9 in /usr/local/lib/python3.10/dist-packages (from transformers[torch]) (2.0.1+cu118)\n",
            "Collecting accelerate>=0.20.3 (from transformers[torch])\n",
            "  Downloading accelerate-0.22.0-py3-none-any.whl (251 kB)\n",
            "\u001b[2K     \u001b[90m━━━━━━━━━━━━━━━━━━━━━━━━━━━━━━━━━━━━━━━\u001b[0m \u001b[32m251.2/251.2 kB\u001b[0m \u001b[31m2.1 MB/s\u001b[0m eta \u001b[36m0:00:00\u001b[0m\n",
            "\u001b[?25hRequirement already satisfied: psutil in /usr/local/lib/python3.10/dist-packages (from accelerate>=0.20.3->transformers[torch]) (5.9.5)\n",
            "Requirement already satisfied: fsspec in /usr/local/lib/python3.10/dist-packages (from huggingface-hub<1.0,>=0.15.1->transformers[torch]) (2023.6.0)\n",
            "Requirement already satisfied: typing-extensions>=3.7.4.3 in /usr/local/lib/python3.10/dist-packages (from huggingface-hub<1.0,>=0.15.1->transformers[torch]) (4.7.1)\n",
            "Requirement already satisfied: sympy in /usr/local/lib/python3.10/dist-packages (from torch!=1.12.0,>=1.9->transformers[torch]) (1.12)\n",
            "Requirement already satisfied: networkx in /usr/local/lib/python3.10/dist-packages (from torch!=1.12.0,>=1.9->transformers[torch]) (3.1)\n",
            "Requirement already satisfied: jinja2 in /usr/local/lib/python3.10/dist-packages (from torch!=1.12.0,>=1.9->transformers[torch]) (3.1.2)\n",
            "Requirement already satisfied: triton==2.0.0 in /usr/local/lib/python3.10/dist-packages (from torch!=1.12.0,>=1.9->transformers[torch]) (2.0.0)\n",
            "Requirement already satisfied: cmake in /usr/local/lib/python3.10/dist-packages (from triton==2.0.0->torch!=1.12.0,>=1.9->transformers[torch]) (3.27.2)\n",
            "Requirement already satisfied: lit in /usr/local/lib/python3.10/dist-packages (from triton==2.0.0->torch!=1.12.0,>=1.9->transformers[torch]) (16.0.6)\n",
            "Requirement already satisfied: charset-normalizer<4,>=2 in /usr/local/lib/python3.10/dist-packages (from requests->transformers[torch]) (3.2.0)\n",
            "Requirement already satisfied: idna<4,>=2.5 in /usr/local/lib/python3.10/dist-packages (from requests->transformers[torch]) (3.4)\n",
            "Requirement already satisfied: urllib3<3,>=1.21.1 in /usr/local/lib/python3.10/dist-packages (from requests->transformers[torch]) (2.0.4)\n",
            "Requirement already satisfied: certifi>=2017.4.17 in /usr/local/lib/python3.10/dist-packages (from requests->transformers[torch]) (2023.7.22)\n",
            "Requirement already satisfied: MarkupSafe>=2.0 in /usr/local/lib/python3.10/dist-packages (from jinja2->torch!=1.12.0,>=1.9->transformers[torch]) (2.1.3)\n",
            "Requirement already satisfied: mpmath>=0.19 in /usr/local/lib/python3.10/dist-packages (from sympy->torch!=1.12.0,>=1.9->transformers[torch]) (1.3.0)\n",
            "Installing collected packages: accelerate\n",
            "Successfully installed accelerate-0.22.0\n",
            "Collecting datasets\n",
            "  Downloading datasets-2.14.4-py3-none-any.whl (519 kB)\n",
            "\u001b[2K     \u001b[90m━━━━━━━━━━━━━━━━━━━━━━━━━━━━━━━━━━━━━━\u001b[0m \u001b[32m519.3/519.3 kB\u001b[0m \u001b[31m11.1 MB/s\u001b[0m eta \u001b[36m0:00:00\u001b[0m\n",
            "\u001b[?25hRequirement already satisfied: numpy>=1.17 in /usr/local/lib/python3.10/dist-packages (from datasets) (1.23.5)\n",
            "Requirement already satisfied: pyarrow>=8.0.0 in /usr/local/lib/python3.10/dist-packages (from datasets) (9.0.0)\n",
            "Collecting dill<0.3.8,>=0.3.0 (from datasets)\n",
            "  Downloading dill-0.3.7-py3-none-any.whl (115 kB)\n",
            "\u001b[2K     \u001b[90m━━━━━━━━━━━━━━━━━━━━━━━━━━━━━━━━━━━━━━\u001b[0m \u001b[32m115.3/115.3 kB\u001b[0m \u001b[31m16.1 MB/s\u001b[0m eta \u001b[36m0:00:00\u001b[0m\n",
            "\u001b[?25hRequirement already satisfied: pandas in /usr/local/lib/python3.10/dist-packages (from datasets) (1.5.3)\n",
            "Requirement already satisfied: requests>=2.19.0 in /usr/local/lib/python3.10/dist-packages (from datasets) (2.31.0)\n",
            "Requirement already satisfied: tqdm>=4.62.1 in /usr/local/lib/python3.10/dist-packages (from datasets) (4.66.1)\n",
            "Collecting xxhash (from datasets)\n",
            "  Downloading xxhash-3.3.0-cp310-cp310-manylinux_2_17_x86_64.manylinux2014_x86_64.whl (194 kB)\n",
            "\u001b[2K     \u001b[90m━━━━━━━━━━━━━━━━━━━━━━━━━━━━━━━━━━━━━━\u001b[0m \u001b[32m194.1/194.1 kB\u001b[0m \u001b[31m25.1 MB/s\u001b[0m eta \u001b[36m0:00:00\u001b[0m\n",
            "\u001b[?25hCollecting multiprocess (from datasets)\n",
            "  Downloading multiprocess-0.70.15-py310-none-any.whl (134 kB)\n",
            "\u001b[2K     \u001b[90m━━━━━━━━━━━━━━━━━━━━━━━━━━━━━━━━━━━━━━\u001b[0m \u001b[32m134.8/134.8 kB\u001b[0m \u001b[31m19.6 MB/s\u001b[0m eta \u001b[36m0:00:00\u001b[0m\n",
            "\u001b[?25hRequirement already satisfied: fsspec[http]>=2021.11.1 in /usr/local/lib/python3.10/dist-packages (from datasets) (2023.6.0)\n",
            "Requirement already satisfied: aiohttp in /usr/local/lib/python3.10/dist-packages (from datasets) (3.8.5)\n",
            "Requirement already satisfied: huggingface-hub<1.0.0,>=0.14.0 in /usr/local/lib/python3.10/dist-packages (from datasets) (0.16.4)\n",
            "Requirement already satisfied: packaging in /usr/local/lib/python3.10/dist-packages (from datasets) (23.1)\n",
            "Requirement already satisfied: pyyaml>=5.1 in /usr/local/lib/python3.10/dist-packages (from datasets) (6.0.1)\n",
            "Requirement already satisfied: attrs>=17.3.0 in /usr/local/lib/python3.10/dist-packages (from aiohttp->datasets) (23.1.0)\n",
            "Requirement already satisfied: charset-normalizer<4.0,>=2.0 in /usr/local/lib/python3.10/dist-packages (from aiohttp->datasets) (3.2.0)\n",
            "Requirement already satisfied: multidict<7.0,>=4.5 in /usr/local/lib/python3.10/dist-packages (from aiohttp->datasets) (6.0.4)\n",
            "Requirement already satisfied: async-timeout<5.0,>=4.0.0a3 in /usr/local/lib/python3.10/dist-packages (from aiohttp->datasets) (4.0.3)\n",
            "Requirement already satisfied: yarl<2.0,>=1.0 in /usr/local/lib/python3.10/dist-packages (from aiohttp->datasets) (1.9.2)\n",
            "Requirement already satisfied: frozenlist>=1.1.1 in /usr/local/lib/python3.10/dist-packages (from aiohttp->datasets) (1.4.0)\n",
            "Requirement already satisfied: aiosignal>=1.1.2 in /usr/local/lib/python3.10/dist-packages (from aiohttp->datasets) (1.3.1)\n",
            "Requirement already satisfied: filelock in /usr/local/lib/python3.10/dist-packages (from huggingface-hub<1.0.0,>=0.14.0->datasets) (3.12.2)\n",
            "Requirement already satisfied: typing-extensions>=3.7.4.3 in /usr/local/lib/python3.10/dist-packages (from huggingface-hub<1.0.0,>=0.14.0->datasets) (4.7.1)\n",
            "Requirement already satisfied: idna<4,>=2.5 in /usr/local/lib/python3.10/dist-packages (from requests>=2.19.0->datasets) (3.4)\n",
            "Requirement already satisfied: urllib3<3,>=1.21.1 in /usr/local/lib/python3.10/dist-packages (from requests>=2.19.0->datasets) (2.0.4)\n",
            "Requirement already satisfied: certifi>=2017.4.17 in /usr/local/lib/python3.10/dist-packages (from requests>=2.19.0->datasets) (2023.7.22)\n",
            "Requirement already satisfied: python-dateutil>=2.8.1 in /usr/local/lib/python3.10/dist-packages (from pandas->datasets) (2.8.2)\n",
            "Requirement already satisfied: pytz>=2020.1 in /usr/local/lib/python3.10/dist-packages (from pandas->datasets) (2023.3)\n",
            "Requirement already satisfied: six>=1.5 in /usr/local/lib/python3.10/dist-packages (from python-dateutil>=2.8.1->pandas->datasets) (1.16.0)\n",
            "Installing collected packages: xxhash, dill, multiprocess, datasets\n",
            "Successfully installed datasets-2.14.4 dill-0.3.7 multiprocess-0.70.15 xxhash-3.3.0\n"
          ]
        }
      ]
    },
    {
      "cell_type": "markdown",
      "source": [
        "## Create dataset"
      ],
      "metadata": {
        "id": "3rgPH8i-Pizu"
      }
    },
    {
      "cell_type": "code",
      "source": [
        "from datasets import Dataset\n",
        "dataset = Dataset.from_pandas(train)\n",
        "dataset = dataset.remove_columns(['Unnamed: 0', 'sentence'])\n",
        "dataset = dataset.rename_column('norm_sent', 'text')\n",
        "dataset = dataset.train_test_split(test_size=0.2, shuffle=True, seed=123)"
      ],
      "metadata": {
        "id": "6GKEom3BPh-E"
      },
      "execution_count": 7,
      "outputs": []
    },
    {
      "cell_type": "code",
      "source": [
        "dataset"
      ],
      "metadata": {
        "colab": {
          "base_uri": "https://localhost:8080/"
        },
        "outputId": "69f9aba3-13f1-44e5-97e6-8cf2aad273fb",
        "id": "2AwordCZPh-F"
      },
      "execution_count": 8,
      "outputs": [
        {
          "output_type": "execute_result",
          "data": {
            "text/plain": [
              "DatasetDict({\n",
              "    train: Dataset({\n",
              "        features: ['label', 'text'],\n",
              "        num_rows: 1335\n",
              "    })\n",
              "    test: Dataset({\n",
              "        features: ['label', 'text'],\n",
              "        num_rows: 334\n",
              "    })\n",
              "})"
            ]
          },
          "metadata": {},
          "execution_count": 8
        }
      ]
    },
    {
      "cell_type": "markdown",
      "source": [
        "## Train"
      ],
      "metadata": {
        "id": "EhYH99iwPIWE"
      }
    },
    {
      "cell_type": "code",
      "source": [
        "import torch\n",
        "from transformers import AutoTokenizer, AutoModelForSequenceClassification, AutoConfig\n",
        "tokenizer = AutoTokenizer.from_pretrained(\"cointegrated/rubert-tiny2\")\n",
        "model = AutoModelForSequenceClassification.from_pretrained(\"cointegrated/rubert-tiny2\")"
      ],
      "metadata": {
        "colab": {
          "base_uri": "https://localhost:8080/"
        },
        "id": "RNgR1mNZxIXU",
        "outputId": "fd354360-30a8-4294-f997-8d28dd7b7883"
      },
      "execution_count": 7,
      "outputs": [
        {
          "output_type": "stream",
          "name": "stderr",
          "text": [
            "Some weights of BertForSequenceClassification were not initialized from the model checkpoint at cointegrated/rubert-tiny2 and are newly initialized: ['classifier.bias', 'classifier.weight']\n",
            "You should probably TRAIN this model on a down-stream task to be able to use it for predictions and inference.\n"
          ]
        }
      ]
    },
    {
      "cell_type": "code",
      "source": [
        "device = torch.device(\"cuda\" if torch.cuda.is_available() else \"cpu\")\n",
        "device"
      ],
      "metadata": {
        "colab": {
          "base_uri": "https://localhost:8080/"
        },
        "id": "tS7I6lYR-5uI",
        "outputId": "ac7e47b4-48f9-4f3e-c559-658444f2d08a"
      },
      "execution_count": 8,
      "outputs": [
        {
          "output_type": "execute_result",
          "data": {
            "text/plain": [
              "device(type='cuda')"
            ]
          },
          "metadata": {},
          "execution_count": 8
        }
      ]
    },
    {
      "cell_type": "code",
      "source": [
        "model.to(device)"
      ],
      "metadata": {
        "colab": {
          "base_uri": "https://localhost:8080/"
        },
        "id": "Pn8KPiOTDQZj",
        "outputId": "8e064044-ee73-4efd-f0e8-b9304ef8c3f7"
      },
      "execution_count": 9,
      "outputs": [
        {
          "output_type": "execute_result",
          "data": {
            "text/plain": [
              "BertForSequenceClassification(\n",
              "  (bert): BertModel(\n",
              "    (embeddings): BertEmbeddings(\n",
              "      (word_embeddings): Embedding(83828, 312, padding_idx=0)\n",
              "      (position_embeddings): Embedding(2048, 312)\n",
              "      (token_type_embeddings): Embedding(2, 312)\n",
              "      (LayerNorm): LayerNorm((312,), eps=1e-12, elementwise_affine=True)\n",
              "      (dropout): Dropout(p=0.1, inplace=False)\n",
              "    )\n",
              "    (encoder): BertEncoder(\n",
              "      (layer): ModuleList(\n",
              "        (0-2): 3 x BertLayer(\n",
              "          (attention): BertAttention(\n",
              "            (self): BertSelfAttention(\n",
              "              (query): Linear(in_features=312, out_features=312, bias=True)\n",
              "              (key): Linear(in_features=312, out_features=312, bias=True)\n",
              "              (value): Linear(in_features=312, out_features=312, bias=True)\n",
              "              (dropout): Dropout(p=0.1, inplace=False)\n",
              "            )\n",
              "            (output): BertSelfOutput(\n",
              "              (dense): Linear(in_features=312, out_features=312, bias=True)\n",
              "              (LayerNorm): LayerNorm((312,), eps=1e-12, elementwise_affine=True)\n",
              "              (dropout): Dropout(p=0.1, inplace=False)\n",
              "            )\n",
              "          )\n",
              "          (intermediate): BertIntermediate(\n",
              "            (dense): Linear(in_features=312, out_features=600, bias=True)\n",
              "            (intermediate_act_fn): GELUActivation()\n",
              "          )\n",
              "          (output): BertOutput(\n",
              "            (dense): Linear(in_features=600, out_features=312, bias=True)\n",
              "            (LayerNorm): LayerNorm((312,), eps=1e-12, elementwise_affine=True)\n",
              "            (dropout): Dropout(p=0.1, inplace=False)\n",
              "          )\n",
              "        )\n",
              "      )\n",
              "    )\n",
              "    (pooler): BertPooler(\n",
              "      (dense): Linear(in_features=312, out_features=312, bias=True)\n",
              "      (activation): Tanh()\n",
              "    )\n",
              "  )\n",
              "  (dropout): Dropout(p=0.1, inplace=False)\n",
              "  (classifier): Linear(in_features=312, out_features=2, bias=True)\n",
              ")"
            ]
          },
          "metadata": {},
          "execution_count": 9
        }
      ]
    },
    {
      "cell_type": "code",
      "source": [
        "config = AutoConfig.from_pretrained(\"cointegrated/rubert-tiny2\")\n",
        "config"
      ],
      "metadata": {
        "colab": {
          "base_uri": "https://localhost:8080/"
        },
        "id": "bUhof2A9-Bf2",
        "outputId": "2511b70d-46b2-49b0-8b45-2d87ee029903"
      },
      "execution_count": 10,
      "outputs": [
        {
          "output_type": "execute_result",
          "data": {
            "text/plain": [
              "BertConfig {\n",
              "  \"_name_or_path\": \"cointegrated/rubert-tiny2\",\n",
              "  \"architectures\": [\n",
              "    \"BertForPreTraining\"\n",
              "  ],\n",
              "  \"attention_probs_dropout_prob\": 0.1,\n",
              "  \"classifier_dropout\": null,\n",
              "  \"emb_size\": 312,\n",
              "  \"gradient_checkpointing\": false,\n",
              "  \"hidden_act\": \"gelu\",\n",
              "  \"hidden_dropout_prob\": 0.1,\n",
              "  \"hidden_size\": 312,\n",
              "  \"initializer_range\": 0.02,\n",
              "  \"intermediate_size\": 600,\n",
              "  \"layer_norm_eps\": 1e-12,\n",
              "  \"max_position_embeddings\": 2048,\n",
              "  \"model_type\": \"bert\",\n",
              "  \"num_attention_heads\": 12,\n",
              "  \"num_hidden_layers\": 3,\n",
              "  \"pad_token_id\": 0,\n",
              "  \"position_embedding_type\": \"absolute\",\n",
              "  \"torch_dtype\": \"float32\",\n",
              "  \"transformers_version\": \"4.32.1\",\n",
              "  \"type_vocab_size\": 2,\n",
              "  \"use_cache\": true,\n",
              "  \"vocab_size\": 83828\n",
              "}"
            ]
          },
          "metadata": {},
          "execution_count": 10
        }
      ]
    },
    {
      "cell_type": "code",
      "source": [
        "def tokenize_function(txt):\n",
        "    return tokenizer(txt[\"text\"], truncation=True)"
      ],
      "metadata": {
        "id": "H3Hc7wXZPh-G"
      },
      "execution_count": 11,
      "outputs": []
    },
    {
      "cell_type": "code",
      "source": [
        "tokenized_dataset = dataset.map(tokenize_function, batched=True)"
      ],
      "metadata": {
        "colab": {
          "base_uri": "https://localhost:8080/",
          "height": 81,
          "referenced_widgets": [
            "0a08775b64774b4e8c2fbf6b665a06f6",
            "126e29eefca94a40bddbedec79dfc37e",
            "07ebee5c201f48229779615e2055fbe1",
            "b0ac5c40985144f5a05edf0203fd6e7a",
            "a2af20f55dee4dc1a670fa7c342caab3",
            "97e61e2ab2f840eaa473b3132cff7851",
            "c33cac57854448b2b5adc9adf0d1407f",
            "d6341fa18e2b486fbfbdb1680562a4b6",
            "b58b2512d0e0491aa29425fe95602a3c",
            "9a296571c2604638adfe02bdbbfd68bd",
            "80961751e2cb480e81fc4ce4cf14dede",
            "deb3bec4620e4712853b92c10d225c83",
            "fb7be160b8bd43e8a1723049c762cdfa",
            "c4ab7ea423f84b6f9ca7674592aee83c",
            "73b178048def46e99d6fa21e1e8c201a",
            "eee285d20aab4e138c7a9e682968e4c3",
            "cd010ece3dd545b4b38afed327d14bfd",
            "df8cce35e91844b399d6c0df959dc8d4",
            "5c053f5689aa4d3ea951e3486c063a6c",
            "586ab9fbe6194a7c9ffc1c35362909b4",
            "0280c84517cd44d1b682b9ad2abf131e",
            "ed015c299f7a46cea8b072df349136e0"
          ]
        },
        "outputId": "38228c8b-09fd-4da2-a026-58d057ea68ed",
        "id": "vUHn_SZCPh-H"
      },
      "execution_count": 12,
      "outputs": [
        {
          "output_type": "display_data",
          "data": {
            "text/plain": [
              "Map:   0%|          | 0/1335 [00:00<?, ? examples/s]"
            ],
            "application/vnd.jupyter.widget-view+json": {
              "version_major": 2,
              "version_minor": 0,
              "model_id": "0a08775b64774b4e8c2fbf6b665a06f6"
            }
          },
          "metadata": {}
        },
        {
          "output_type": "display_data",
          "data": {
            "text/plain": [
              "Map:   0%|          | 0/334 [00:00<?, ? examples/s]"
            ],
            "application/vnd.jupyter.widget-view+json": {
              "version_major": 2,
              "version_minor": 0,
              "model_id": "deb3bec4620e4712853b92c10d225c83"
            }
          },
          "metadata": {}
        }
      ]
    },
    {
      "cell_type": "code",
      "source": [
        "from transformers import DataCollatorWithPadding\n",
        "\n",
        "data_collator = DataCollatorWithPadding(tokenizer=tokenizer)"
      ],
      "metadata": {
        "id": "i5wufW5qCB7p"
      },
      "execution_count": 13,
      "outputs": []
    },
    {
      "cell_type": "code",
      "source": [
        "from transformers import TrainingArguments, Trainer"
      ],
      "metadata": {
        "id": "_muJxs4oDH7-"
      },
      "execution_count": 14,
      "outputs": []
    },
    {
      "cell_type": "code",
      "source": [
        "training_args = TrainingArguments(\n",
        "    output_dir=\"rubert_tiny2\",\n",
        "    learning_rate=1e-5,\n",
        "    per_device_train_batch_size=16,\n",
        "    per_device_eval_batch_size=16,\n",
        "    num_train_epochs=12,\n",
        "    weight_decay=0.01,\n",
        "    logging_strategy = \"steps\",\n",
        "    evaluation_strategy=\"steps\",\n",
        "    save_strategy=\"steps\",\n",
        "    logging_steps=84,\n",
        "    save_steps=84,\n",
        "    seed=123,\n",
        "    fp16=True,\n",
        "    load_best_model_at_end=True,\n",
        ")\n",
        "\n",
        "trainer = Trainer(\n",
        "    model=model,\n",
        "    args=training_args,\n",
        "    train_dataset=tokenized_dataset[\"train\"],\n",
        "    eval_dataset=tokenized_dataset[\"test\"],\n",
        "    tokenizer=tokenizer,\n",
        "    data_collator=data_collator,\n",
        ")"
      ],
      "metadata": {
        "id": "SmYmkgnuDccA"
      },
      "execution_count": 15,
      "outputs": []
    },
    {
      "cell_type": "code",
      "source": [
        "trainer.train()"
      ],
      "metadata": {
        "colab": {
          "base_uri": "https://localhost:8080/",
          "height": 523
        },
        "id": "i6bOMjLDFhz2",
        "outputId": "f05a2df4-f825-45fb-bef5-0d9903aa7d91"
      },
      "execution_count": 16,
      "outputs": [
        {
          "output_type": "stream",
          "name": "stderr",
          "text": [
            "You're using a BertTokenizerFast tokenizer. Please note that with a fast tokenizer, using the `__call__` method is faster than using a method to encode the text followed by a call to the `pad` method to get a padded encoding.\n"
          ]
        },
        {
          "output_type": "display_data",
          "data": {
            "text/plain": [
              "<IPython.core.display.HTML object>"
            ],
            "text/html": [
              "\n",
              "    <div>\n",
              "      \n",
              "      <progress value='1008' max='1008' style='width:300px; height:20px; vertical-align: middle;'></progress>\n",
              "      [1008/1008 00:52, Epoch 12/12]\n",
              "    </div>\n",
              "    <table border=\"1\" class=\"dataframe\">\n",
              "  <thead>\n",
              " <tr style=\"text-align: left;\">\n",
              "      <th>Step</th>\n",
              "      <th>Training Loss</th>\n",
              "      <th>Validation Loss</th>\n",
              "    </tr>\n",
              "  </thead>\n",
              "  <tbody>\n",
              "    <tr>\n",
              "      <td>84</td>\n",
              "      <td>0.567700</td>\n",
              "      <td>0.494782</td>\n",
              "    </tr>\n",
              "    <tr>\n",
              "      <td>168</td>\n",
              "      <td>0.483400</td>\n",
              "      <td>0.452735</td>\n",
              "    </tr>\n",
              "    <tr>\n",
              "      <td>252</td>\n",
              "      <td>0.432800</td>\n",
              "      <td>0.389917</td>\n",
              "    </tr>\n",
              "    <tr>\n",
              "      <td>336</td>\n",
              "      <td>0.371700</td>\n",
              "      <td>0.343476</td>\n",
              "    </tr>\n",
              "    <tr>\n",
              "      <td>420</td>\n",
              "      <td>0.326200</td>\n",
              "      <td>0.324045</td>\n",
              "    </tr>\n",
              "    <tr>\n",
              "      <td>504</td>\n",
              "      <td>0.294600</td>\n",
              "      <td>0.318864</td>\n",
              "    </tr>\n",
              "    <tr>\n",
              "      <td>588</td>\n",
              "      <td>0.279500</td>\n",
              "      <td>0.312191</td>\n",
              "    </tr>\n",
              "    <tr>\n",
              "      <td>672</td>\n",
              "      <td>0.269500</td>\n",
              "      <td>0.308082</td>\n",
              "    </tr>\n",
              "    <tr>\n",
              "      <td>756</td>\n",
              "      <td>0.256900</td>\n",
              "      <td>0.311690</td>\n",
              "    </tr>\n",
              "    <tr>\n",
              "      <td>840</td>\n",
              "      <td>0.243900</td>\n",
              "      <td>0.310352</td>\n",
              "    </tr>\n",
              "    <tr>\n",
              "      <td>924</td>\n",
              "      <td>0.246700</td>\n",
              "      <td>0.308445</td>\n",
              "    </tr>\n",
              "    <tr>\n",
              "      <td>1008</td>\n",
              "      <td>0.246700</td>\n",
              "      <td>0.307420</td>\n",
              "    </tr>\n",
              "  </tbody>\n",
              "</table><p>"
            ]
          },
          "metadata": {}
        },
        {
          "output_type": "execute_result",
          "data": {
            "text/plain": [
              "TrainOutput(global_step=1008, training_loss=0.33495030138227677, metrics={'train_runtime': 54.1737, 'train_samples_per_second': 295.715, 'train_steps_per_second': 18.607, 'total_flos': 12967010065620.0, 'train_loss': 0.33495030138227677, 'epoch': 12.0})"
            ]
          },
          "metadata": {},
          "execution_count": 16
        }
      ]
    },
    {
      "cell_type": "markdown",
      "source": [
        "## Eval"
      ],
      "metadata": {
        "id": "T_0VNY3yPL46"
      }
    },
    {
      "cell_type": "code",
      "source": [
        "import torch\n",
        "from transformers import AutoTokenizer, AutoModelForSequenceClassification, AutoConfig\n",
        "device = torch.device(\"cuda\" if torch.cuda.is_available() else \"cpu\")\n",
        "\n",
        "tokenizer = AutoTokenizer.from_pretrained(\"/content/rubert_tiny2/checkpoint-672\")\n",
        "model = AutoModelForSequenceClassification.from_pretrained(\"/content/rubert_tiny2/checkpoint-672\")\n",
        "model.to(device)"
      ],
      "metadata": {
        "colab": {
          "base_uri": "https://localhost:8080/"
        },
        "id": "zrF7OCZ3IXs-",
        "outputId": "e76d1539-6c12-4a75-8fe0-6caf4d437283"
      },
      "execution_count": 5,
      "outputs": [
        {
          "output_type": "execute_result",
          "data": {
            "text/plain": [
              "BertForSequenceClassification(\n",
              "  (bert): BertModel(\n",
              "    (embeddings): BertEmbeddings(\n",
              "      (word_embeddings): Embedding(83828, 312, padding_idx=0)\n",
              "      (position_embeddings): Embedding(2048, 312)\n",
              "      (token_type_embeddings): Embedding(2, 312)\n",
              "      (LayerNorm): LayerNorm((312,), eps=1e-12, elementwise_affine=True)\n",
              "      (dropout): Dropout(p=0.1, inplace=False)\n",
              "    )\n",
              "    (encoder): BertEncoder(\n",
              "      (layer): ModuleList(\n",
              "        (0-2): 3 x BertLayer(\n",
              "          (attention): BertAttention(\n",
              "            (self): BertSelfAttention(\n",
              "              (query): Linear(in_features=312, out_features=312, bias=True)\n",
              "              (key): Linear(in_features=312, out_features=312, bias=True)\n",
              "              (value): Linear(in_features=312, out_features=312, bias=True)\n",
              "              (dropout): Dropout(p=0.1, inplace=False)\n",
              "            )\n",
              "            (output): BertSelfOutput(\n",
              "              (dense): Linear(in_features=312, out_features=312, bias=True)\n",
              "              (LayerNorm): LayerNorm((312,), eps=1e-12, elementwise_affine=True)\n",
              "              (dropout): Dropout(p=0.1, inplace=False)\n",
              "            )\n",
              "          )\n",
              "          (intermediate): BertIntermediate(\n",
              "            (dense): Linear(in_features=312, out_features=600, bias=True)\n",
              "            (intermediate_act_fn): GELUActivation()\n",
              "          )\n",
              "          (output): BertOutput(\n",
              "            (dense): Linear(in_features=600, out_features=312, bias=True)\n",
              "            (LayerNorm): LayerNorm((312,), eps=1e-12, elementwise_affine=True)\n",
              "            (dropout): Dropout(p=0.1, inplace=False)\n",
              "          )\n",
              "        )\n",
              "      )\n",
              "    )\n",
              "    (pooler): BertPooler(\n",
              "      (dense): Linear(in_features=312, out_features=312, bias=True)\n",
              "      (activation): Tanh()\n",
              "    )\n",
              "  )\n",
              "  (dropout): Dropout(p=0.1, inplace=False)\n",
              "  (classifier): Linear(in_features=312, out_features=2, bias=True)\n",
              ")"
            ]
          },
          "metadata": {},
          "execution_count": 5
        }
      ]
    },
    {
      "cell_type": "code",
      "source": [
        "tokenized_eval = tokenizer(dataset['test'][\"text\"], truncation=True, return_tensors='pt', padding=True)"
      ],
      "metadata": {
        "id": "whNTCOTpNX2c"
      },
      "execution_count": 9,
      "outputs": []
    },
    {
      "cell_type": "code",
      "source": [
        "with torch.no_grad():\n",
        "  preds = model(**tokenized_eval.to(device)).logits\n",
        "  labels = np.array(dataset['test']['label'])"
      ],
      "metadata": {
        "id": "-ZQWEN5dJcv9"
      },
      "execution_count": 10,
      "outputs": []
    },
    {
      "cell_type": "code",
      "source": [
        "# torch.cuda.empty_cache()"
      ],
      "metadata": {
        "id": "jCzXxl7iPwPz"
      },
      "execution_count": 11,
      "outputs": []
    },
    {
      "cell_type": "code",
      "source": [
        "prob = torch.nn.functional.softmax(preds, dim=1)[:, 1].cpu().detach().numpy()\n",
        "pred_target = preds.argmax(axis=1).cpu().detach().numpy()"
      ],
      "metadata": {
        "id": "4p6VP_zfK4hV"
      },
      "execution_count": 12,
      "outputs": []
    },
    {
      "cell_type": "code",
      "source": [
        "print(classification_report(labels, pred_target))"
      ],
      "metadata": {
        "colab": {
          "base_uri": "https://localhost:8080/"
        },
        "id": "r0OlEO6G48JB",
        "outputId": "6d911e55-7162-400b-e32a-ca29857a4c16"
      },
      "execution_count": 15,
      "outputs": [
        {
          "output_type": "stream",
          "name": "stdout",
          "text": [
            "              precision    recall  f1-score   support\n",
            "\n",
            "           0       0.94      0.90      0.92       271\n",
            "           1       0.63      0.75      0.68        63\n",
            "\n",
            "    accuracy                           0.87       334\n",
            "   macro avg       0.78      0.82      0.80       334\n",
            "weighted avg       0.88      0.87      0.87       334\n",
            "\n"
          ]
        }
      ]
    },
    {
      "cell_type": "code",
      "source": [
        "fpr, tpr, threshold = roc_curve(labels, prob)\n",
        "roc_auc = auc(fpr, tpr)\n",
        "\n",
        "plt.plot(fpr, tpr, 'b', label = 'AUC = %0.2f' % roc_auc)\n",
        "plt.legend(loc = 'lower right')\n",
        "plt.plot([0, 1], [0, 1],'r--')\n",
        "plt.xlim([0, 1])\n",
        "plt.ylim([0, 1])\n",
        "plt.ylabel('TPR')\n",
        "plt.xlabel('FPR')\n",
        "plt.show()"
      ],
      "metadata": {
        "colab": {
          "base_uri": "https://localhost:8080/",
          "height": 455
        },
        "id": "5kTV_r1N5NxG",
        "outputId": "ca2b5437-2656-4d47-e362-73d29895bef9"
      },
      "execution_count": 16,
      "outputs": [
        {
          "output_type": "display_data",
          "data": {
            "text/plain": [
              "<Figure size 640x480 with 1 Axes>"
            ],
            "image/png": "[encoded data removed]"
          },
          "metadata": {}
        }
      ]
    },
    {
      "cell_type": "code",
      "source": [
        "!zip -r tiny2_checkpoint.zip /content/rubert_tiny2/checkpoint-672"
      ],
      "metadata": {
        "colab": {
          "base_uri": "https://localhost:8080/"
        },
        "id": "4t-cSb8RSJ6v",
        "outputId": "0c8a06d0-98ab-4948-cdf6-a174745e7a5c"
      },
      "execution_count": 17,
      "outputs": [
        {
          "output_type": "stream",
          "name": "stdout",
          "text": [
            "  adding: content/rubert_tiny2/checkpoint-672/ (stored 0%)\n",
            "  adding: content/rubert_tiny2/checkpoint-672/optimizer.pt (deflated 88%)\n",
            "  adding: content/rubert_tiny2/checkpoint-672/config.json (deflated 49%)\n",
            "  adding: content/rubert_tiny2/checkpoint-672/pytorch_model.bin (deflated 8%)\n",
            "  adding: content/rubert_tiny2/checkpoint-672/tokenizer.json (deflated 73%)\n",
            "  adding: content/rubert_tiny2/checkpoint-672/scheduler.pt (deflated 49%)\n",
            "  adding: content/rubert_tiny2/checkpoint-672/trainer_state.json (deflated 76%)\n",
            "  adding: content/rubert_tiny2/checkpoint-672/vocab.txt (deflated 64%)\n",
            "  adding: content/rubert_tiny2/checkpoint-672/tokenizer_config.json (deflated 50%)\n",
            "  adding: content/rubert_tiny2/checkpoint-672/rng_state.pth (deflated 28%)\n",
            "  adding: content/rubert_tiny2/checkpoint-672/special_tokens_map.json (deflated 42%)\n",
            "  adding: content/rubert_tiny2/checkpoint-672/training_args.bin (deflated 49%)\n"
          ]
        }
      ]
    },
    {
      "cell_type": "markdown",
      "source": [
        "# Create result prediction"
      ],
      "metadata": {
        "id": "li91rLo6SyiB"
      }
    },
    {
      "cell_type": "code",
      "source": [
        "from datasets import Dataset\n",
        "test_dataset = Dataset.from_pandas(test)\n",
        "test_dataset = test_dataset.remove_columns(['Unnamed: 0', 'id', 'title', 'text'])\n",
        "test_dataset = test_dataset.rename_column('concat_text', 'text')"
      ],
      "metadata": {
        "id": "PNapDRWASwkQ"
      },
      "execution_count": 7,
      "outputs": []
    },
    {
      "cell_type": "code",
      "source": [
        "import torch\n",
        "from transformers import AutoTokenizer, AutoModelForSequenceClassification, AutoConfig\n",
        "device = torch.device(\"cuda\" if torch.cuda.is_available() else \"cpu\")\n",
        "\n",
        "tokenizer = AutoTokenizer.from_pretrained(\"/content/rubert_tiny2/checkpoint-672\")\n",
        "model = AutoModelForSequenceClassification.from_pretrained(\"/content/rubert_tiny2/checkpoint-672\")\n",
        "model.to(device)"
      ],
      "metadata": {
        "colab": {
          "base_uri": "https://localhost:8080/"
        },
        "id": "gXQoUyidZhKD",
        "outputId": "6a54cd1f-031e-453b-a315-721a85d18f52"
      },
      "execution_count": 8,
      "outputs": [
        {
          "output_type": "execute_result",
          "data": {
            "text/plain": [
              "BertForSequenceClassification(\n",
              "  (bert): BertModel(\n",
              "    (embeddings): BertEmbeddings(\n",
              "      (word_embeddings): Embedding(83828, 312, padding_idx=0)\n",
              "      (position_embeddings): Embedding(2048, 312)\n",
              "      (token_type_embeddings): Embedding(2, 312)\n",
              "      (LayerNorm): LayerNorm((312,), eps=1e-12, elementwise_affine=True)\n",
              "      (dropout): Dropout(p=0.1, inplace=False)\n",
              "    )\n",
              "    (encoder): BertEncoder(\n",
              "      (layer): ModuleList(\n",
              "        (0-2): 3 x BertLayer(\n",
              "          (attention): BertAttention(\n",
              "            (self): BertSelfAttention(\n",
              "              (query): Linear(in_features=312, out_features=312, bias=True)\n",
              "              (key): Linear(in_features=312, out_features=312, bias=True)\n",
              "              (value): Linear(in_features=312, out_features=312, bias=True)\n",
              "              (dropout): Dropout(p=0.1, inplace=False)\n",
              "            )\n",
              "            (output): BertSelfOutput(\n",
              "              (dense): Linear(in_features=312, out_features=312, bias=True)\n",
              "              (LayerNorm): LayerNorm((312,), eps=1e-12, elementwise_affine=True)\n",
              "              (dropout): Dropout(p=0.1, inplace=False)\n",
              "            )\n",
              "          )\n",
              "          (intermediate): BertIntermediate(\n",
              "            (dense): Linear(in_features=312, out_features=600, bias=True)\n",
              "            (intermediate_act_fn): GELUActivation()\n",
              "          )\n",
              "          (output): BertOutput(\n",
              "            (dense): Linear(in_features=600, out_features=312, bias=True)\n",
              "            (LayerNorm): LayerNorm((312,), eps=1e-12, elementwise_affine=True)\n",
              "            (dropout): Dropout(p=0.1, inplace=False)\n",
              "          )\n",
              "        )\n",
              "      )\n",
              "    )\n",
              "    (pooler): BertPooler(\n",
              "      (dense): Linear(in_features=312, out_features=312, bias=True)\n",
              "      (activation): Tanh()\n",
              "    )\n",
              "  )\n",
              "  (dropout): Dropout(p=0.1, inplace=False)\n",
              "  (classifier): Linear(in_features=312, out_features=2, bias=True)\n",
              ")"
            ]
          },
          "metadata": {},
          "execution_count": 8
        }
      ]
    },
    {
      "cell_type": "code",
      "source": [
        "tokenized_test = tokenizer(test_dataset[\"text\"], truncation=True, padding=True)"
      ],
      "metadata": {
        "id": "e2w0zbN7e_LS"
      },
      "execution_count": 9,
      "outputs": []
    },
    {
      "cell_type": "code",
      "source": [
        "tokenized_test_dataset = Dataset.from_dict(tokenized_test)\n",
        "tokenized_test_dataset.set_format(type=\"torch\", columns=[\"input_ids\", \"token_type_ids\", \"attention_mask\"])"
      ],
      "metadata": {
        "id": "ZfBJIR4VfPb5"
      },
      "execution_count": 10,
      "outputs": []
    },
    {
      "cell_type": "code",
      "source": [
        "from torch.utils.data import DataLoader\n",
        "dataloader = DataLoader(tokenized_test_dataset, batch_size=16)"
      ],
      "metadata": {
        "id": "J7ImmbmIiF4z"
      },
      "execution_count": 11,
      "outputs": []
    },
    {
      "cell_type": "code",
      "source": [
        "from tqdm.notebook import tqdm\n",
        "answ = []\n",
        "with torch.no_grad():\n",
        "  for batch in tqdm(dataloader):\n",
        "    input_ids, attention_mask, token_type_ids = batch['input_ids'].to(device), batch['attention_mask'].to(device), batch['token_type_ids'].to(device)\n",
        "    preds = model(input_ids=input_ids, attention_mask=attention_mask, token_type_ids=token_type_ids).logits\n",
        "    prob = torch.nn.functional.softmax(preds, dim=1)[:, 1].cpu().detach().numpy()\n",
        "    answ.append(prob)"
      ],
      "metadata": {
        "colab": {
          "base_uri": "https://localhost:8080/",
          "height": 49,
          "referenced_widgets": [
            "8535560f60904247b2e0ea80fabd6afd",
            "a1c6e6d0fdf84a3bbb3234a32f0a6e60",
            "026121b1507945e19f6f526227c23df7",
            "29be59612e1a4f31935235e857dad369",
            "f349ab32b53442a5b8177217939b2054",
            "6c03b159d5504dc683101d215f08634a",
            "4242d04bf8f64805b639a3d37af59041",
            "b1bbb7c9e58b4c8bb01985cb6204f76a",
            "c3a9f4e9844c4fa3be914fcdf6506b72",
            "e885e304487543a18651fd04b961ca3f",
            "443321ca486a4c6d85c85eb3746a3e9d"
          ]
        },
        "id": "pelQVXIsbL3i",
        "outputId": "b9d7b18e-7e36-4685-a057-b4a4f477bb1b"
      },
      "execution_count": 12,
      "outputs": [
        {
          "output_type": "display_data",
          "data": {
            "text/plain": [
              "  0%|          | 0/661 [00:00<?, ?it/s]"
            ],
            "application/vnd.jupyter.widget-view+json": {
              "version_major": 2,
              "version_minor": 0,
              "model_id": "8535560f60904247b2e0ea80fabd6afd"
            }
          },
          "metadata": {}
        }
      ]
    },
    {
      "cell_type": "code",
      "source": [
        "final_answ = np.hstack(answ)"
      ],
      "metadata": {
        "id": "_tKxdM5RbCxI"
      },
      "execution_count": 13,
      "outputs": []
    },
    {
      "cell_type": "code",
      "source": [
        "len(final_answ)"
      ],
      "metadata": {
        "colab": {
          "base_uri": "https://localhost:8080/"
        },
        "id": "H1xf_4gbmqie",
        "outputId": "0187f0d1-7f67-44b9-e70f-3a494839e233"
      },
      "execution_count": 14,
      "outputs": [
        {
          "output_type": "execute_result",
          "data": {
            "text/plain": [
              "10571"
            ]
          },
          "metadata": {},
          "execution_count": 14
        }
      ]
    },
    {
      "cell_type": "code",
      "source": [
        "max(final_answ), min(final_answ)"
      ],
      "metadata": {
        "colab": {
          "base_uri": "https://localhost:8080/"
        },
        "id": "DgS6oV8kok8w",
        "outputId": "170217b3-0ffa-446c-eb46-040eff62cea6"
      },
      "execution_count": 15,
      "outputs": [
        {
          "output_type": "execute_result",
          "data": {
            "text/plain": [
              "(0.7743889, 0.030078406)"
            ]
          },
          "metadata": {},
          "execution_count": 15
        }
      ]
    },
    {
      "cell_type": "code",
      "source": [
        "test['pred_prob'] = final_answ\n",
        "test = test.drop(columns=['concat_text'])\n",
        "test"
      ],
      "metadata": {
        "colab": {
          "base_uri": "https://localhost:8080/",
          "height": 423
        },
        "id": "BmP5pod1oPD5",
        "outputId": "2db390b7-5715-464e-f68b-bc809cc0aeab"
      },
      "execution_count": 16,
      "outputs": [
        {
          "output_type": "execute_result",
          "data": {
            "text/plain": [
              "       Unnamed: 0     id                                              title  \\\n",
              "0             0.0      0  Графики обслуживания внутриквартирного и внутр...   \n",
              "1             1.0      1                             На МЦД улучшили поезда   \n",
              "2             2.0      2  Катастрофа SSJ 100: вина за гибель 41 человека...   \n",
              "3             3.0      3                                     С Днем юриста!   \n",
              "4             4.0      4                        Охота на \"черного\" лесоруба   \n",
              "...           ...    ...                                                ...   \n",
              "10566     10565.0  10565  Российские гандболистки разгромили ДР Конго на...   \n",
              "10567     10566.0  10566                                 Опоздать на смерть   \n",
              "10568     10567.0  10567         Футбольный клуб «Ростов» оскорбил спонсора   \n",
              "10569     10568.0  10568  О состоянии пострадавших в ДТП в Кызылординско...   \n",
              "10570     10569.0  10569  Палату городов центров-субъектов России возгла...   \n",
              "\n",
              "                                                    text  pred_prob  \n",
              "0      В соответствии с п.42 Постановления Правительс...   0.067713  \n",
              "1      В Москве, на Белорусско-Савеловском центрально...   0.187879  \n",
              "2      Завершено расследование дела о крушении самоле...   0.245508  \n",
              "3      От души поздравляем сотрудников и преподавател...   0.048111  \n",
              "4      В Костроме прошел межрегиональный форум, посвя...   0.208443  \n",
              "...                                                  ...        ...  \n",
              "10566  Сборная России по гандболу одержала третью поб...   0.051821  \n",
              "10567  Барышня, очаровательная, подходит ко мне после...   0.415626  \n",
              "10568  История с многомиллионным займом, который «Гру...   0.087526  \n",
              "10569  НУР-СУЛТАН. КАЗИНФОРМ – Министр здравоохранени...   0.050970  \n",
              "10570  Новым председателем Палаты городов центров-суб...   0.031791  \n",
              "\n",
              "[10571 rows x 5 columns]"
            ],
            "text/html": [
              "\n",
              "  <div id=\"df-e5922605-0a7c-4704-b3f5-06f1415e4852\" class=\"colab-df-container\">\n",
              "    <div>\n",
              "<style scoped>\n",
              "    .dataframe tbody tr th:only-of-type {\n",
              "        vertical-align: middle;\n",
              "    }\n",
              "\n",
              "    .dataframe tbody tr th {\n",
              "        vertical-align: top;\n",
              "    }\n",
              "\n",
              "    .dataframe thead th {\n",
              "        text-align: right;\n",
              "    }\n",
              "</style>\n",
              "<table border=\"1\" class=\"dataframe\">\n",
              "  <thead>\n",
              "    <tr style=\"text-align: right;\">\n",
              "      <th></th>\n",
              "      <th>Unnamed: 0</th>\n",
              "      <th>id</th>\n",
              "      <th>title</th>\n",
              "      <th>text</th>\n",
              "      <th>pred_prob</th>\n",
              "    </tr>\n",
              "  </thead>\n",
              "  <tbody>\n",
              "    <tr>\n",
              "      <th>0</th>\n",
              "      <td>0.0</td>\n",
              "      <td>0</td>\n",
              "      <td>Графики обслуживания внутриквартирного и внутр...</td>\n",
              "      <td>В соответствии с п.42 Постановления Правительс...</td>\n",
              "      <td>0.067713</td>\n",
              "    </tr>\n",
              "    <tr>\n",
              "      <th>1</th>\n",
              "      <td>1.0</td>\n",
              "      <td>1</td>\n",
              "      <td>На МЦД улучшили поезда</td>\n",
              "      <td>В Москве, на Белорусско-Савеловском центрально...</td>\n",
              "      <td>0.187879</td>\n",
              "    </tr>\n",
              "    <tr>\n",
              "      <th>2</th>\n",
              "      <td>2.0</td>\n",
              "      <td>2</td>\n",
              "      <td>Катастрофа SSJ 100: вина за гибель 41 человека...</td>\n",
              "      <td>Завершено расследование дела о крушении самоле...</td>\n",
              "      <td>0.245508</td>\n",
              "    </tr>\n",
              "    <tr>\n",
              "      <th>3</th>\n",
              "      <td>3.0</td>\n",
              "      <td>3</td>\n",
              "      <td>С Днем юриста!</td>\n",
              "      <td>От души поздравляем сотрудников и преподавател...</td>\n",
              "      <td>0.048111</td>\n",
              "    </tr>\n",
              "    <tr>\n",
              "      <th>4</th>\n",
              "      <td>4.0</td>\n",
              "      <td>4</td>\n",
              "      <td>Охота на \"черного\" лесоруба</td>\n",
              "      <td>В Костроме прошел межрегиональный форум, посвя...</td>\n",
              "      <td>0.208443</td>\n",
              "    </tr>\n",
              "    <tr>\n",
              "      <th>...</th>\n",
              "      <td>...</td>\n",
              "      <td>...</td>\n",
              "      <td>...</td>\n",
              "      <td>...</td>\n",
              "      <td>...</td>\n",
              "    </tr>\n",
              "    <tr>\n",
              "      <th>10566</th>\n",
              "      <td>10565.0</td>\n",
              "      <td>10565</td>\n",
              "      <td>Российские гандболистки разгромили ДР Конго на...</td>\n",
              "      <td>Сборная России по гандболу одержала третью поб...</td>\n",
              "      <td>0.051821</td>\n",
              "    </tr>\n",
              "    <tr>\n",
              "      <th>10567</th>\n",
              "      <td>10566.0</td>\n",
              "      <td>10566</td>\n",
              "      <td>Опоздать на смерть</td>\n",
              "      <td>Барышня, очаровательная, подходит ко мне после...</td>\n",
              "      <td>0.415626</td>\n",
              "    </tr>\n",
              "    <tr>\n",
              "      <th>10568</th>\n",
              "      <td>10567.0</td>\n",
              "      <td>10567</td>\n",
              "      <td>Футбольный клуб «Ростов» оскорбил спонсора</td>\n",
              "      <td>История с многомиллионным займом, который «Гру...</td>\n",
              "      <td>0.087526</td>\n",
              "    </tr>\n",
              "    <tr>\n",
              "      <th>10569</th>\n",
              "      <td>10568.0</td>\n",
              "      <td>10568</td>\n",
              "      <td>О состоянии пострадавших в ДТП в Кызылординско...</td>\n",
              "      <td>НУР-СУЛТАН. КАЗИНФОРМ – Министр здравоохранени...</td>\n",
              "      <td>0.050970</td>\n",
              "    </tr>\n",
              "    <tr>\n",
              "      <th>10570</th>\n",
              "      <td>10569.0</td>\n",
              "      <td>10569</td>\n",
              "      <td>Палату городов центров-субъектов России возгла...</td>\n",
              "      <td>Новым председателем Палаты городов центров-суб...</td>\n",
              "      <td>0.031791</td>\n",
              "    </tr>\n",
              "  </tbody>\n",
              "</table>\n",
              "<p>10571 rows × 5 columns</p>\n",
              "</div>\n",
              "    <div class=\"colab-df-buttons\">\n",
              "\n",
              "  <div class=\"colab-df-container\">\n",
              "    <button class=\"colab-df-convert\" onclick=\"convertToInteractive('df-e5922605-0a7c-4704-b3f5-06f1415e4852')\"\n",
              "            title=\"Convert this dataframe to an interactive table.\"\n",
              "            style=\"display:none;\">\n",
              "\n",
              "  <svg xmlns=\"http://www.w3.org/2000/svg\" height=\"24px\" viewBox=\"0 -960 960 960\">\n",
              "    <path d=\"M120-120v-720h720v720H120Zm60-500h600v-160H180v160Zm220 220h160v-160H400v160Zm0 220h160v-160H400v160ZM180-400h160v-160H180v160Zm440 0h160v-160H620v160ZM180-180h160v-160H180v160Zm440 0h160v-160H620v160Z\"/>\n",
              "  </svg>\n",
              "    </button>\n",
              "\n",
              "  <style>\n",
              "    .colab-df-container {\n",
              "      display:flex;\n",
              "      gap: 12px;\n",
              "    }\n",
              "\n",
              "    .colab-df-convert {\n",
              "      background-color: #E8F0FE;\n",
              "      border: none;\n",
              "      border-radius: 50%;\n",
              "      cursor: pointer;\n",
              "      display: none;\n",
              "      fill: #1967D2;\n",
              "      height: 32px;\n",
              "      padding: 0 0 0 0;\n",
              "      width: 32px;\n",
              "    }\n",
              "\n",
              "    .colab-df-convert:hover {\n",
              "      background-color: #E2EBFA;\n",
              "      box-shadow: 0px 1px 2px rgba(60, 64, 67, 0.3), 0px 1px 3px 1px rgba(60, 64, 67, 0.15);\n",
              "      fill: #174EA6;\n",
              "    }\n",
              "\n",
              "    .colab-df-buttons div {\n",
              "      margin-bottom: 4px;\n",
              "    }\n",
              "\n",
              "    [theme=dark] .colab-df-convert {\n",
              "      background-color: #3B4455;\n",
              "      fill: #D2E3FC;\n",
              "    }\n",
              "\n",
              "    [theme=dark] .colab-df-convert:hover {\n",
              "      background-color: #434B5C;\n",
              "      box-shadow: 0px 1px 3px 1px rgba(0, 0, 0, 0.15);\n",
              "      filter: drop-shadow(0px 1px 2px rgba(0, 0, 0, 0.3));\n",
              "      fill: #FFFFFF;\n",
              "    }\n",
              "  </style>\n",
              "\n",
              "    <script>\n",
              "      const buttonEl =\n",
              "        document.querySelector('#df-e5922605-0a7c-4704-b3f5-06f1415e4852 button.colab-df-convert');\n",
              "      buttonEl.style.display =\n",
              "        google.colab.kernel.accessAllowed ? 'block' : 'none';\n",
              "\n",
              "      async function convertToInteractive(key) {\n",
              "        const element = document.querySelector('#df-e5922605-0a7c-4704-b3f5-06f1415e4852');\n",
              "        const dataTable =\n",
              "          await google.colab.kernel.invokeFunction('convertToInteractive',\n",
              "                                                    [key], {});\n",
              "        if (!dataTable) return;\n",
              "\n",
              "        const docLinkHtml = 'Like what you see? Visit the ' +\n",
              "          '<a target=\"_blank\" href=https://colab.research.google.com/notebooks/data_table.ipynb>data table notebook</a>'\n",
              "          + ' to learn more about interactive tables.';\n",
              "        element.innerHTML = '';\n",
              "        dataTable['output_type'] = 'display_data';\n",
              "        await google.colab.output.renderOutput(dataTable, element);\n",
              "        const docLink = document.createElement('div');\n",
              "        docLink.innerHTML = docLinkHtml;\n",
              "        element.appendChild(docLink);\n",
              "      }\n",
              "    </script>\n",
              "  </div>\n",
              "\n",
              "\n",
              "<div id=\"df-4f6aec69-14c1-4b76-903e-fd83365a9cfa\">\n",
              "  <button class=\"colab-df-quickchart\" onclick=\"quickchart('df-4f6aec69-14c1-4b76-903e-fd83365a9cfa')\"\n",
              "            title=\"Suggest charts.\"\n",
              "            style=\"display:none;\">\n",
              "\n",
              "<svg xmlns=\"http://www.w3.org/2000/svg\" height=\"24px\"viewBox=\"0 0 24 24\"\n",
              "     width=\"24px\">\n",
              "    <g>\n",
              "        <path d=\"M19 3H5c-1.1 0-2 .9-2 2v14c0 1.1.9 2 2 2h14c1.1 0 2-.9 2-2V5c0-1.1-.9-2-2-2zM9 17H7v-7h2v7zm4 0h-2V7h2v10zm4 0h-2v-4h2v4z\"/>\n",
              "    </g>\n",
              "</svg>\n",
              "  </button>\n",
              "\n",
              "<style>\n",
              "  .colab-df-quickchart {\n",
              "      --bg-color: #E8F0FE;\n",
              "      --fill-color: #1967D2;\n",
              "      --hover-bg-color: #E2EBFA;\n",
              "      --hover-fill-color: #174EA6;\n",
              "      --disabled-fill-color: #AAA;\n",
              "      --disabled-bg-color: #DDD;\n",
              "  }\n",
              "\n",
              "  [theme=dark] .colab-df-quickchart {\n",
              "      --bg-color: #3B4455;\n",
              "      --fill-color: #D2E3FC;\n",
              "      --hover-bg-color: #434B5C;\n",
              "      --hover-fill-color: #FFFFFF;\n",
              "      --disabled-bg-color: #3B4455;\n",
              "      --disabled-fill-color: #666;\n",
              "  }\n",
              "\n",
              "  .colab-df-quickchart {\n",
              "    background-color: var(--bg-color);\n",
              "    border: none;\n",
              "    border-radius: 50%;\n",
              "    cursor: pointer;\n",
              "    display: none;\n",
              "    fill: var(--fill-color);\n",
              "    height: 32px;\n",
              "    padding: 0;\n",
              "    width: 32px;\n",
              "  }\n",
              "\n",
              "  .colab-df-quickchart:hover {\n",
              "    background-color: var(--hover-bg-color);\n",
              "    box-shadow: 0 1px 2px rgba(60, 64, 67, 0.3), 0 1px 3px 1px rgba(60, 64, 67, 0.15);\n",
              "    fill: var(--button-hover-fill-color);\n",
              "  }\n",
              "\n",
              "  .colab-df-quickchart-complete:disabled,\n",
              "  .colab-df-quickchart-complete:disabled:hover {\n",
              "    background-color: var(--disabled-bg-color);\n",
              "    fill: var(--disabled-fill-color);\n",
              "    box-shadow: none;\n",
              "  }\n",
              "\n",
              "  .colab-df-spinner {\n",
              "    border: 2px solid var(--fill-color);\n",
              "    border-color: transparent;\n",
              "    border-bottom-color: var(--fill-color);\n",
              "    animation:\n",
              "      spin 1s steps(1) infinite;\n",
              "  }\n",
              "\n",
              "  @keyframes spin {\n",
              "    0% {\n",
              "      border-color: transparent;\n",
              "      border-bottom-color: var(--fill-color);\n",
              "      border-left-color: var(--fill-color);\n",
              "    }\n",
              "    20% {\n",
              "      border-color: transparent;\n",
              "      border-left-color: var(--fill-color);\n",
              "      border-top-color: var(--fill-color);\n",
              "    }\n",
              "    30% {\n",
              "      border-color: transparent;\n",
              "      border-left-color: var(--fill-color);\n",
              "      border-top-color: var(--fill-color);\n",
              "      border-right-color: var(--fill-color);\n",
              "    }\n",
              "    40% {\n",
              "      border-color: transparent;\n",
              "      border-right-color: var(--fill-color);\n",
              "      border-top-color: var(--fill-color);\n",
              "    }\n",
              "    60% {\n",
              "      border-color: transparent;\n",
              "      border-right-color: var(--fill-color);\n",
              "    }\n",
              "    80% {\n",
              "      border-color: transparent;\n",
              "      border-right-color: var(--fill-color);\n",
              "      border-bottom-color: var(--fill-color);\n",
              "    }\n",
              "    90% {\n",
              "      border-color: transparent;\n",
              "      border-bottom-color: var(--fill-color);\n",
              "    }\n",
              "  }\n",
              "</style>\n",
              "\n",
              "  <script>\n",
              "    async function quickchart(key) {\n",
              "      const quickchartButtonEl =\n",
              "        document.querySelector('#' + key + ' button');\n",
              "      quickchartButtonEl.disabled = true;  // To prevent multiple clicks.\n",
              "      quickchartButtonEl.classList.add('colab-df-spinner');\n",
              "      try {\n",
              "        const charts = await google.colab.kernel.invokeFunction(\n",
              "            'suggestCharts', [key], {});\n",
              "      } catch (error) {\n",
              "        console.error('Error during call to suggestCharts:', error);\n",
              "      }\n",
              "      quickchartButtonEl.classList.remove('colab-df-spinner');\n",
              "      quickchartButtonEl.classList.add('colab-df-quickchart-complete');\n",
              "    }\n",
              "    (() => {\n",
              "      let quickchartButtonEl =\n",
              "        document.querySelector('#df-4f6aec69-14c1-4b76-903e-fd83365a9cfa button');\n",
              "      quickchartButtonEl.style.display =\n",
              "        google.colab.kernel.accessAllowed ? 'block' : 'none';\n",
              "    })();\n",
              "  </script>\n",
              "</div>\n",
              "    </div>\n",
              "  </div>\n"
            ]
          },
          "metadata": {},
          "execution_count": 16
        }
      ]
    },
    {
      "cell_type": "code",
      "source": [
        "test.to_csv('result_test_task.csv')"
      ],
      "metadata": {
        "id": "rTIAhegOoiqe"
      },
      "execution_count": 17,
      "outputs": []
    },
    {
      "cell_type": "code",
      "source": [],
      "metadata": {
        "id": "qG8nCa3h9JVP"
      },
      "execution_count": null,
      "outputs": []
    }
  ]
}